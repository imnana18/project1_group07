{
 "cells": [
  {
   "cell_type": "code",
   "execution_count": 126,
   "id": "fefdcf6a",
   "metadata": {},
   "outputs": [],
   "source": [
    "# Dependencies and Setup\n",
    "import pandas as pd\n",
    "from pathlib import Path\n",
    "import plotly.express as px\n",
    "import scipy.stats as st\n",
    "import numpy as np\n",
    "from scipy.stats import linregress\n",
    "import plotly.graph_objects as go\n",
    "from plotly.offline import plot\n",
    "\n",
    "\n",
    "# Files to Load\n",
    "urban_csv = Path(\"../datasets/filtered_urban_rural_data.csv\")\n",
    "vaccination_csv = Path(\"../datasets/cleaned_covid19_vaccinations.csv\")\n",
    "deaths_csv = Path(\"../datasets/death_rates.csv\")"
   ]
  },
  {
   "cell_type": "code",
   "execution_count": 57,
   "id": "a3b8d09c",
   "metadata": {},
   "outputs": [
    {
     "data": {
      "text/html": [
       "<div>\n",
       "<style scoped>\n",
       "    .dataframe tbody tr th:only-of-type {\n",
       "        vertical-align: middle;\n",
       "    }\n",
       "\n",
       "    .dataframe tbody tr th {\n",
       "        vertical-align: top;\n",
       "    }\n",
       "\n",
       "    .dataframe thead th {\n",
       "        text-align: right;\n",
       "    }\n",
       "</style>\n",
       "<table border=\"1\" class=\"dataframe\">\n",
       "  <thead>\n",
       "    <tr style=\"text-align: right;\">\n",
       "      <th></th>\n",
       "      <th>State</th>\n",
       "      <th>Total doses administered by jurisdiction</th>\n",
       "      <th>Residents with a completed primary series</th>\n",
       "      <th>Percent of total pop with a completed primary series</th>\n",
       "      <th>Residents 18+ with a completed primary series</th>\n",
       "      <th>Percent of 18+ pop with a completed primary series</th>\n",
       "      <th>Residents 65+ with a completed primary series</th>\n",
       "      <th>Percent of 65+ pop with a completed primary series</th>\n",
       "    </tr>\n",
       "  </thead>\n",
       "  <tbody>\n",
       "    <tr>\n",
       "      <th>0</th>\n",
       "      <td>United States</td>\n",
       "      <td>676728782</td>\n",
       "      <td>230637348</td>\n",
       "      <td>69.5</td>\n",
       "      <td>204327579</td>\n",
       "      <td>79.1</td>\n",
       "      <td>51708613</td>\n",
       "      <td>94.4</td>\n",
       "    </tr>\n",
       "    <tr>\n",
       "      <th>1</th>\n",
       "      <td>Alaska</td>\n",
       "      <td>1328221</td>\n",
       "      <td>477592</td>\n",
       "      <td>65.3</td>\n",
       "      <td>418608</td>\n",
       "      <td>75.9</td>\n",
       "      <td>81999</td>\n",
       "      <td>89.5</td>\n",
       "    </tr>\n",
       "    <tr>\n",
       "      <th>2</th>\n",
       "      <td>Alabama</td>\n",
       "      <td>7018011</td>\n",
       "      <td>2611593</td>\n",
       "      <td>53.3</td>\n",
       "      <td>2416344</td>\n",
       "      <td>63.3</td>\n",
       "      <td>725159</td>\n",
       "      <td>85.3</td>\n",
       "    </tr>\n",
       "    <tr>\n",
       "      <th>3</th>\n",
       "      <td>Arkansas</td>\n",
       "      <td>4874091</td>\n",
       "      <td>1720209</td>\n",
       "      <td>57.0</td>\n",
       "      <td>1547724</td>\n",
       "      <td>66.8</td>\n",
       "      <td>440981</td>\n",
       "      <td>84.2</td>\n",
       "    </tr>\n",
       "    <tr>\n",
       "      <th>4</th>\n",
       "      <td>American Samoa</td>\n",
       "      <td>115281</td>\n",
       "      <td>42495</td>\n",
       "      <td>89.7</td>\n",
       "      <td>29952</td>\n",
       "      <td>95.0</td>\n",
       "      <td>2996</td>\n",
       "      <td>91.4</td>\n",
       "    </tr>\n",
       "    <tr>\n",
       "      <th>5</th>\n",
       "      <td>Arizona</td>\n",
       "      <td>14647405</td>\n",
       "      <td>4821350</td>\n",
       "      <td>66.2</td>\n",
       "      <td>4239941</td>\n",
       "      <td>75.2</td>\n",
       "      <td>1188267</td>\n",
       "      <td>90.8</td>\n",
       "    </tr>\n",
       "    <tr>\n",
       "      <th>6</th>\n",
       "      <td>California</td>\n",
       "      <td>88487852</td>\n",
       "      <td>29588939</td>\n",
       "      <td>74.9</td>\n",
       "      <td>25681179</td>\n",
       "      <td>83.9</td>\n",
       "      <td>5441414</td>\n",
       "      <td>93.2</td>\n",
       "    </tr>\n",
       "    <tr>\n",
       "      <th>7</th>\n",
       "      <td>Colorado</td>\n",
       "      <td>13033446</td>\n",
       "      <td>4248431</td>\n",
       "      <td>73.8</td>\n",
       "      <td>3729317</td>\n",
       "      <td>82.9</td>\n",
       "      <td>818078</td>\n",
       "      <td>95.0</td>\n",
       "    </tr>\n",
       "    <tr>\n",
       "      <th>8</th>\n",
       "      <td>Connecticut</td>\n",
       "      <td>9040989</td>\n",
       "      <td>2967081</td>\n",
       "      <td>83.2</td>\n",
       "      <td>2602449</td>\n",
       "      <td>91.7</td>\n",
       "      <td>654355</td>\n",
       "      <td>95.0</td>\n",
       "    </tr>\n",
       "    <tr>\n",
       "      <th>9</th>\n",
       "      <td>District of Columbia</td>\n",
       "      <td>2137377</td>\n",
       "      <td>644085</td>\n",
       "      <td>91.3</td>\n",
       "      <td>569871</td>\n",
       "      <td>95.0</td>\n",
       "      <td>95949</td>\n",
       "      <td>95.0</td>\n",
       "    </tr>\n",
       "    <tr>\n",
       "      <th>10</th>\n",
       "      <td>Delaware</td>\n",
       "      <td>2169125</td>\n",
       "      <td>715787</td>\n",
       "      <td>73.5</td>\n",
       "      <td>641112</td>\n",
       "      <td>83.2</td>\n",
       "      <td>193640</td>\n",
       "      <td>95.0</td>\n",
       "    </tr>\n",
       "    <tr>\n",
       "      <th>11</th>\n",
       "      <td>Florida</td>\n",
       "      <td>42267369</td>\n",
       "      <td>14971549</td>\n",
       "      <td>69.7</td>\n",
       "      <td>13732833</td>\n",
       "      <td>79.6</td>\n",
       "      <td>4244393</td>\n",
       "      <td>94.4</td>\n",
       "    </tr>\n",
       "    <tr>\n",
       "      <th>12</th>\n",
       "      <td>Federated States of Micronesia</td>\n",
       "      <td>209225</td>\n",
       "      <td>73692</td>\n",
       "      <td>72.0</td>\n",
       "      <td>50650</td>\n",
       "      <td>75.9</td>\n",
       "      <td>3952</td>\n",
       "      <td>82.1</td>\n",
       "    </tr>\n",
       "    <tr>\n",
       "      <th>13</th>\n",
       "      <td>Georgia</td>\n",
       "      <td>17124791</td>\n",
       "      <td>6103647</td>\n",
       "      <td>57.5</td>\n",
       "      <td>5494615</td>\n",
       "      <td>67.7</td>\n",
       "      <td>1315992</td>\n",
       "      <td>86.8</td>\n",
       "    </tr>\n",
       "    <tr>\n",
       "      <th>14</th>\n",
       "      <td>Guam</td>\n",
       "      <td>400123</td>\n",
       "      <td>144961</td>\n",
       "      <td>86.0</td>\n",
       "      <td>122016</td>\n",
       "      <td>95.0</td>\n",
       "      <td>17124</td>\n",
       "      <td>95.0</td>\n",
       "    </tr>\n",
       "    <tr>\n",
       "      <th>15</th>\n",
       "      <td>Hawaii</td>\n",
       "      <td>3530357</td>\n",
       "      <td>1156808</td>\n",
       "      <td>81.7</td>\n",
       "      <td>1010380</td>\n",
       "      <td>90.5</td>\n",
       "      <td>258069</td>\n",
       "      <td>95.0</td>\n",
       "    </tr>\n",
       "    <tr>\n",
       "      <th>16</th>\n",
       "      <td>Iowa</td>\n",
       "      <td>6131087</td>\n",
       "      <td>2036465</td>\n",
       "      <td>64.5</td>\n",
       "      <td>1818244</td>\n",
       "      <td>74.9</td>\n",
       "      <td>532779</td>\n",
       "      <td>95.0</td>\n",
       "    </tr>\n",
       "    <tr>\n",
       "      <th>17</th>\n",
       "      <td>Idaho</td>\n",
       "      <td>2894361</td>\n",
       "      <td>1012257</td>\n",
       "      <td>56.6</td>\n",
       "      <td>909671</td>\n",
       "      <td>67.9</td>\n",
       "      <td>263280</td>\n",
       "      <td>90.6</td>\n",
       "    </tr>\n",
       "    <tr>\n",
       "      <th>18</th>\n",
       "      <td>Illinois</td>\n",
       "      <td>26859342</td>\n",
       "      <td>9054864</td>\n",
       "      <td>71.5</td>\n",
       "      <td>7874806</td>\n",
       "      <td>79.9</td>\n",
       "      <td>1865350</td>\n",
       "      <td>91.3</td>\n",
       "    </tr>\n",
       "    <tr>\n",
       "      <th>19</th>\n",
       "      <td>Indiana</td>\n",
       "      <td>11201087</td>\n",
       "      <td>3896474</td>\n",
       "      <td>57.9</td>\n",
       "      <td>3511518</td>\n",
       "      <td>68.0</td>\n",
       "      <td>976073</td>\n",
       "      <td>89.9</td>\n",
       "    </tr>\n",
       "    <tr>\n",
       "      <th>20</th>\n",
       "      <td>Kansas</td>\n",
       "      <td>5387922</td>\n",
       "      <td>1909898</td>\n",
       "      <td>65.6</td>\n",
       "      <td>1688660</td>\n",
       "      <td>76.3</td>\n",
       "      <td>462691</td>\n",
       "      <td>95.0</td>\n",
       "    </tr>\n",
       "    <tr>\n",
       "      <th>21</th>\n",
       "      <td>Kentucky</td>\n",
       "      <td>7510137</td>\n",
       "      <td>2669260</td>\n",
       "      <td>59.7</td>\n",
       "      <td>2420948</td>\n",
       "      <td>69.9</td>\n",
       "      <td>671775</td>\n",
       "      <td>89.5</td>\n",
       "    </tr>\n",
       "    <tr>\n",
       "      <th>22</th>\n",
       "      <td>Louisiana</td>\n",
       "      <td>6961453</td>\n",
       "      <td>2561641</td>\n",
       "      <td>55.1</td>\n",
       "      <td>2350247</td>\n",
       "      <td>66.0</td>\n",
       "      <td>647350</td>\n",
       "      <td>87.4</td>\n",
       "    </tr>\n",
       "    <tr>\n",
       "      <th>23</th>\n",
       "      <td>Massachusetts</td>\n",
       "      <td>18179748</td>\n",
       "      <td>5825021</td>\n",
       "      <td>84.5</td>\n",
       "      <td>5087207</td>\n",
       "      <td>91.8</td>\n",
       "      <td>1229041</td>\n",
       "      <td>95.0</td>\n",
       "    </tr>\n",
       "    <tr>\n",
       "      <th>24</th>\n",
       "      <td>Maryland</td>\n",
       "      <td>14722268</td>\n",
       "      <td>4835390</td>\n",
       "      <td>80.0</td>\n",
       "      <td>4174362</td>\n",
       "      <td>88.6</td>\n",
       "      <td>954352</td>\n",
       "      <td>95.0</td>\n",
       "    </tr>\n",
       "    <tr>\n",
       "      <th>25</th>\n",
       "      <td>Maine</td>\n",
       "      <td>3542346</td>\n",
       "      <td>1124112</td>\n",
       "      <td>83.6</td>\n",
       "      <td>1006201</td>\n",
       "      <td>91.9</td>\n",
       "      <td>303658</td>\n",
       "      <td>95.0</td>\n",
       "    </tr>\n",
       "    <tr>\n",
       "      <th>26</th>\n",
       "      <td>Marshall Islands</td>\n",
       "      <td>101838</td>\n",
       "      <td>36066</td>\n",
       "      <td>46.4</td>\n",
       "      <td>26061</td>\n",
       "      <td>54.8</td>\n",
       "      <td>1463</td>\n",
       "      <td>39.2</td>\n",
       "    </tr>\n",
       "    <tr>\n",
       "      <th>27</th>\n",
       "      <td>Michigan</td>\n",
       "      <td>18769116</td>\n",
       "      <td>6254485</td>\n",
       "      <td>62.6</td>\n",
       "      <td>5615530</td>\n",
       "      <td>71.6</td>\n",
       "      <td>1615024</td>\n",
       "      <td>91.5</td>\n",
       "    </tr>\n",
       "    <tr>\n",
       "      <th>28</th>\n",
       "      <td>Minnesota</td>\n",
       "      <td>12829141</td>\n",
       "      <td>4082263</td>\n",
       "      <td>72.4</td>\n",
       "      <td>3533102</td>\n",
       "      <td>81.5</td>\n",
       "      <td>919278</td>\n",
       "      <td>95.0</td>\n",
       "    </tr>\n",
       "    <tr>\n",
       "      <th>29</th>\n",
       "      <td>Missouri</td>\n",
       "      <td>10509024</td>\n",
       "      <td>3634453</td>\n",
       "      <td>59.2</td>\n",
       "      <td>3276112</td>\n",
       "      <td>68.7</td>\n",
       "      <td>943084</td>\n",
       "      <td>88.8</td>\n",
       "    </tr>\n",
       "    <tr>\n",
       "      <th>30</th>\n",
       "      <td>Northern Mariana Islands</td>\n",
       "      <td>118647</td>\n",
       "      <td>44044</td>\n",
       "      <td>84.9</td>\n",
       "      <td>34479</td>\n",
       "      <td>95.0</td>\n",
       "      <td>3157</td>\n",
       "      <td>84.1</td>\n",
       "    </tr>\n",
       "    <tr>\n",
       "      <th>31</th>\n",
       "      <td>Mississippi</td>\n",
       "      <td>4307637</td>\n",
       "      <td>1600364</td>\n",
       "      <td>53.8</td>\n",
       "      <td>1462932</td>\n",
       "      <td>64.2</td>\n",
       "      <td>419847</td>\n",
       "      <td>86.3</td>\n",
       "    </tr>\n",
       "    <tr>\n",
       "      <th>32</th>\n",
       "      <td>Montana</td>\n",
       "      <td>1870288</td>\n",
       "      <td>633531</td>\n",
       "      <td>59.3</td>\n",
       "      <td>574244</td>\n",
       "      <td>68.3</td>\n",
       "      <td>184619</td>\n",
       "      <td>89.4</td>\n",
       "    </tr>\n",
       "    <tr>\n",
       "      <th>33</th>\n",
       "      <td>North Carolina</td>\n",
       "      <td>19434544</td>\n",
       "      <td>7018862</td>\n",
       "      <td>66.9</td>\n",
       "      <td>6316324</td>\n",
       "      <td>77.1</td>\n",
       "      <td>1811611</td>\n",
       "      <td>95.0</td>\n",
       "    </tr>\n",
       "    <tr>\n",
       "      <th>34</th>\n",
       "      <td>North Dakota</td>\n",
       "      <td>1314469</td>\n",
       "      <td>448757</td>\n",
       "      <td>58.9</td>\n",
       "      <td>403968</td>\n",
       "      <td>69.4</td>\n",
       "      <td>110011</td>\n",
       "      <td>91.8</td>\n",
       "    </tr>\n",
       "    <tr>\n",
       "      <th>35</th>\n",
       "      <td>Nebraska</td>\n",
       "      <td>3822190</td>\n",
       "      <td>1286860</td>\n",
       "      <td>66.5</td>\n",
       "      <td>1128474</td>\n",
       "      <td>77.4</td>\n",
       "      <td>297818</td>\n",
       "      <td>95.0</td>\n",
       "    </tr>\n",
       "    <tr>\n",
       "      <th>36</th>\n",
       "      <td>New Hampshire</td>\n",
       "      <td>2983122</td>\n",
       "      <td>982565</td>\n",
       "      <td>72.3</td>\n",
       "      <td>891141</td>\n",
       "      <td>80.7</td>\n",
       "      <td>257396</td>\n",
       "      <td>95.0</td>\n",
       "    </tr>\n",
       "    <tr>\n",
       "      <th>37</th>\n",
       "      <td>New Jersey</td>\n",
       "      <td>19826065</td>\n",
       "      <td>7043583</td>\n",
       "      <td>79.3</td>\n",
       "      <td>6195423</td>\n",
       "      <td>89.2</td>\n",
       "      <td>1439157</td>\n",
       "      <td>95.0</td>\n",
       "    </tr>\n",
       "    <tr>\n",
       "      <th>38</th>\n",
       "      <td>New Mexico</td>\n",
       "      <td>4750638</td>\n",
       "      <td>1582545</td>\n",
       "      <td>75.5</td>\n",
       "      <td>1385236</td>\n",
       "      <td>85.5</td>\n",
       "      <td>381631</td>\n",
       "      <td>95.0</td>\n",
       "    </tr>\n",
       "    <tr>\n",
       "      <th>39</th>\n",
       "      <td>Nevada</td>\n",
       "      <td>5590682</td>\n",
       "      <td>1966594</td>\n",
       "      <td>63.8</td>\n",
       "      <td>1777961</td>\n",
       "      <td>74.5</td>\n",
       "      <td>442765</td>\n",
       "      <td>89.3</td>\n",
       "    </tr>\n",
       "    <tr>\n",
       "      <th>40</th>\n",
       "      <td>New York</td>\n",
       "      <td>45177512</td>\n",
       "      <td>15763340</td>\n",
       "      <td>81.0</td>\n",
       "      <td>14013838</td>\n",
       "      <td>90.8</td>\n",
       "      <td>3195894</td>\n",
       "      <td>95.0</td>\n",
       "    </tr>\n",
       "    <tr>\n",
       "      <th>41</th>\n",
       "      <td>Ohio</td>\n",
       "      <td>21104771</td>\n",
       "      <td>7089473</td>\n",
       "      <td>60.7</td>\n",
       "      <td>6367505</td>\n",
       "      <td>69.9</td>\n",
       "      <td>1834185</td>\n",
       "      <td>89.6</td>\n",
       "    </tr>\n",
       "    <tr>\n",
       "      <th>42</th>\n",
       "      <td>Oklahoma</td>\n",
       "      <td>6773461</td>\n",
       "      <td>2399774</td>\n",
       "      <td>60.6</td>\n",
       "      <td>2173211</td>\n",
       "      <td>72.3</td>\n",
       "      <td>594390</td>\n",
       "      <td>93.6</td>\n",
       "    </tr>\n",
       "    <tr>\n",
       "      <th>43</th>\n",
       "      <td>Oregon</td>\n",
       "      <td>9399175</td>\n",
       "      <td>3065513</td>\n",
       "      <td>72.7</td>\n",
       "      <td>2726093</td>\n",
       "      <td>81.3</td>\n",
       "      <td>723687</td>\n",
       "      <td>94.5</td>\n",
       "    </tr>\n",
       "    <tr>\n",
       "      <th>44</th>\n",
       "      <td>Pennsylvania</td>\n",
       "      <td>27586432</td>\n",
       "      <td>9444480</td>\n",
       "      <td>73.8</td>\n",
       "      <td>8447352</td>\n",
       "      <td>83.1</td>\n",
       "      <td>2445124</td>\n",
       "      <td>95.0</td>\n",
       "    </tr>\n",
       "    <tr>\n",
       "      <th>45</th>\n",
       "      <td>Puerto Rico</td>\n",
       "      <td>7846764</td>\n",
       "      <td>2688410</td>\n",
       "      <td>84.2</td>\n",
       "      <td>2320780</td>\n",
       "      <td>88.5</td>\n",
       "      <td>609039</td>\n",
       "      <td>89.6</td>\n",
       "    </tr>\n",
       "    <tr>\n",
       "      <th>46</th>\n",
       "      <td>Republic of Palau</td>\n",
       "      <td>51971</td>\n",
       "      <td>18557</td>\n",
       "      <td>86.2</td>\n",
       "      <td>15957</td>\n",
       "      <td>95.0</td>\n",
       "      <td>1818</td>\n",
       "      <td>91.3</td>\n",
       "    </tr>\n",
       "    <tr>\n",
       "      <th>47</th>\n",
       "      <td>Rhode Island</td>\n",
       "      <td>2672092</td>\n",
       "      <td>932541</td>\n",
       "      <td>88.0</td>\n",
       "      <td>819194</td>\n",
       "      <td>95.0</td>\n",
       "      <td>200777</td>\n",
       "      <td>95.0</td>\n",
       "    </tr>\n",
       "    <tr>\n",
       "      <th>48</th>\n",
       "      <td>South Carolina</td>\n",
       "      <td>8666603</td>\n",
       "      <td>3091956</td>\n",
       "      <td>60.1</td>\n",
       "      <td>2811296</td>\n",
       "      <td>69.6</td>\n",
       "      <td>860836</td>\n",
       "      <td>91.9</td>\n",
       "    </tr>\n",
       "    <tr>\n",
       "      <th>49</th>\n",
       "      <td>South Dakota</td>\n",
       "      <td>1688981</td>\n",
       "      <td>588257</td>\n",
       "      <td>66.5</td>\n",
       "      <td>524003</td>\n",
       "      <td>78.5</td>\n",
       "      <td>159605</td>\n",
       "      <td>95.0</td>\n",
       "    </tr>\n",
       "    <tr>\n",
       "      <th>50</th>\n",
       "      <td>Tennessee</td>\n",
       "      <td>11323319</td>\n",
       "      <td>3852924</td>\n",
       "      <td>56.4</td>\n",
       "      <td>3528315</td>\n",
       "      <td>66.3</td>\n",
       "      <td>992506</td>\n",
       "      <td>86.8</td>\n",
       "    </tr>\n",
       "    <tr>\n",
       "      <th>51</th>\n",
       "      <td>Texas</td>\n",
       "      <td>52510128</td>\n",
       "      <td>18406327</td>\n",
       "      <td>63.5</td>\n",
       "      <td>16008968</td>\n",
       "      <td>74.1</td>\n",
       "      <td>3330121</td>\n",
       "      <td>89.2</td>\n",
       "    </tr>\n",
       "    <tr>\n",
       "      <th>52</th>\n",
       "      <td>Utah</td>\n",
       "      <td>6158852</td>\n",
       "      <td>2146291</td>\n",
       "      <td>66.9</td>\n",
       "      <td>1818842</td>\n",
       "      <td>80.0</td>\n",
       "      <td>354415</td>\n",
       "      <td>95.0</td>\n",
       "    </tr>\n",
       "    <tr>\n",
       "      <th>53</th>\n",
       "      <td>Virginia</td>\n",
       "      <td>19608172</td>\n",
       "      <td>6556391</td>\n",
       "      <td>76.8</td>\n",
       "      <td>5701220</td>\n",
       "      <td>85.4</td>\n",
       "      <td>1329147</td>\n",
       "      <td>95.0</td>\n",
       "    </tr>\n",
       "    <tr>\n",
       "      <th>54</th>\n",
       "      <td>Virgin Islands</td>\n",
       "      <td>155357</td>\n",
       "      <td>59085</td>\n",
       "      <td>55.6</td>\n",
       "      <td>54822</td>\n",
       "      <td>67.3</td>\n",
       "      <td>16354</td>\n",
       "      <td>79.9</td>\n",
       "    </tr>\n",
       "    <tr>\n",
       "      <th>55</th>\n",
       "      <td>Vermont</td>\n",
       "      <td>1762563</td>\n",
       "      <td>537193</td>\n",
       "      <td>86.1</td>\n",
       "      <td>467865</td>\n",
       "      <td>91.7</td>\n",
       "      <td>133976</td>\n",
       "      <td>95.0</td>\n",
       "    </tr>\n",
       "    <tr>\n",
       "      <th>56</th>\n",
       "      <td>Washington</td>\n",
       "      <td>17723480</td>\n",
       "      <td>5814062</td>\n",
       "      <td>76.4</td>\n",
       "      <td>5095049</td>\n",
       "      <td>85.6</td>\n",
       "      <td>1188410</td>\n",
       "      <td>95.0</td>\n",
       "    </tr>\n",
       "    <tr>\n",
       "      <th>57</th>\n",
       "      <td>Wisconsin</td>\n",
       "      <td>12444016</td>\n",
       "      <td>3981606</td>\n",
       "      <td>68.4</td>\n",
       "      <td>3539130</td>\n",
       "      <td>77.7</td>\n",
       "      <td>1008957</td>\n",
       "      <td>95.0</td>\n",
       "    </tr>\n",
       "    <tr>\n",
       "      <th>58</th>\n",
       "      <td>West Virginia</td>\n",
       "      <td>3098571</td>\n",
       "      <td>1071540</td>\n",
       "      <td>59.8</td>\n",
       "      <td>989169</td>\n",
       "      <td>69.0</td>\n",
       "      <td>321971</td>\n",
       "      <td>87.7</td>\n",
       "    </tr>\n",
       "    <tr>\n",
       "      <th>59</th>\n",
       "      <td>Wyoming</td>\n",
       "      <td>854132</td>\n",
       "      <td>307619</td>\n",
       "      <td>53.2</td>\n",
       "      <td>281901</td>\n",
       "      <td>63.3</td>\n",
       "      <td>87140</td>\n",
       "      <td>87.9</td>\n",
       "    </tr>\n",
       "  </tbody>\n",
       "</table>\n",
       "</div>"
      ],
      "text/plain": [
       "                             State  Total doses administered by jurisdiction  \\\n",
       "0                    United States                                 676728782   \n",
       "1                           Alaska                                   1328221   \n",
       "2                          Alabama                                   7018011   \n",
       "3                         Arkansas                                   4874091   \n",
       "4                   American Samoa                                    115281   \n",
       "5                          Arizona                                  14647405   \n",
       "6                       California                                  88487852   \n",
       "7                         Colorado                                  13033446   \n",
       "8                      Connecticut                                   9040989   \n",
       "9             District of Columbia                                   2137377   \n",
       "10                        Delaware                                   2169125   \n",
       "11                         Florida                                  42267369   \n",
       "12  Federated States of Micronesia                                    209225   \n",
       "13                         Georgia                                  17124791   \n",
       "14                            Guam                                    400123   \n",
       "15                          Hawaii                                   3530357   \n",
       "16                            Iowa                                   6131087   \n",
       "17                           Idaho                                   2894361   \n",
       "18                        Illinois                                  26859342   \n",
       "19                         Indiana                                  11201087   \n",
       "20                          Kansas                                   5387922   \n",
       "21                        Kentucky                                   7510137   \n",
       "22                       Louisiana                                   6961453   \n",
       "23                   Massachusetts                                  18179748   \n",
       "24                        Maryland                                  14722268   \n",
       "25                           Maine                                   3542346   \n",
       "26                Marshall Islands                                    101838   \n",
       "27                        Michigan                                  18769116   \n",
       "28                       Minnesota                                  12829141   \n",
       "29                        Missouri                                  10509024   \n",
       "30        Northern Mariana Islands                                    118647   \n",
       "31                     Mississippi                                   4307637   \n",
       "32                         Montana                                   1870288   \n",
       "33                  North Carolina                                  19434544   \n",
       "34                    North Dakota                                   1314469   \n",
       "35                        Nebraska                                   3822190   \n",
       "36                   New Hampshire                                   2983122   \n",
       "37                      New Jersey                                  19826065   \n",
       "38                      New Mexico                                   4750638   \n",
       "39                          Nevada                                   5590682   \n",
       "40                        New York                                  45177512   \n",
       "41                            Ohio                                  21104771   \n",
       "42                        Oklahoma                                   6773461   \n",
       "43                          Oregon                                   9399175   \n",
       "44                    Pennsylvania                                  27586432   \n",
       "45                     Puerto Rico                                   7846764   \n",
       "46               Republic of Palau                                     51971   \n",
       "47                    Rhode Island                                   2672092   \n",
       "48                  South Carolina                                   8666603   \n",
       "49                    South Dakota                                   1688981   \n",
       "50                       Tennessee                                  11323319   \n",
       "51                           Texas                                  52510128   \n",
       "52                            Utah                                   6158852   \n",
       "53                        Virginia                                  19608172   \n",
       "54                  Virgin Islands                                    155357   \n",
       "55                         Vermont                                   1762563   \n",
       "56                      Washington                                  17723480   \n",
       "57                       Wisconsin                                  12444016   \n",
       "58                   West Virginia                                   3098571   \n",
       "59                         Wyoming                                    854132   \n",
       "\n",
       "    Residents with a completed primary series  \\\n",
       "0                                   230637348   \n",
       "1                                      477592   \n",
       "2                                     2611593   \n",
       "3                                     1720209   \n",
       "4                                       42495   \n",
       "5                                     4821350   \n",
       "6                                    29588939   \n",
       "7                                     4248431   \n",
       "8                                     2967081   \n",
       "9                                      644085   \n",
       "10                                     715787   \n",
       "11                                   14971549   \n",
       "12                                      73692   \n",
       "13                                    6103647   \n",
       "14                                     144961   \n",
       "15                                    1156808   \n",
       "16                                    2036465   \n",
       "17                                    1012257   \n",
       "18                                    9054864   \n",
       "19                                    3896474   \n",
       "20                                    1909898   \n",
       "21                                    2669260   \n",
       "22                                    2561641   \n",
       "23                                    5825021   \n",
       "24                                    4835390   \n",
       "25                                    1124112   \n",
       "26                                      36066   \n",
       "27                                    6254485   \n",
       "28                                    4082263   \n",
       "29                                    3634453   \n",
       "30                                      44044   \n",
       "31                                    1600364   \n",
       "32                                     633531   \n",
       "33                                    7018862   \n",
       "34                                     448757   \n",
       "35                                    1286860   \n",
       "36                                     982565   \n",
       "37                                    7043583   \n",
       "38                                    1582545   \n",
       "39                                    1966594   \n",
       "40                                   15763340   \n",
       "41                                    7089473   \n",
       "42                                    2399774   \n",
       "43                                    3065513   \n",
       "44                                    9444480   \n",
       "45                                    2688410   \n",
       "46                                      18557   \n",
       "47                                     932541   \n",
       "48                                    3091956   \n",
       "49                                     588257   \n",
       "50                                    3852924   \n",
       "51                                   18406327   \n",
       "52                                    2146291   \n",
       "53                                    6556391   \n",
       "54                                      59085   \n",
       "55                                     537193   \n",
       "56                                    5814062   \n",
       "57                                    3981606   \n",
       "58                                    1071540   \n",
       "59                                     307619   \n",
       "\n",
       "    Percent of total pop with a completed primary series  \\\n",
       "0                                                69.5      \n",
       "1                                                65.3      \n",
       "2                                                53.3      \n",
       "3                                                57.0      \n",
       "4                                                89.7      \n",
       "5                                                66.2      \n",
       "6                                                74.9      \n",
       "7                                                73.8      \n",
       "8                                                83.2      \n",
       "9                                                91.3      \n",
       "10                                               73.5      \n",
       "11                                               69.7      \n",
       "12                                               72.0      \n",
       "13                                               57.5      \n",
       "14                                               86.0      \n",
       "15                                               81.7      \n",
       "16                                               64.5      \n",
       "17                                               56.6      \n",
       "18                                               71.5      \n",
       "19                                               57.9      \n",
       "20                                               65.6      \n",
       "21                                               59.7      \n",
       "22                                               55.1      \n",
       "23                                               84.5      \n",
       "24                                               80.0      \n",
       "25                                               83.6      \n",
       "26                                               46.4      \n",
       "27                                               62.6      \n",
       "28                                               72.4      \n",
       "29                                               59.2      \n",
       "30                                               84.9      \n",
       "31                                               53.8      \n",
       "32                                               59.3      \n",
       "33                                               66.9      \n",
       "34                                               58.9      \n",
       "35                                               66.5      \n",
       "36                                               72.3      \n",
       "37                                               79.3      \n",
       "38                                               75.5      \n",
       "39                                               63.8      \n",
       "40                                               81.0      \n",
       "41                                               60.7      \n",
       "42                                               60.6      \n",
       "43                                               72.7      \n",
       "44                                               73.8      \n",
       "45                                               84.2      \n",
       "46                                               86.2      \n",
       "47                                               88.0      \n",
       "48                                               60.1      \n",
       "49                                               66.5      \n",
       "50                                               56.4      \n",
       "51                                               63.5      \n",
       "52                                               66.9      \n",
       "53                                               76.8      \n",
       "54                                               55.6      \n",
       "55                                               86.1      \n",
       "56                                               76.4      \n",
       "57                                               68.4      \n",
       "58                                               59.8      \n",
       "59                                               53.2      \n",
       "\n",
       "    Residents 18+ with a completed primary series  \\\n",
       "0                                       204327579   \n",
       "1                                          418608   \n",
       "2                                         2416344   \n",
       "3                                         1547724   \n",
       "4                                           29952   \n",
       "5                                         4239941   \n",
       "6                                        25681179   \n",
       "7                                         3729317   \n",
       "8                                         2602449   \n",
       "9                                          569871   \n",
       "10                                         641112   \n",
       "11                                       13732833   \n",
       "12                                          50650   \n",
       "13                                        5494615   \n",
       "14                                         122016   \n",
       "15                                        1010380   \n",
       "16                                        1818244   \n",
       "17                                         909671   \n",
       "18                                        7874806   \n",
       "19                                        3511518   \n",
       "20                                        1688660   \n",
       "21                                        2420948   \n",
       "22                                        2350247   \n",
       "23                                        5087207   \n",
       "24                                        4174362   \n",
       "25                                        1006201   \n",
       "26                                          26061   \n",
       "27                                        5615530   \n",
       "28                                        3533102   \n",
       "29                                        3276112   \n",
       "30                                          34479   \n",
       "31                                        1462932   \n",
       "32                                         574244   \n",
       "33                                        6316324   \n",
       "34                                         403968   \n",
       "35                                        1128474   \n",
       "36                                         891141   \n",
       "37                                        6195423   \n",
       "38                                        1385236   \n",
       "39                                        1777961   \n",
       "40                                       14013838   \n",
       "41                                        6367505   \n",
       "42                                        2173211   \n",
       "43                                        2726093   \n",
       "44                                        8447352   \n",
       "45                                        2320780   \n",
       "46                                          15957   \n",
       "47                                         819194   \n",
       "48                                        2811296   \n",
       "49                                         524003   \n",
       "50                                        3528315   \n",
       "51                                       16008968   \n",
       "52                                        1818842   \n",
       "53                                        5701220   \n",
       "54                                          54822   \n",
       "55                                         467865   \n",
       "56                                        5095049   \n",
       "57                                        3539130   \n",
       "58                                         989169   \n",
       "59                                         281901   \n",
       "\n",
       "    Percent of 18+ pop with a completed primary series  \\\n",
       "0                                                79.1    \n",
       "1                                                75.9    \n",
       "2                                                63.3    \n",
       "3                                                66.8    \n",
       "4                                                95.0    \n",
       "5                                                75.2    \n",
       "6                                                83.9    \n",
       "7                                                82.9    \n",
       "8                                                91.7    \n",
       "9                                                95.0    \n",
       "10                                               83.2    \n",
       "11                                               79.6    \n",
       "12                                               75.9    \n",
       "13                                               67.7    \n",
       "14                                               95.0    \n",
       "15                                               90.5    \n",
       "16                                               74.9    \n",
       "17                                               67.9    \n",
       "18                                               79.9    \n",
       "19                                               68.0    \n",
       "20                                               76.3    \n",
       "21                                               69.9    \n",
       "22                                               66.0    \n",
       "23                                               91.8    \n",
       "24                                               88.6    \n",
       "25                                               91.9    \n",
       "26                                               54.8    \n",
       "27                                               71.6    \n",
       "28                                               81.5    \n",
       "29                                               68.7    \n",
       "30                                               95.0    \n",
       "31                                               64.2    \n",
       "32                                               68.3    \n",
       "33                                               77.1    \n",
       "34                                               69.4    \n",
       "35                                               77.4    \n",
       "36                                               80.7    \n",
       "37                                               89.2    \n",
       "38                                               85.5    \n",
       "39                                               74.5    \n",
       "40                                               90.8    \n",
       "41                                               69.9    \n",
       "42                                               72.3    \n",
       "43                                               81.3    \n",
       "44                                               83.1    \n",
       "45                                               88.5    \n",
       "46                                               95.0    \n",
       "47                                               95.0    \n",
       "48                                               69.6    \n",
       "49                                               78.5    \n",
       "50                                               66.3    \n",
       "51                                               74.1    \n",
       "52                                               80.0    \n",
       "53                                               85.4    \n",
       "54                                               67.3    \n",
       "55                                               91.7    \n",
       "56                                               85.6    \n",
       "57                                               77.7    \n",
       "58                                               69.0    \n",
       "59                                               63.3    \n",
       "\n",
       "    Residents 65+ with a completed primary series  \\\n",
       "0                                        51708613   \n",
       "1                                           81999   \n",
       "2                                          725159   \n",
       "3                                          440981   \n",
       "4                                            2996   \n",
       "5                                         1188267   \n",
       "6                                         5441414   \n",
       "7                                          818078   \n",
       "8                                          654355   \n",
       "9                                           95949   \n",
       "10                                         193640   \n",
       "11                                        4244393   \n",
       "12                                           3952   \n",
       "13                                        1315992   \n",
       "14                                          17124   \n",
       "15                                         258069   \n",
       "16                                         532779   \n",
       "17                                         263280   \n",
       "18                                        1865350   \n",
       "19                                         976073   \n",
       "20                                         462691   \n",
       "21                                         671775   \n",
       "22                                         647350   \n",
       "23                                        1229041   \n",
       "24                                         954352   \n",
       "25                                         303658   \n",
       "26                                           1463   \n",
       "27                                        1615024   \n",
       "28                                         919278   \n",
       "29                                         943084   \n",
       "30                                           3157   \n",
       "31                                         419847   \n",
       "32                                         184619   \n",
       "33                                        1811611   \n",
       "34                                         110011   \n",
       "35                                         297818   \n",
       "36                                         257396   \n",
       "37                                        1439157   \n",
       "38                                         381631   \n",
       "39                                         442765   \n",
       "40                                        3195894   \n",
       "41                                        1834185   \n",
       "42                                         594390   \n",
       "43                                         723687   \n",
       "44                                        2445124   \n",
       "45                                         609039   \n",
       "46                                           1818   \n",
       "47                                         200777   \n",
       "48                                         860836   \n",
       "49                                         159605   \n",
       "50                                         992506   \n",
       "51                                        3330121   \n",
       "52                                         354415   \n",
       "53                                        1329147   \n",
       "54                                          16354   \n",
       "55                                         133976   \n",
       "56                                        1188410   \n",
       "57                                        1008957   \n",
       "58                                         321971   \n",
       "59                                          87140   \n",
       "\n",
       "    Percent of 65+ pop with a completed primary series  \n",
       "0                                                94.4   \n",
       "1                                                89.5   \n",
       "2                                                85.3   \n",
       "3                                                84.2   \n",
       "4                                                91.4   \n",
       "5                                                90.8   \n",
       "6                                                93.2   \n",
       "7                                                95.0   \n",
       "8                                                95.0   \n",
       "9                                                95.0   \n",
       "10                                               95.0   \n",
       "11                                               94.4   \n",
       "12                                               82.1   \n",
       "13                                               86.8   \n",
       "14                                               95.0   \n",
       "15                                               95.0   \n",
       "16                                               95.0   \n",
       "17                                               90.6   \n",
       "18                                               91.3   \n",
       "19                                               89.9   \n",
       "20                                               95.0   \n",
       "21                                               89.5   \n",
       "22                                               87.4   \n",
       "23                                               95.0   \n",
       "24                                               95.0   \n",
       "25                                               95.0   \n",
       "26                                               39.2   \n",
       "27                                               91.5   \n",
       "28                                               95.0   \n",
       "29                                               88.8   \n",
       "30                                               84.1   \n",
       "31                                               86.3   \n",
       "32                                               89.4   \n",
       "33                                               95.0   \n",
       "34                                               91.8   \n",
       "35                                               95.0   \n",
       "36                                               95.0   \n",
       "37                                               95.0   \n",
       "38                                               95.0   \n",
       "39                                               89.3   \n",
       "40                                               95.0   \n",
       "41                                               89.6   \n",
       "42                                               93.6   \n",
       "43                                               94.5   \n",
       "44                                               95.0   \n",
       "45                                               89.6   \n",
       "46                                               91.3   \n",
       "47                                               95.0   \n",
       "48                                               91.9   \n",
       "49                                               95.0   \n",
       "50                                               86.8   \n",
       "51                                               89.2   \n",
       "52                                               95.0   \n",
       "53                                               95.0   \n",
       "54                                               79.9   \n",
       "55                                               95.0   \n",
       "56                                               95.0   \n",
       "57                                               95.0   \n",
       "58                                               87.7   \n",
       "59                                               87.9   "
      ]
     },
     "execution_count": 57,
     "metadata": {},
     "output_type": "execute_result"
    }
   ],
   "source": [
    "# Read in csv to DF\n",
    "death_rates_df = pd.read_csv(deaths_csv)\n",
    "vaccination_df = pd.read_csv(vaccination_csv)\n",
    "urban_df = pd.read_csv(urban_csv)\n",
    "vaccination_df"
   ]
  },
  {
   "cell_type": "code",
   "execution_count": 58,
   "id": "fe68ff60",
   "metadata": {},
   "outputs": [
    {
     "data": {
      "text/html": [
       "<div>\n",
       "<style scoped>\n",
       "    .dataframe tbody tr th:only-of-type {\n",
       "        vertical-align: middle;\n",
       "    }\n",
       "\n",
       "    .dataframe tbody tr th {\n",
       "        vertical-align: top;\n",
       "    }\n",
       "\n",
       "    .dataframe thead th {\n",
       "        text-align: right;\n",
       "    }\n",
       "</style>\n",
       "<table border=\"1\" class=\"dataframe\">\n",
       "  <thead>\n",
       "    <tr style=\"text-align: right;\">\n",
       "      <th></th>\n",
       "      <th>State</th>\n",
       "      <th>Percent of 18+ pop with a completed primary series</th>\n",
       "    </tr>\n",
       "  </thead>\n",
       "  <tbody>\n",
       "    <tr>\n",
       "      <th>0</th>\n",
       "      <td>United States</td>\n",
       "      <td>79.1</td>\n",
       "    </tr>\n",
       "    <tr>\n",
       "      <th>1</th>\n",
       "      <td>Alaska</td>\n",
       "      <td>75.9</td>\n",
       "    </tr>\n",
       "    <tr>\n",
       "      <th>2</th>\n",
       "      <td>Alabama</td>\n",
       "      <td>63.3</td>\n",
       "    </tr>\n",
       "    <tr>\n",
       "      <th>3</th>\n",
       "      <td>Arkansas</td>\n",
       "      <td>66.8</td>\n",
       "    </tr>\n",
       "    <tr>\n",
       "      <th>4</th>\n",
       "      <td>American Samoa</td>\n",
       "      <td>95.0</td>\n",
       "    </tr>\n",
       "    <tr>\n",
       "      <th>5</th>\n",
       "      <td>Arizona</td>\n",
       "      <td>75.2</td>\n",
       "    </tr>\n",
       "    <tr>\n",
       "      <th>6</th>\n",
       "      <td>California</td>\n",
       "      <td>83.9</td>\n",
       "    </tr>\n",
       "    <tr>\n",
       "      <th>7</th>\n",
       "      <td>Colorado</td>\n",
       "      <td>82.9</td>\n",
       "    </tr>\n",
       "    <tr>\n",
       "      <th>8</th>\n",
       "      <td>Connecticut</td>\n",
       "      <td>91.7</td>\n",
       "    </tr>\n",
       "    <tr>\n",
       "      <th>9</th>\n",
       "      <td>District of Columbia</td>\n",
       "      <td>95.0</td>\n",
       "    </tr>\n",
       "    <tr>\n",
       "      <th>10</th>\n",
       "      <td>Delaware</td>\n",
       "      <td>83.2</td>\n",
       "    </tr>\n",
       "    <tr>\n",
       "      <th>11</th>\n",
       "      <td>Florida</td>\n",
       "      <td>79.6</td>\n",
       "    </tr>\n",
       "    <tr>\n",
       "      <th>12</th>\n",
       "      <td>Federated States of Micronesia</td>\n",
       "      <td>75.9</td>\n",
       "    </tr>\n",
       "    <tr>\n",
       "      <th>13</th>\n",
       "      <td>Georgia</td>\n",
       "      <td>67.7</td>\n",
       "    </tr>\n",
       "    <tr>\n",
       "      <th>14</th>\n",
       "      <td>Guam</td>\n",
       "      <td>95.0</td>\n",
       "    </tr>\n",
       "    <tr>\n",
       "      <th>15</th>\n",
       "      <td>Hawaii</td>\n",
       "      <td>90.5</td>\n",
       "    </tr>\n",
       "    <tr>\n",
       "      <th>16</th>\n",
       "      <td>Iowa</td>\n",
       "      <td>74.9</td>\n",
       "    </tr>\n",
       "    <tr>\n",
       "      <th>17</th>\n",
       "      <td>Idaho</td>\n",
       "      <td>67.9</td>\n",
       "    </tr>\n",
       "    <tr>\n",
       "      <th>18</th>\n",
       "      <td>Illinois</td>\n",
       "      <td>79.9</td>\n",
       "    </tr>\n",
       "    <tr>\n",
       "      <th>19</th>\n",
       "      <td>Indiana</td>\n",
       "      <td>68.0</td>\n",
       "    </tr>\n",
       "    <tr>\n",
       "      <th>20</th>\n",
       "      <td>Kansas</td>\n",
       "      <td>76.3</td>\n",
       "    </tr>\n",
       "    <tr>\n",
       "      <th>21</th>\n",
       "      <td>Kentucky</td>\n",
       "      <td>69.9</td>\n",
       "    </tr>\n",
       "    <tr>\n",
       "      <th>22</th>\n",
       "      <td>Louisiana</td>\n",
       "      <td>66.0</td>\n",
       "    </tr>\n",
       "    <tr>\n",
       "      <th>23</th>\n",
       "      <td>Massachusetts</td>\n",
       "      <td>91.8</td>\n",
       "    </tr>\n",
       "    <tr>\n",
       "      <th>24</th>\n",
       "      <td>Maryland</td>\n",
       "      <td>88.6</td>\n",
       "    </tr>\n",
       "    <tr>\n",
       "      <th>25</th>\n",
       "      <td>Maine</td>\n",
       "      <td>91.9</td>\n",
       "    </tr>\n",
       "    <tr>\n",
       "      <th>26</th>\n",
       "      <td>Marshall Islands</td>\n",
       "      <td>54.8</td>\n",
       "    </tr>\n",
       "    <tr>\n",
       "      <th>27</th>\n",
       "      <td>Michigan</td>\n",
       "      <td>71.6</td>\n",
       "    </tr>\n",
       "    <tr>\n",
       "      <th>28</th>\n",
       "      <td>Minnesota</td>\n",
       "      <td>81.5</td>\n",
       "    </tr>\n",
       "    <tr>\n",
       "      <th>29</th>\n",
       "      <td>Missouri</td>\n",
       "      <td>68.7</td>\n",
       "    </tr>\n",
       "    <tr>\n",
       "      <th>30</th>\n",
       "      <td>Northern Mariana Islands</td>\n",
       "      <td>95.0</td>\n",
       "    </tr>\n",
       "    <tr>\n",
       "      <th>31</th>\n",
       "      <td>Mississippi</td>\n",
       "      <td>64.2</td>\n",
       "    </tr>\n",
       "    <tr>\n",
       "      <th>32</th>\n",
       "      <td>Montana</td>\n",
       "      <td>68.3</td>\n",
       "    </tr>\n",
       "    <tr>\n",
       "      <th>33</th>\n",
       "      <td>North Carolina</td>\n",
       "      <td>77.1</td>\n",
       "    </tr>\n",
       "    <tr>\n",
       "      <th>34</th>\n",
       "      <td>North Dakota</td>\n",
       "      <td>69.4</td>\n",
       "    </tr>\n",
       "    <tr>\n",
       "      <th>35</th>\n",
       "      <td>Nebraska</td>\n",
       "      <td>77.4</td>\n",
       "    </tr>\n",
       "    <tr>\n",
       "      <th>36</th>\n",
       "      <td>New Hampshire</td>\n",
       "      <td>80.7</td>\n",
       "    </tr>\n",
       "    <tr>\n",
       "      <th>37</th>\n",
       "      <td>New Jersey</td>\n",
       "      <td>89.2</td>\n",
       "    </tr>\n",
       "    <tr>\n",
       "      <th>38</th>\n",
       "      <td>New Mexico</td>\n",
       "      <td>85.5</td>\n",
       "    </tr>\n",
       "    <tr>\n",
       "      <th>39</th>\n",
       "      <td>Nevada</td>\n",
       "      <td>74.5</td>\n",
       "    </tr>\n",
       "    <tr>\n",
       "      <th>40</th>\n",
       "      <td>New York</td>\n",
       "      <td>90.8</td>\n",
       "    </tr>\n",
       "    <tr>\n",
       "      <th>41</th>\n",
       "      <td>Ohio</td>\n",
       "      <td>69.9</td>\n",
       "    </tr>\n",
       "    <tr>\n",
       "      <th>42</th>\n",
       "      <td>Oklahoma</td>\n",
       "      <td>72.3</td>\n",
       "    </tr>\n",
       "    <tr>\n",
       "      <th>43</th>\n",
       "      <td>Oregon</td>\n",
       "      <td>81.3</td>\n",
       "    </tr>\n",
       "    <tr>\n",
       "      <th>44</th>\n",
       "      <td>Pennsylvania</td>\n",
       "      <td>83.1</td>\n",
       "    </tr>\n",
       "    <tr>\n",
       "      <th>45</th>\n",
       "      <td>Puerto Rico</td>\n",
       "      <td>88.5</td>\n",
       "    </tr>\n",
       "    <tr>\n",
       "      <th>46</th>\n",
       "      <td>Republic of Palau</td>\n",
       "      <td>95.0</td>\n",
       "    </tr>\n",
       "    <tr>\n",
       "      <th>47</th>\n",
       "      <td>Rhode Island</td>\n",
       "      <td>95.0</td>\n",
       "    </tr>\n",
       "    <tr>\n",
       "      <th>48</th>\n",
       "      <td>South Carolina</td>\n",
       "      <td>69.6</td>\n",
       "    </tr>\n",
       "    <tr>\n",
       "      <th>49</th>\n",
       "      <td>South Dakota</td>\n",
       "      <td>78.5</td>\n",
       "    </tr>\n",
       "    <tr>\n",
       "      <th>50</th>\n",
       "      <td>Tennessee</td>\n",
       "      <td>66.3</td>\n",
       "    </tr>\n",
       "    <tr>\n",
       "      <th>51</th>\n",
       "      <td>Texas</td>\n",
       "      <td>74.1</td>\n",
       "    </tr>\n",
       "    <tr>\n",
       "      <th>52</th>\n",
       "      <td>Utah</td>\n",
       "      <td>80.0</td>\n",
       "    </tr>\n",
       "    <tr>\n",
       "      <th>53</th>\n",
       "      <td>Virginia</td>\n",
       "      <td>85.4</td>\n",
       "    </tr>\n",
       "    <tr>\n",
       "      <th>54</th>\n",
       "      <td>Virgin Islands</td>\n",
       "      <td>67.3</td>\n",
       "    </tr>\n",
       "    <tr>\n",
       "      <th>55</th>\n",
       "      <td>Vermont</td>\n",
       "      <td>91.7</td>\n",
       "    </tr>\n",
       "    <tr>\n",
       "      <th>56</th>\n",
       "      <td>Washington</td>\n",
       "      <td>85.6</td>\n",
       "    </tr>\n",
       "    <tr>\n",
       "      <th>57</th>\n",
       "      <td>Wisconsin</td>\n",
       "      <td>77.7</td>\n",
       "    </tr>\n",
       "    <tr>\n",
       "      <th>58</th>\n",
       "      <td>West Virginia</td>\n",
       "      <td>69.0</td>\n",
       "    </tr>\n",
       "    <tr>\n",
       "      <th>59</th>\n",
       "      <td>Wyoming</td>\n",
       "      <td>63.3</td>\n",
       "    </tr>\n",
       "  </tbody>\n",
       "</table>\n",
       "</div>"
      ],
      "text/plain": [
       "                             State  \\\n",
       "0                    United States   \n",
       "1                           Alaska   \n",
       "2                          Alabama   \n",
       "3                         Arkansas   \n",
       "4                   American Samoa   \n",
       "5                          Arizona   \n",
       "6                       California   \n",
       "7                         Colorado   \n",
       "8                      Connecticut   \n",
       "9             District of Columbia   \n",
       "10                        Delaware   \n",
       "11                         Florida   \n",
       "12  Federated States of Micronesia   \n",
       "13                         Georgia   \n",
       "14                            Guam   \n",
       "15                          Hawaii   \n",
       "16                            Iowa   \n",
       "17                           Idaho   \n",
       "18                        Illinois   \n",
       "19                         Indiana   \n",
       "20                          Kansas   \n",
       "21                        Kentucky   \n",
       "22                       Louisiana   \n",
       "23                   Massachusetts   \n",
       "24                        Maryland   \n",
       "25                           Maine   \n",
       "26                Marshall Islands   \n",
       "27                        Michigan   \n",
       "28                       Minnesota   \n",
       "29                        Missouri   \n",
       "30        Northern Mariana Islands   \n",
       "31                     Mississippi   \n",
       "32                         Montana   \n",
       "33                  North Carolina   \n",
       "34                    North Dakota   \n",
       "35                        Nebraska   \n",
       "36                   New Hampshire   \n",
       "37                      New Jersey   \n",
       "38                      New Mexico   \n",
       "39                          Nevada   \n",
       "40                        New York   \n",
       "41                            Ohio   \n",
       "42                        Oklahoma   \n",
       "43                          Oregon   \n",
       "44                    Pennsylvania   \n",
       "45                     Puerto Rico   \n",
       "46               Republic of Palau   \n",
       "47                    Rhode Island   \n",
       "48                  South Carolina   \n",
       "49                    South Dakota   \n",
       "50                       Tennessee   \n",
       "51                           Texas   \n",
       "52                            Utah   \n",
       "53                        Virginia   \n",
       "54                  Virgin Islands   \n",
       "55                         Vermont   \n",
       "56                      Washington   \n",
       "57                       Wisconsin   \n",
       "58                   West Virginia   \n",
       "59                         Wyoming   \n",
       "\n",
       "    Percent of 18+ pop with a completed primary series  \n",
       "0                                                79.1   \n",
       "1                                                75.9   \n",
       "2                                                63.3   \n",
       "3                                                66.8   \n",
       "4                                                95.0   \n",
       "5                                                75.2   \n",
       "6                                                83.9   \n",
       "7                                                82.9   \n",
       "8                                                91.7   \n",
       "9                                                95.0   \n",
       "10                                               83.2   \n",
       "11                                               79.6   \n",
       "12                                               75.9   \n",
       "13                                               67.7   \n",
       "14                                               95.0   \n",
       "15                                               90.5   \n",
       "16                                               74.9   \n",
       "17                                               67.9   \n",
       "18                                               79.9   \n",
       "19                                               68.0   \n",
       "20                                               76.3   \n",
       "21                                               69.9   \n",
       "22                                               66.0   \n",
       "23                                               91.8   \n",
       "24                                               88.6   \n",
       "25                                               91.9   \n",
       "26                                               54.8   \n",
       "27                                               71.6   \n",
       "28                                               81.5   \n",
       "29                                               68.7   \n",
       "30                                               95.0   \n",
       "31                                               64.2   \n",
       "32                                               68.3   \n",
       "33                                               77.1   \n",
       "34                                               69.4   \n",
       "35                                               77.4   \n",
       "36                                               80.7   \n",
       "37                                               89.2   \n",
       "38                                               85.5   \n",
       "39                                               74.5   \n",
       "40                                               90.8   \n",
       "41                                               69.9   \n",
       "42                                               72.3   \n",
       "43                                               81.3   \n",
       "44                                               83.1   \n",
       "45                                               88.5   \n",
       "46                                               95.0   \n",
       "47                                               95.0   \n",
       "48                                               69.6   \n",
       "49                                               78.5   \n",
       "50                                               66.3   \n",
       "51                                               74.1   \n",
       "52                                               80.0   \n",
       "53                                               85.4   \n",
       "54                                               67.3   \n",
       "55                                               91.7   \n",
       "56                                               85.6   \n",
       "57                                               77.7   \n",
       "58                                               69.0   \n",
       "59                                               63.3   "
      ]
     },
     "execution_count": 58,
     "metadata": {},
     "output_type": "execute_result"
    }
   ],
   "source": [
    "# Filter vaccination data\n",
    "filtered_vaccination_df = vaccination_df[['State', 'Percent of 18+ pop with a completed primary series']]\n",
    "filtered_vaccination_df "
   ]
  },
  {
   "cell_type": "code",
   "execution_count": 59,
   "id": "2a02094c",
   "metadata": {},
   "outputs": [
    {
     "data": {
      "text/html": [
       "<div>\n",
       "<style scoped>\n",
       "    .dataframe tbody tr th:only-of-type {\n",
       "        vertical-align: middle;\n",
       "    }\n",
       "\n",
       "    .dataframe tbody tr th {\n",
       "        vertical-align: top;\n",
       "    }\n",
       "\n",
       "    .dataframe thead th {\n",
       "        text-align: right;\n",
       "    }\n",
       "</style>\n",
       "<table border=\"1\" class=\"dataframe\">\n",
       "  <thead>\n",
       "    <tr style=\"text-align: right;\">\n",
       "      <th></th>\n",
       "      <th>STATE</th>\n",
       "      <th>RATE</th>\n",
       "    </tr>\n",
       "  </thead>\n",
       "  <tbody>\n",
       "    <tr>\n",
       "      <th>0</th>\n",
       "      <td>Alabama</td>\n",
       "      <td>152.8</td>\n",
       "    </tr>\n",
       "    <tr>\n",
       "      <th>1</th>\n",
       "      <td>Alaska</td>\n",
       "      <td>109.5</td>\n",
       "    </tr>\n",
       "    <tr>\n",
       "      <th>2</th>\n",
       "      <td>Arizona</td>\n",
       "      <td>139.5</td>\n",
       "    </tr>\n",
       "    <tr>\n",
       "      <th>3</th>\n",
       "      <td>Arkansas</td>\n",
       "      <td>127.7</td>\n",
       "    </tr>\n",
       "    <tr>\n",
       "      <th>4</th>\n",
       "      <td>California</td>\n",
       "      <td>99.9</td>\n",
       "    </tr>\n",
       "    <tr>\n",
       "      <th>5</th>\n",
       "      <td>Colorado</td>\n",
       "      <td>84.2</td>\n",
       "    </tr>\n",
       "    <tr>\n",
       "      <th>6</th>\n",
       "      <td>Connecticut</td>\n",
       "      <td>56.7</td>\n",
       "    </tr>\n",
       "    <tr>\n",
       "      <th>7</th>\n",
       "      <td>Delaware</td>\n",
       "      <td>83.2</td>\n",
       "    </tr>\n",
       "    <tr>\n",
       "      <th>8</th>\n",
       "      <td>Florida</td>\n",
       "      <td>111.7</td>\n",
       "    </tr>\n",
       "    <tr>\n",
       "      <th>9</th>\n",
       "      <td>Georgia</td>\n",
       "      <td>135.9</td>\n",
       "    </tr>\n",
       "    <tr>\n",
       "      <th>10</th>\n",
       "      <td>Hawaii</td>\n",
       "      <td>36.5</td>\n",
       "    </tr>\n",
       "    <tr>\n",
       "      <th>11</th>\n",
       "      <td>Idaho</td>\n",
       "      <td>112.3</td>\n",
       "    </tr>\n",
       "    <tr>\n",
       "      <th>12</th>\n",
       "      <td>Illinois</td>\n",
       "      <td>73.4</td>\n",
       "    </tr>\n",
       "    <tr>\n",
       "      <th>13</th>\n",
       "      <td>Indiana</td>\n",
       "      <td>106.8</td>\n",
       "    </tr>\n",
       "    <tr>\n",
       "      <th>14</th>\n",
       "      <td>Iowa</td>\n",
       "      <td>75.9</td>\n",
       "    </tr>\n",
       "    <tr>\n",
       "      <th>15</th>\n",
       "      <td>Kansas</td>\n",
       "      <td>103.1</td>\n",
       "    </tr>\n",
       "    <tr>\n",
       "      <th>16</th>\n",
       "      <td>Kentucky</td>\n",
       "      <td>136.7</td>\n",
       "    </tr>\n",
       "    <tr>\n",
       "      <th>17</th>\n",
       "      <td>Louisiana</td>\n",
       "      <td>116.9</td>\n",
       "    </tr>\n",
       "    <tr>\n",
       "      <th>18</th>\n",
       "      <td>Maine</td>\n",
       "      <td>66.2</td>\n",
       "    </tr>\n",
       "    <tr>\n",
       "      <th>19</th>\n",
       "      <td>Maryland</td>\n",
       "      <td>71.2</td>\n",
       "    </tr>\n",
       "    <tr>\n",
       "      <th>20</th>\n",
       "      <td>Massachusetts</td>\n",
       "      <td>54.6</td>\n",
       "    </tr>\n",
       "    <tr>\n",
       "      <th>21</th>\n",
       "      <td>Michigan</td>\n",
       "      <td>107.1</td>\n",
       "    </tr>\n",
       "    <tr>\n",
       "      <th>22</th>\n",
       "      <td>Minnesota</td>\n",
       "      <td>64.1</td>\n",
       "    </tr>\n",
       "    <tr>\n",
       "      <th>23</th>\n",
       "      <td>Mississippi</td>\n",
       "      <td>146.3</td>\n",
       "    </tr>\n",
       "    <tr>\n",
       "      <th>24</th>\n",
       "      <td>Missouri</td>\n",
       "      <td>100.5</td>\n",
       "    </tr>\n",
       "    <tr>\n",
       "      <th>25</th>\n",
       "      <td>Montana</td>\n",
       "      <td>108.8</td>\n",
       "    </tr>\n",
       "    <tr>\n",
       "      <th>26</th>\n",
       "      <td>Nebraska</td>\n",
       "      <td>69.0</td>\n",
       "    </tr>\n",
       "    <tr>\n",
       "      <th>27</th>\n",
       "      <td>Nevada</td>\n",
       "      <td>141.6</td>\n",
       "    </tr>\n",
       "    <tr>\n",
       "      <th>28</th>\n",
       "      <td>New Hampshire</td>\n",
       "      <td>60.2</td>\n",
       "    </tr>\n",
       "    <tr>\n",
       "      <th>29</th>\n",
       "      <td>New Jersey</td>\n",
       "      <td>71.9</td>\n",
       "    </tr>\n",
       "    <tr>\n",
       "      <th>30</th>\n",
       "      <td>New Mexico</td>\n",
       "      <td>136.3</td>\n",
       "    </tr>\n",
       "    <tr>\n",
       "      <th>31</th>\n",
       "      <td>New York</td>\n",
       "      <td>83.9</td>\n",
       "    </tr>\n",
       "    <tr>\n",
       "      <th>32</th>\n",
       "      <td>North Carolina</td>\n",
       "      <td>107.5</td>\n",
       "    </tr>\n",
       "    <tr>\n",
       "      <th>33</th>\n",
       "      <td>North Dakota</td>\n",
       "      <td>70.9</td>\n",
       "    </tr>\n",
       "    <tr>\n",
       "      <th>34</th>\n",
       "      <td>Ohio</td>\n",
       "      <td>122.8</td>\n",
       "    </tr>\n",
       "    <tr>\n",
       "      <th>35</th>\n",
       "      <td>Oklahoma</td>\n",
       "      <td>158.8</td>\n",
       "    </tr>\n",
       "    <tr>\n",
       "      <th>36</th>\n",
       "      <td>Oregon</td>\n",
       "      <td>69.2</td>\n",
       "    </tr>\n",
       "    <tr>\n",
       "      <th>37</th>\n",
       "      <td>Pennsylvania</td>\n",
       "      <td>102.5</td>\n",
       "    </tr>\n",
       "    <tr>\n",
       "      <th>38</th>\n",
       "      <td>Rhode Island</td>\n",
       "      <td>66.4</td>\n",
       "    </tr>\n",
       "    <tr>\n",
       "      <th>39</th>\n",
       "      <td>South Carolina</td>\n",
       "      <td>139.2</td>\n",
       "    </tr>\n",
       "    <tr>\n",
       "      <th>40</th>\n",
       "      <td>South Dakota</td>\n",
       "      <td>71.2</td>\n",
       "    </tr>\n",
       "    <tr>\n",
       "      <th>41</th>\n",
       "      <td>Tennessee</td>\n",
       "      <td>142.5</td>\n",
       "    </tr>\n",
       "    <tr>\n",
       "      <th>42</th>\n",
       "      <td>Texas</td>\n",
       "      <td>151.4</td>\n",
       "    </tr>\n",
       "    <tr>\n",
       "      <th>43</th>\n",
       "      <td>Utah</td>\n",
       "      <td>78.2</td>\n",
       "    </tr>\n",
       "    <tr>\n",
       "      <th>44</th>\n",
       "      <td>Vermont</td>\n",
       "      <td>29.5</td>\n",
       "    </tr>\n",
       "    <tr>\n",
       "      <th>45</th>\n",
       "      <td>Virginia</td>\n",
       "      <td>88.5</td>\n",
       "    </tr>\n",
       "    <tr>\n",
       "      <th>46</th>\n",
       "      <td>Washington</td>\n",
       "      <td>61.5</td>\n",
       "    </tr>\n",
       "    <tr>\n",
       "      <th>47</th>\n",
       "      <td>West Virginia</td>\n",
       "      <td>146.8</td>\n",
       "    </tr>\n",
       "    <tr>\n",
       "      <th>48</th>\n",
       "      <td>Wisconsin</td>\n",
       "      <td>71.1</td>\n",
       "    </tr>\n",
       "    <tr>\n",
       "      <th>49</th>\n",
       "      <td>Wyoming</td>\n",
       "      <td>143.4</td>\n",
       "    </tr>\n",
       "  </tbody>\n",
       "</table>\n",
       "</div>"
      ],
      "text/plain": [
       "             STATE   RATE\n",
       "0          Alabama  152.8\n",
       "1           Alaska  109.5\n",
       "2          Arizona  139.5\n",
       "3         Arkansas  127.7\n",
       "4       California   99.9\n",
       "5         Colorado   84.2\n",
       "6      Connecticut   56.7\n",
       "7         Delaware   83.2\n",
       "8          Florida  111.7\n",
       "9          Georgia  135.9\n",
       "10          Hawaii   36.5\n",
       "11           Idaho  112.3\n",
       "12        Illinois   73.4\n",
       "13         Indiana  106.8\n",
       "14            Iowa   75.9\n",
       "15          Kansas  103.1\n",
       "16        Kentucky  136.7\n",
       "17       Louisiana  116.9\n",
       "18           Maine   66.2\n",
       "19        Maryland   71.2\n",
       "20   Massachusetts   54.6\n",
       "21        Michigan  107.1\n",
       "22       Minnesota   64.1\n",
       "23     Mississippi  146.3\n",
       "24        Missouri  100.5\n",
       "25         Montana  108.8\n",
       "26        Nebraska   69.0\n",
       "27          Nevada  141.6\n",
       "28   New Hampshire   60.2\n",
       "29      New Jersey   71.9\n",
       "30      New Mexico  136.3\n",
       "31        New York   83.9\n",
       "32  North Carolina  107.5\n",
       "33    North Dakota   70.9\n",
       "34            Ohio  122.8\n",
       "35        Oklahoma  158.8\n",
       "36          Oregon   69.2\n",
       "37    Pennsylvania  102.5\n",
       "38    Rhode Island   66.4\n",
       "39  South Carolina  139.2\n",
       "40    South Dakota   71.2\n",
       "41       Tennessee  142.5\n",
       "42           Texas  151.4\n",
       "43            Utah   78.2\n",
       "44         Vermont   29.5\n",
       "45        Virginia   88.5\n",
       "46      Washington   61.5\n",
       "47   West Virginia  146.8\n",
       "48       Wisconsin   71.1\n",
       "49         Wyoming  143.4"
      ]
     },
     "execution_count": 59,
     "metadata": {},
     "output_type": "execute_result"
    }
   ],
   "source": [
    "# Filter death rates\n",
    "filtered_death_rates_df = death_rates_df[['STATE','RATE']]\n",
    "filtered_death_rates_df"
   ]
  },
  {
   "cell_type": "code",
   "execution_count": 60,
   "id": "31915021",
   "metadata": {},
   "outputs": [
    {
     "data": {
      "text/html": [
       "<div>\n",
       "<style scoped>\n",
       "    .dataframe tbody tr th:only-of-type {\n",
       "        vertical-align: middle;\n",
       "    }\n",
       "\n",
       "    .dataframe tbody tr th {\n",
       "        vertical-align: top;\n",
       "    }\n",
       "\n",
       "    .dataframe thead th {\n",
       "        text-align: right;\n",
       "    }\n",
       "</style>\n",
       "<table border=\"1\" class=\"dataframe\">\n",
       "  <thead>\n",
       "    <tr style=\"text-align: right;\">\n",
       "      <th></th>\n",
       "      <th>STATE NAME</th>\n",
       "      <th>2020 PCT URBAN POP</th>\n",
       "    </tr>\n",
       "  </thead>\n",
       "  <tbody>\n",
       "    <tr>\n",
       "      <th>0</th>\n",
       "      <td>Alabama</td>\n",
       "      <td>57.7</td>\n",
       "    </tr>\n",
       "    <tr>\n",
       "      <th>1</th>\n",
       "      <td>Alaska</td>\n",
       "      <td>64.9</td>\n",
       "    </tr>\n",
       "    <tr>\n",
       "      <th>2</th>\n",
       "      <td>Arizona</td>\n",
       "      <td>89.3</td>\n",
       "    </tr>\n",
       "    <tr>\n",
       "      <th>3</th>\n",
       "      <td>Arkansas</td>\n",
       "      <td>55.5</td>\n",
       "    </tr>\n",
       "    <tr>\n",
       "      <th>4</th>\n",
       "      <td>California</td>\n",
       "      <td>94.2</td>\n",
       "    </tr>\n",
       "    <tr>\n",
       "      <th>5</th>\n",
       "      <td>Colorado</td>\n",
       "      <td>86.0</td>\n",
       "    </tr>\n",
       "    <tr>\n",
       "      <th>6</th>\n",
       "      <td>Connecticut</td>\n",
       "      <td>86.3</td>\n",
       "    </tr>\n",
       "    <tr>\n",
       "      <th>7</th>\n",
       "      <td>Delaware</td>\n",
       "      <td>82.6</td>\n",
       "    </tr>\n",
       "    <tr>\n",
       "      <th>8</th>\n",
       "      <td>District of Columbia</td>\n",
       "      <td>100.0</td>\n",
       "    </tr>\n",
       "    <tr>\n",
       "      <th>9</th>\n",
       "      <td>Florida</td>\n",
       "      <td>91.5</td>\n",
       "    </tr>\n",
       "    <tr>\n",
       "      <th>10</th>\n",
       "      <td>Georgia</td>\n",
       "      <td>74.1</td>\n",
       "    </tr>\n",
       "    <tr>\n",
       "      <th>11</th>\n",
       "      <td>Hawaii</td>\n",
       "      <td>86.1</td>\n",
       "    </tr>\n",
       "    <tr>\n",
       "      <th>12</th>\n",
       "      <td>Idaho</td>\n",
       "      <td>69.2</td>\n",
       "    </tr>\n",
       "    <tr>\n",
       "      <th>13</th>\n",
       "      <td>Illinois</td>\n",
       "      <td>86.9</td>\n",
       "    </tr>\n",
       "    <tr>\n",
       "      <th>14</th>\n",
       "      <td>Indiana</td>\n",
       "      <td>71.2</td>\n",
       "    </tr>\n",
       "    <tr>\n",
       "      <th>15</th>\n",
       "      <td>Iowa</td>\n",
       "      <td>63.2</td>\n",
       "    </tr>\n",
       "    <tr>\n",
       "      <th>16</th>\n",
       "      <td>Kansas</td>\n",
       "      <td>72.3</td>\n",
       "    </tr>\n",
       "    <tr>\n",
       "      <th>17</th>\n",
       "      <td>Kentucky</td>\n",
       "      <td>58.7</td>\n",
       "    </tr>\n",
       "    <tr>\n",
       "      <th>18</th>\n",
       "      <td>Louisiana</td>\n",
       "      <td>71.5</td>\n",
       "    </tr>\n",
       "    <tr>\n",
       "      <th>19</th>\n",
       "      <td>Maine</td>\n",
       "      <td>38.6</td>\n",
       "    </tr>\n",
       "    <tr>\n",
       "      <th>20</th>\n",
       "      <td>Maryland</td>\n",
       "      <td>85.6</td>\n",
       "    </tr>\n",
       "    <tr>\n",
       "      <th>21</th>\n",
       "      <td>Massachusetts</td>\n",
       "      <td>91.3</td>\n",
       "    </tr>\n",
       "    <tr>\n",
       "      <th>22</th>\n",
       "      <td>Michigan</td>\n",
       "      <td>73.5</td>\n",
       "    </tr>\n",
       "    <tr>\n",
       "      <th>23</th>\n",
       "      <td>Minnesota</td>\n",
       "      <td>71.9</td>\n",
       "    </tr>\n",
       "    <tr>\n",
       "      <th>24</th>\n",
       "      <td>Mississippi</td>\n",
       "      <td>46.3</td>\n",
       "    </tr>\n",
       "    <tr>\n",
       "      <th>25</th>\n",
       "      <td>Missouri</td>\n",
       "      <td>69.5</td>\n",
       "    </tr>\n",
       "    <tr>\n",
       "      <th>26</th>\n",
       "      <td>Montana</td>\n",
       "      <td>53.4</td>\n",
       "    </tr>\n",
       "    <tr>\n",
       "      <th>27</th>\n",
       "      <td>Nebraska</td>\n",
       "      <td>73.0</td>\n",
       "    </tr>\n",
       "    <tr>\n",
       "      <th>28</th>\n",
       "      <td>Nevada</td>\n",
       "      <td>94.1</td>\n",
       "    </tr>\n",
       "    <tr>\n",
       "      <th>29</th>\n",
       "      <td>New Hampshire</td>\n",
       "      <td>58.3</td>\n",
       "    </tr>\n",
       "    <tr>\n",
       "      <th>30</th>\n",
       "      <td>New Jersey</td>\n",
       "      <td>93.8</td>\n",
       "    </tr>\n",
       "    <tr>\n",
       "      <th>31</th>\n",
       "      <td>New Mexico</td>\n",
       "      <td>74.5</td>\n",
       "    </tr>\n",
       "    <tr>\n",
       "      <th>32</th>\n",
       "      <td>New York</td>\n",
       "      <td>87.4</td>\n",
       "    </tr>\n",
       "    <tr>\n",
       "      <th>33</th>\n",
       "      <td>North Carolina</td>\n",
       "      <td>66.7</td>\n",
       "    </tr>\n",
       "    <tr>\n",
       "      <th>34</th>\n",
       "      <td>North Dakota</td>\n",
       "      <td>61.0</td>\n",
       "    </tr>\n",
       "    <tr>\n",
       "      <th>35</th>\n",
       "      <td>Ohio</td>\n",
       "      <td>76.3</td>\n",
       "    </tr>\n",
       "    <tr>\n",
       "      <th>36</th>\n",
       "      <td>Oklahoma</td>\n",
       "      <td>64.6</td>\n",
       "    </tr>\n",
       "    <tr>\n",
       "      <th>37</th>\n",
       "      <td>Oregon</td>\n",
       "      <td>80.5</td>\n",
       "    </tr>\n",
       "    <tr>\n",
       "      <th>38</th>\n",
       "      <td>Pennsylvania</td>\n",
       "      <td>76.5</td>\n",
       "    </tr>\n",
       "    <tr>\n",
       "      <th>39</th>\n",
       "      <td>Rhode Island</td>\n",
       "      <td>91.1</td>\n",
       "    </tr>\n",
       "    <tr>\n",
       "      <th>40</th>\n",
       "      <td>South Carolina</td>\n",
       "      <td>67.9</td>\n",
       "    </tr>\n",
       "    <tr>\n",
       "      <th>41</th>\n",
       "      <td>South Dakota</td>\n",
       "      <td>57.2</td>\n",
       "    </tr>\n",
       "    <tr>\n",
       "      <th>42</th>\n",
       "      <td>Tennessee</td>\n",
       "      <td>66.2</td>\n",
       "    </tr>\n",
       "    <tr>\n",
       "      <th>43</th>\n",
       "      <td>Texas</td>\n",
       "      <td>83.7</td>\n",
       "    </tr>\n",
       "    <tr>\n",
       "      <th>44</th>\n",
       "      <td>Utah</td>\n",
       "      <td>89.8</td>\n",
       "    </tr>\n",
       "    <tr>\n",
       "      <th>45</th>\n",
       "      <td>Vermont</td>\n",
       "      <td>35.1</td>\n",
       "    </tr>\n",
       "    <tr>\n",
       "      <th>46</th>\n",
       "      <td>Virginia</td>\n",
       "      <td>75.6</td>\n",
       "    </tr>\n",
       "    <tr>\n",
       "      <th>47</th>\n",
       "      <td>Washington</td>\n",
       "      <td>83.4</td>\n",
       "    </tr>\n",
       "    <tr>\n",
       "      <th>48</th>\n",
       "      <td>West Virginia</td>\n",
       "      <td>44.6</td>\n",
       "    </tr>\n",
       "    <tr>\n",
       "      <th>49</th>\n",
       "      <td>Wisconsin</td>\n",
       "      <td>67.1</td>\n",
       "    </tr>\n",
       "    <tr>\n",
       "      <th>50</th>\n",
       "      <td>Wyoming</td>\n",
       "      <td>62.0</td>\n",
       "    </tr>\n",
       "    <tr>\n",
       "      <th>51</th>\n",
       "      <td>American Samoa</td>\n",
       "      <td>75.7</td>\n",
       "    </tr>\n",
       "    <tr>\n",
       "      <th>52</th>\n",
       "      <td>Guam</td>\n",
       "      <td>89.0</td>\n",
       "    </tr>\n",
       "    <tr>\n",
       "      <th>53</th>\n",
       "      <td>Commonwealth of the Northern Marianas</td>\n",
       "      <td>78.0</td>\n",
       "    </tr>\n",
       "    <tr>\n",
       "      <th>54</th>\n",
       "      <td>Puerto Rico</td>\n",
       "      <td>91.9</td>\n",
       "    </tr>\n",
       "    <tr>\n",
       "      <th>55</th>\n",
       "      <td>US Virgin Islands</td>\n",
       "      <td>95.1</td>\n",
       "    </tr>\n",
       "  </tbody>\n",
       "</table>\n",
       "</div>"
      ],
      "text/plain": [
       "                               STATE NAME  2020 PCT URBAN POP\n",
       "0                                 Alabama                57.7\n",
       "1                                  Alaska                64.9\n",
       "2                                 Arizona                89.3\n",
       "3                                Arkansas                55.5\n",
       "4                              California                94.2\n",
       "5                                Colorado                86.0\n",
       "6                             Connecticut                86.3\n",
       "7                                Delaware                82.6\n",
       "8                    District of Columbia               100.0\n",
       "9                                 Florida                91.5\n",
       "10                                Georgia                74.1\n",
       "11                                 Hawaii                86.1\n",
       "12                                  Idaho                69.2\n",
       "13                               Illinois                86.9\n",
       "14                                Indiana                71.2\n",
       "15                                   Iowa                63.2\n",
       "16                                 Kansas                72.3\n",
       "17                               Kentucky                58.7\n",
       "18                              Louisiana                71.5\n",
       "19                                  Maine                38.6\n",
       "20                               Maryland                85.6\n",
       "21                          Massachusetts                91.3\n",
       "22                               Michigan                73.5\n",
       "23                              Minnesota                71.9\n",
       "24                            Mississippi                46.3\n",
       "25                               Missouri                69.5\n",
       "26                                Montana                53.4\n",
       "27                               Nebraska                73.0\n",
       "28                                 Nevada                94.1\n",
       "29                          New Hampshire                58.3\n",
       "30                             New Jersey                93.8\n",
       "31                             New Mexico                74.5\n",
       "32                               New York                87.4\n",
       "33                         North Carolina                66.7\n",
       "34                           North Dakota                61.0\n",
       "35                                   Ohio                76.3\n",
       "36                               Oklahoma                64.6\n",
       "37                                 Oregon                80.5\n",
       "38                           Pennsylvania                76.5\n",
       "39                           Rhode Island                91.1\n",
       "40                         South Carolina                67.9\n",
       "41                           South Dakota                57.2\n",
       "42                              Tennessee                66.2\n",
       "43                                  Texas                83.7\n",
       "44                                   Utah                89.8\n",
       "45                                Vermont                35.1\n",
       "46                               Virginia                75.6\n",
       "47                             Washington                83.4\n",
       "48                          West Virginia                44.6\n",
       "49                              Wisconsin                67.1\n",
       "50                                Wyoming                62.0\n",
       "51                         American Samoa                75.7\n",
       "52                                   Guam                89.0\n",
       "53  Commonwealth of the Northern Marianas                78.0\n",
       "54                            Puerto Rico                91.9\n",
       "55                      US Virgin Islands                95.1"
      ]
     },
     "execution_count": 60,
     "metadata": {},
     "output_type": "execute_result"
    }
   ],
   "source": [
    "# Filter urban rates\n",
    "filtered_urban_df = urban_df[['STATE NAME', '2020 PCT URBAN POP']]\n",
    "filtered_urban_df"
   ]
  },
  {
   "cell_type": "code",
   "execution_count": 61,
   "id": "d69d9626",
   "metadata": {},
   "outputs": [
    {
     "data": {
      "text/html": [
       "<div>\n",
       "<style scoped>\n",
       "    .dataframe tbody tr th:only-of-type {\n",
       "        vertical-align: middle;\n",
       "    }\n",
       "\n",
       "    .dataframe tbody tr th {\n",
       "        vertical-align: top;\n",
       "    }\n",
       "\n",
       "    .dataframe thead th {\n",
       "        text-align: right;\n",
       "    }\n",
       "</style>\n",
       "<table border=\"1\" class=\"dataframe\">\n",
       "  <thead>\n",
       "    <tr style=\"text-align: right;\">\n",
       "      <th></th>\n",
       "      <th>STATE NAME</th>\n",
       "      <th>2020 PCT URBAN POP</th>\n",
       "      <th>STATE</th>\n",
       "      <th>RATE</th>\n",
       "      <th>State</th>\n",
       "      <th>Percent of 18+ pop with a completed primary series</th>\n",
       "    </tr>\n",
       "  </thead>\n",
       "  <tbody>\n",
       "    <tr>\n",
       "      <th>0</th>\n",
       "      <td>Alabama</td>\n",
       "      <td>57.7</td>\n",
       "      <td>Alabama</td>\n",
       "      <td>152.8</td>\n",
       "      <td>Alabama</td>\n",
       "      <td>63.3</td>\n",
       "    </tr>\n",
       "    <tr>\n",
       "      <th>1</th>\n",
       "      <td>Alaska</td>\n",
       "      <td>64.9</td>\n",
       "      <td>Alaska</td>\n",
       "      <td>109.5</td>\n",
       "      <td>Alaska</td>\n",
       "      <td>75.9</td>\n",
       "    </tr>\n",
       "    <tr>\n",
       "      <th>2</th>\n",
       "      <td>Arizona</td>\n",
       "      <td>89.3</td>\n",
       "      <td>Arizona</td>\n",
       "      <td>139.5</td>\n",
       "      <td>Arizona</td>\n",
       "      <td>75.2</td>\n",
       "    </tr>\n",
       "    <tr>\n",
       "      <th>3</th>\n",
       "      <td>Arkansas</td>\n",
       "      <td>55.5</td>\n",
       "      <td>Arkansas</td>\n",
       "      <td>127.7</td>\n",
       "      <td>Arkansas</td>\n",
       "      <td>66.8</td>\n",
       "    </tr>\n",
       "    <tr>\n",
       "      <th>4</th>\n",
       "      <td>California</td>\n",
       "      <td>94.2</td>\n",
       "      <td>California</td>\n",
       "      <td>99.9</td>\n",
       "      <td>California</td>\n",
       "      <td>83.9</td>\n",
       "    </tr>\n",
       "    <tr>\n",
       "      <th>5</th>\n",
       "      <td>Colorado</td>\n",
       "      <td>86.0</td>\n",
       "      <td>Colorado</td>\n",
       "      <td>84.2</td>\n",
       "      <td>Colorado</td>\n",
       "      <td>82.9</td>\n",
       "    </tr>\n",
       "    <tr>\n",
       "      <th>6</th>\n",
       "      <td>Connecticut</td>\n",
       "      <td>86.3</td>\n",
       "      <td>Connecticut</td>\n",
       "      <td>56.7</td>\n",
       "      <td>Connecticut</td>\n",
       "      <td>91.7</td>\n",
       "    </tr>\n",
       "    <tr>\n",
       "      <th>7</th>\n",
       "      <td>Delaware</td>\n",
       "      <td>82.6</td>\n",
       "      <td>Delaware</td>\n",
       "      <td>83.2</td>\n",
       "      <td>Delaware</td>\n",
       "      <td>83.2</td>\n",
       "    </tr>\n",
       "    <tr>\n",
       "      <th>8</th>\n",
       "      <td>Florida</td>\n",
       "      <td>91.5</td>\n",
       "      <td>Florida</td>\n",
       "      <td>111.7</td>\n",
       "      <td>Florida</td>\n",
       "      <td>79.6</td>\n",
       "    </tr>\n",
       "    <tr>\n",
       "      <th>9</th>\n",
       "      <td>Georgia</td>\n",
       "      <td>74.1</td>\n",
       "      <td>Georgia</td>\n",
       "      <td>135.9</td>\n",
       "      <td>Georgia</td>\n",
       "      <td>67.7</td>\n",
       "    </tr>\n",
       "    <tr>\n",
       "      <th>10</th>\n",
       "      <td>Hawaii</td>\n",
       "      <td>86.1</td>\n",
       "      <td>Hawaii</td>\n",
       "      <td>36.5</td>\n",
       "      <td>Hawaii</td>\n",
       "      <td>90.5</td>\n",
       "    </tr>\n",
       "    <tr>\n",
       "      <th>11</th>\n",
       "      <td>Idaho</td>\n",
       "      <td>69.2</td>\n",
       "      <td>Idaho</td>\n",
       "      <td>112.3</td>\n",
       "      <td>Idaho</td>\n",
       "      <td>67.9</td>\n",
       "    </tr>\n",
       "    <tr>\n",
       "      <th>12</th>\n",
       "      <td>Illinois</td>\n",
       "      <td>86.9</td>\n",
       "      <td>Illinois</td>\n",
       "      <td>73.4</td>\n",
       "      <td>Illinois</td>\n",
       "      <td>79.9</td>\n",
       "    </tr>\n",
       "    <tr>\n",
       "      <th>13</th>\n",
       "      <td>Indiana</td>\n",
       "      <td>71.2</td>\n",
       "      <td>Indiana</td>\n",
       "      <td>106.8</td>\n",
       "      <td>Indiana</td>\n",
       "      <td>68.0</td>\n",
       "    </tr>\n",
       "    <tr>\n",
       "      <th>14</th>\n",
       "      <td>Iowa</td>\n",
       "      <td>63.2</td>\n",
       "      <td>Iowa</td>\n",
       "      <td>75.9</td>\n",
       "      <td>Iowa</td>\n",
       "      <td>74.9</td>\n",
       "    </tr>\n",
       "    <tr>\n",
       "      <th>15</th>\n",
       "      <td>Kansas</td>\n",
       "      <td>72.3</td>\n",
       "      <td>Kansas</td>\n",
       "      <td>103.1</td>\n",
       "      <td>Kansas</td>\n",
       "      <td>76.3</td>\n",
       "    </tr>\n",
       "    <tr>\n",
       "      <th>16</th>\n",
       "      <td>Kentucky</td>\n",
       "      <td>58.7</td>\n",
       "      <td>Kentucky</td>\n",
       "      <td>136.7</td>\n",
       "      <td>Kentucky</td>\n",
       "      <td>69.9</td>\n",
       "    </tr>\n",
       "    <tr>\n",
       "      <th>17</th>\n",
       "      <td>Louisiana</td>\n",
       "      <td>71.5</td>\n",
       "      <td>Louisiana</td>\n",
       "      <td>116.9</td>\n",
       "      <td>Louisiana</td>\n",
       "      <td>66.0</td>\n",
       "    </tr>\n",
       "    <tr>\n",
       "      <th>18</th>\n",
       "      <td>Maine</td>\n",
       "      <td>38.6</td>\n",
       "      <td>Maine</td>\n",
       "      <td>66.2</td>\n",
       "      <td>Maine</td>\n",
       "      <td>91.9</td>\n",
       "    </tr>\n",
       "    <tr>\n",
       "      <th>19</th>\n",
       "      <td>Maryland</td>\n",
       "      <td>85.6</td>\n",
       "      <td>Maryland</td>\n",
       "      <td>71.2</td>\n",
       "      <td>Maryland</td>\n",
       "      <td>88.6</td>\n",
       "    </tr>\n",
       "    <tr>\n",
       "      <th>20</th>\n",
       "      <td>Massachusetts</td>\n",
       "      <td>91.3</td>\n",
       "      <td>Massachusetts</td>\n",
       "      <td>54.6</td>\n",
       "      <td>Massachusetts</td>\n",
       "      <td>91.8</td>\n",
       "    </tr>\n",
       "    <tr>\n",
       "      <th>21</th>\n",
       "      <td>Michigan</td>\n",
       "      <td>73.5</td>\n",
       "      <td>Michigan</td>\n",
       "      <td>107.1</td>\n",
       "      <td>Michigan</td>\n",
       "      <td>71.6</td>\n",
       "    </tr>\n",
       "    <tr>\n",
       "      <th>22</th>\n",
       "      <td>Minnesota</td>\n",
       "      <td>71.9</td>\n",
       "      <td>Minnesota</td>\n",
       "      <td>64.1</td>\n",
       "      <td>Minnesota</td>\n",
       "      <td>81.5</td>\n",
       "    </tr>\n",
       "    <tr>\n",
       "      <th>23</th>\n",
       "      <td>Mississippi</td>\n",
       "      <td>46.3</td>\n",
       "      <td>Mississippi</td>\n",
       "      <td>146.3</td>\n",
       "      <td>Mississippi</td>\n",
       "      <td>64.2</td>\n",
       "    </tr>\n",
       "    <tr>\n",
       "      <th>24</th>\n",
       "      <td>Missouri</td>\n",
       "      <td>69.5</td>\n",
       "      <td>Missouri</td>\n",
       "      <td>100.5</td>\n",
       "      <td>Missouri</td>\n",
       "      <td>68.7</td>\n",
       "    </tr>\n",
       "    <tr>\n",
       "      <th>25</th>\n",
       "      <td>Montana</td>\n",
       "      <td>53.4</td>\n",
       "      <td>Montana</td>\n",
       "      <td>108.8</td>\n",
       "      <td>Montana</td>\n",
       "      <td>68.3</td>\n",
       "    </tr>\n",
       "    <tr>\n",
       "      <th>26</th>\n",
       "      <td>Nebraska</td>\n",
       "      <td>73.0</td>\n",
       "      <td>Nebraska</td>\n",
       "      <td>69.0</td>\n",
       "      <td>Nebraska</td>\n",
       "      <td>77.4</td>\n",
       "    </tr>\n",
       "    <tr>\n",
       "      <th>27</th>\n",
       "      <td>Nevada</td>\n",
       "      <td>94.1</td>\n",
       "      <td>Nevada</td>\n",
       "      <td>141.6</td>\n",
       "      <td>Nevada</td>\n",
       "      <td>74.5</td>\n",
       "    </tr>\n",
       "    <tr>\n",
       "      <th>28</th>\n",
       "      <td>New Hampshire</td>\n",
       "      <td>58.3</td>\n",
       "      <td>New Hampshire</td>\n",
       "      <td>60.2</td>\n",
       "      <td>New Hampshire</td>\n",
       "      <td>80.7</td>\n",
       "    </tr>\n",
       "    <tr>\n",
       "      <th>29</th>\n",
       "      <td>New Jersey</td>\n",
       "      <td>93.8</td>\n",
       "      <td>New Jersey</td>\n",
       "      <td>71.9</td>\n",
       "      <td>New Jersey</td>\n",
       "      <td>89.2</td>\n",
       "    </tr>\n",
       "    <tr>\n",
       "      <th>30</th>\n",
       "      <td>New Mexico</td>\n",
       "      <td>74.5</td>\n",
       "      <td>New Mexico</td>\n",
       "      <td>136.3</td>\n",
       "      <td>New Mexico</td>\n",
       "      <td>85.5</td>\n",
       "    </tr>\n",
       "    <tr>\n",
       "      <th>31</th>\n",
       "      <td>New York</td>\n",
       "      <td>87.4</td>\n",
       "      <td>New York</td>\n",
       "      <td>83.9</td>\n",
       "      <td>New York</td>\n",
       "      <td>90.8</td>\n",
       "    </tr>\n",
       "    <tr>\n",
       "      <th>32</th>\n",
       "      <td>North Carolina</td>\n",
       "      <td>66.7</td>\n",
       "      <td>North Carolina</td>\n",
       "      <td>107.5</td>\n",
       "      <td>North Carolina</td>\n",
       "      <td>77.1</td>\n",
       "    </tr>\n",
       "    <tr>\n",
       "      <th>33</th>\n",
       "      <td>North Dakota</td>\n",
       "      <td>61.0</td>\n",
       "      <td>North Dakota</td>\n",
       "      <td>70.9</td>\n",
       "      <td>North Dakota</td>\n",
       "      <td>69.4</td>\n",
       "    </tr>\n",
       "    <tr>\n",
       "      <th>34</th>\n",
       "      <td>Ohio</td>\n",
       "      <td>76.3</td>\n",
       "      <td>Ohio</td>\n",
       "      <td>122.8</td>\n",
       "      <td>Ohio</td>\n",
       "      <td>69.9</td>\n",
       "    </tr>\n",
       "    <tr>\n",
       "      <th>35</th>\n",
       "      <td>Oklahoma</td>\n",
       "      <td>64.6</td>\n",
       "      <td>Oklahoma</td>\n",
       "      <td>158.8</td>\n",
       "      <td>Oklahoma</td>\n",
       "      <td>72.3</td>\n",
       "    </tr>\n",
       "    <tr>\n",
       "      <th>36</th>\n",
       "      <td>Oregon</td>\n",
       "      <td>80.5</td>\n",
       "      <td>Oregon</td>\n",
       "      <td>69.2</td>\n",
       "      <td>Oregon</td>\n",
       "      <td>81.3</td>\n",
       "    </tr>\n",
       "    <tr>\n",
       "      <th>37</th>\n",
       "      <td>Pennsylvania</td>\n",
       "      <td>76.5</td>\n",
       "      <td>Pennsylvania</td>\n",
       "      <td>102.5</td>\n",
       "      <td>Pennsylvania</td>\n",
       "      <td>83.1</td>\n",
       "    </tr>\n",
       "    <tr>\n",
       "      <th>38</th>\n",
       "      <td>Rhode Island</td>\n",
       "      <td>91.1</td>\n",
       "      <td>Rhode Island</td>\n",
       "      <td>66.4</td>\n",
       "      <td>Rhode Island</td>\n",
       "      <td>95.0</td>\n",
       "    </tr>\n",
       "    <tr>\n",
       "      <th>39</th>\n",
       "      <td>South Carolina</td>\n",
       "      <td>67.9</td>\n",
       "      <td>South Carolina</td>\n",
       "      <td>139.2</td>\n",
       "      <td>South Carolina</td>\n",
       "      <td>69.6</td>\n",
       "    </tr>\n",
       "    <tr>\n",
       "      <th>40</th>\n",
       "      <td>South Dakota</td>\n",
       "      <td>57.2</td>\n",
       "      <td>South Dakota</td>\n",
       "      <td>71.2</td>\n",
       "      <td>South Dakota</td>\n",
       "      <td>78.5</td>\n",
       "    </tr>\n",
       "    <tr>\n",
       "      <th>41</th>\n",
       "      <td>Tennessee</td>\n",
       "      <td>66.2</td>\n",
       "      <td>Tennessee</td>\n",
       "      <td>142.5</td>\n",
       "      <td>Tennessee</td>\n",
       "      <td>66.3</td>\n",
       "    </tr>\n",
       "    <tr>\n",
       "      <th>42</th>\n",
       "      <td>Texas</td>\n",
       "      <td>83.7</td>\n",
       "      <td>Texas</td>\n",
       "      <td>151.4</td>\n",
       "      <td>Texas</td>\n",
       "      <td>74.1</td>\n",
       "    </tr>\n",
       "    <tr>\n",
       "      <th>43</th>\n",
       "      <td>Utah</td>\n",
       "      <td>89.8</td>\n",
       "      <td>Utah</td>\n",
       "      <td>78.2</td>\n",
       "      <td>Utah</td>\n",
       "      <td>80.0</td>\n",
       "    </tr>\n",
       "    <tr>\n",
       "      <th>44</th>\n",
       "      <td>Vermont</td>\n",
       "      <td>35.1</td>\n",
       "      <td>Vermont</td>\n",
       "      <td>29.5</td>\n",
       "      <td>Vermont</td>\n",
       "      <td>91.7</td>\n",
       "    </tr>\n",
       "    <tr>\n",
       "      <th>45</th>\n",
       "      <td>Virginia</td>\n",
       "      <td>75.6</td>\n",
       "      <td>Virginia</td>\n",
       "      <td>88.5</td>\n",
       "      <td>Virginia</td>\n",
       "      <td>85.4</td>\n",
       "    </tr>\n",
       "    <tr>\n",
       "      <th>46</th>\n",
       "      <td>Washington</td>\n",
       "      <td>83.4</td>\n",
       "      <td>Washington</td>\n",
       "      <td>61.5</td>\n",
       "      <td>Washington</td>\n",
       "      <td>85.6</td>\n",
       "    </tr>\n",
       "    <tr>\n",
       "      <th>47</th>\n",
       "      <td>West Virginia</td>\n",
       "      <td>44.6</td>\n",
       "      <td>West Virginia</td>\n",
       "      <td>146.8</td>\n",
       "      <td>West Virginia</td>\n",
       "      <td>69.0</td>\n",
       "    </tr>\n",
       "    <tr>\n",
       "      <th>48</th>\n",
       "      <td>Wisconsin</td>\n",
       "      <td>67.1</td>\n",
       "      <td>Wisconsin</td>\n",
       "      <td>71.1</td>\n",
       "      <td>Wisconsin</td>\n",
       "      <td>77.7</td>\n",
       "    </tr>\n",
       "    <tr>\n",
       "      <th>49</th>\n",
       "      <td>Wyoming</td>\n",
       "      <td>62.0</td>\n",
       "      <td>Wyoming</td>\n",
       "      <td>143.4</td>\n",
       "      <td>Wyoming</td>\n",
       "      <td>63.3</td>\n",
       "    </tr>\n",
       "  </tbody>\n",
       "</table>\n",
       "</div>"
      ],
      "text/plain": [
       "        STATE NAME  2020 PCT URBAN POP           STATE   RATE           State  \\\n",
       "0          Alabama                57.7         Alabama  152.8         Alabama   \n",
       "1           Alaska                64.9          Alaska  109.5          Alaska   \n",
       "2          Arizona                89.3         Arizona  139.5         Arizona   \n",
       "3         Arkansas                55.5        Arkansas  127.7        Arkansas   \n",
       "4       California                94.2      California   99.9      California   \n",
       "5         Colorado                86.0        Colorado   84.2        Colorado   \n",
       "6      Connecticut                86.3     Connecticut   56.7     Connecticut   \n",
       "7         Delaware                82.6        Delaware   83.2        Delaware   \n",
       "8          Florida                91.5         Florida  111.7         Florida   \n",
       "9          Georgia                74.1         Georgia  135.9         Georgia   \n",
       "10          Hawaii                86.1          Hawaii   36.5          Hawaii   \n",
       "11           Idaho                69.2           Idaho  112.3           Idaho   \n",
       "12        Illinois                86.9        Illinois   73.4        Illinois   \n",
       "13         Indiana                71.2         Indiana  106.8         Indiana   \n",
       "14            Iowa                63.2            Iowa   75.9            Iowa   \n",
       "15          Kansas                72.3          Kansas  103.1          Kansas   \n",
       "16        Kentucky                58.7        Kentucky  136.7        Kentucky   \n",
       "17       Louisiana                71.5       Louisiana  116.9       Louisiana   \n",
       "18           Maine                38.6           Maine   66.2           Maine   \n",
       "19        Maryland                85.6        Maryland   71.2        Maryland   \n",
       "20   Massachusetts                91.3   Massachusetts   54.6   Massachusetts   \n",
       "21        Michigan                73.5        Michigan  107.1        Michigan   \n",
       "22       Minnesota                71.9       Minnesota   64.1       Minnesota   \n",
       "23     Mississippi                46.3     Mississippi  146.3     Mississippi   \n",
       "24        Missouri                69.5        Missouri  100.5        Missouri   \n",
       "25         Montana                53.4         Montana  108.8         Montana   \n",
       "26        Nebraska                73.0        Nebraska   69.0        Nebraska   \n",
       "27          Nevada                94.1          Nevada  141.6          Nevada   \n",
       "28   New Hampshire                58.3   New Hampshire   60.2   New Hampshire   \n",
       "29      New Jersey                93.8      New Jersey   71.9      New Jersey   \n",
       "30      New Mexico                74.5      New Mexico  136.3      New Mexico   \n",
       "31        New York                87.4        New York   83.9        New York   \n",
       "32  North Carolina                66.7  North Carolina  107.5  North Carolina   \n",
       "33    North Dakota                61.0    North Dakota   70.9    North Dakota   \n",
       "34            Ohio                76.3            Ohio  122.8            Ohio   \n",
       "35        Oklahoma                64.6        Oklahoma  158.8        Oklahoma   \n",
       "36          Oregon                80.5          Oregon   69.2          Oregon   \n",
       "37    Pennsylvania                76.5    Pennsylvania  102.5    Pennsylvania   \n",
       "38    Rhode Island                91.1    Rhode Island   66.4    Rhode Island   \n",
       "39  South Carolina                67.9  South Carolina  139.2  South Carolina   \n",
       "40    South Dakota                57.2    South Dakota   71.2    South Dakota   \n",
       "41       Tennessee                66.2       Tennessee  142.5       Tennessee   \n",
       "42           Texas                83.7           Texas  151.4           Texas   \n",
       "43            Utah                89.8            Utah   78.2            Utah   \n",
       "44         Vermont                35.1         Vermont   29.5         Vermont   \n",
       "45        Virginia                75.6        Virginia   88.5        Virginia   \n",
       "46      Washington                83.4      Washington   61.5      Washington   \n",
       "47   West Virginia                44.6   West Virginia  146.8   West Virginia   \n",
       "48       Wisconsin                67.1       Wisconsin   71.1       Wisconsin   \n",
       "49         Wyoming                62.0         Wyoming  143.4         Wyoming   \n",
       "\n",
       "    Percent of 18+ pop with a completed primary series  \n",
       "0                                                63.3   \n",
       "1                                                75.9   \n",
       "2                                                75.2   \n",
       "3                                                66.8   \n",
       "4                                                83.9   \n",
       "5                                                82.9   \n",
       "6                                                91.7   \n",
       "7                                                83.2   \n",
       "8                                                79.6   \n",
       "9                                                67.7   \n",
       "10                                               90.5   \n",
       "11                                               67.9   \n",
       "12                                               79.9   \n",
       "13                                               68.0   \n",
       "14                                               74.9   \n",
       "15                                               76.3   \n",
       "16                                               69.9   \n",
       "17                                               66.0   \n",
       "18                                               91.9   \n",
       "19                                               88.6   \n",
       "20                                               91.8   \n",
       "21                                               71.6   \n",
       "22                                               81.5   \n",
       "23                                               64.2   \n",
       "24                                               68.7   \n",
       "25                                               68.3   \n",
       "26                                               77.4   \n",
       "27                                               74.5   \n",
       "28                                               80.7   \n",
       "29                                               89.2   \n",
       "30                                               85.5   \n",
       "31                                               90.8   \n",
       "32                                               77.1   \n",
       "33                                               69.4   \n",
       "34                                               69.9   \n",
       "35                                               72.3   \n",
       "36                                               81.3   \n",
       "37                                               83.1   \n",
       "38                                               95.0   \n",
       "39                                               69.6   \n",
       "40                                               78.5   \n",
       "41                                               66.3   \n",
       "42                                               74.1   \n",
       "43                                               80.0   \n",
       "44                                               91.7   \n",
       "45                                               85.4   \n",
       "46                                               85.6   \n",
       "47                                               69.0   \n",
       "48                                               77.7   \n",
       "49                                               63.3   "
      ]
     },
     "execution_count": 61,
     "metadata": {},
     "output_type": "execute_result"
    }
   ],
   "source": [
    "# Merge all data into one DF for convenience\n",
    "merged_df = filtered_urban_df.merge(filtered_death_rates_df, left_on='STATE NAME', right_on='STATE', how='inner')\n",
    "full_merged_df = merged_df.merge(filtered_vaccination_df, left_on='STATE NAME', right_on='State', how='inner')\n",
    "full_merged_df"
   ]
  },
  {
   "cell_type": "code",
   "execution_count": 62,
   "id": "e62390aa",
   "metadata": {},
   "outputs": [
    {
     "data": {
      "text/html": [
       "<div>\n",
       "<style scoped>\n",
       "    .dataframe tbody tr th:only-of-type {\n",
       "        vertical-align: middle;\n",
       "    }\n",
       "\n",
       "    .dataframe tbody tr th {\n",
       "        vertical-align: top;\n",
       "    }\n",
       "\n",
       "    .dataframe thead th {\n",
       "        text-align: right;\n",
       "    }\n",
       "</style>\n",
       "<table border=\"1\" class=\"dataframe\">\n",
       "  <thead>\n",
       "    <tr style=\"text-align: right;\">\n",
       "      <th></th>\n",
       "      <th>STATE NAME</th>\n",
       "      <th>2020 PCT URBAN POP</th>\n",
       "      <th>RATE</th>\n",
       "      <th>Percent of 18+ pop with a completed primary series</th>\n",
       "    </tr>\n",
       "  </thead>\n",
       "  <tbody>\n",
       "    <tr>\n",
       "      <th>0</th>\n",
       "      <td>Alabama</td>\n",
       "      <td>57.7</td>\n",
       "      <td>152.8</td>\n",
       "      <td>63.3</td>\n",
       "    </tr>\n",
       "    <tr>\n",
       "      <th>1</th>\n",
       "      <td>Alaska</td>\n",
       "      <td>64.9</td>\n",
       "      <td>109.5</td>\n",
       "      <td>75.9</td>\n",
       "    </tr>\n",
       "    <tr>\n",
       "      <th>2</th>\n",
       "      <td>Arizona</td>\n",
       "      <td>89.3</td>\n",
       "      <td>139.5</td>\n",
       "      <td>75.2</td>\n",
       "    </tr>\n",
       "    <tr>\n",
       "      <th>3</th>\n",
       "      <td>Arkansas</td>\n",
       "      <td>55.5</td>\n",
       "      <td>127.7</td>\n",
       "      <td>66.8</td>\n",
       "    </tr>\n",
       "    <tr>\n",
       "      <th>4</th>\n",
       "      <td>California</td>\n",
       "      <td>94.2</td>\n",
       "      <td>99.9</td>\n",
       "      <td>83.9</td>\n",
       "    </tr>\n",
       "    <tr>\n",
       "      <th>5</th>\n",
       "      <td>Colorado</td>\n",
       "      <td>86.0</td>\n",
       "      <td>84.2</td>\n",
       "      <td>82.9</td>\n",
       "    </tr>\n",
       "    <tr>\n",
       "      <th>6</th>\n",
       "      <td>Connecticut</td>\n",
       "      <td>86.3</td>\n",
       "      <td>56.7</td>\n",
       "      <td>91.7</td>\n",
       "    </tr>\n",
       "    <tr>\n",
       "      <th>7</th>\n",
       "      <td>Delaware</td>\n",
       "      <td>82.6</td>\n",
       "      <td>83.2</td>\n",
       "      <td>83.2</td>\n",
       "    </tr>\n",
       "    <tr>\n",
       "      <th>8</th>\n",
       "      <td>Florida</td>\n",
       "      <td>91.5</td>\n",
       "      <td>111.7</td>\n",
       "      <td>79.6</td>\n",
       "    </tr>\n",
       "    <tr>\n",
       "      <th>9</th>\n",
       "      <td>Georgia</td>\n",
       "      <td>74.1</td>\n",
       "      <td>135.9</td>\n",
       "      <td>67.7</td>\n",
       "    </tr>\n",
       "    <tr>\n",
       "      <th>10</th>\n",
       "      <td>Hawaii</td>\n",
       "      <td>86.1</td>\n",
       "      <td>36.5</td>\n",
       "      <td>90.5</td>\n",
       "    </tr>\n",
       "    <tr>\n",
       "      <th>11</th>\n",
       "      <td>Idaho</td>\n",
       "      <td>69.2</td>\n",
       "      <td>112.3</td>\n",
       "      <td>67.9</td>\n",
       "    </tr>\n",
       "    <tr>\n",
       "      <th>12</th>\n",
       "      <td>Illinois</td>\n",
       "      <td>86.9</td>\n",
       "      <td>73.4</td>\n",
       "      <td>79.9</td>\n",
       "    </tr>\n",
       "    <tr>\n",
       "      <th>13</th>\n",
       "      <td>Indiana</td>\n",
       "      <td>71.2</td>\n",
       "      <td>106.8</td>\n",
       "      <td>68.0</td>\n",
       "    </tr>\n",
       "    <tr>\n",
       "      <th>14</th>\n",
       "      <td>Iowa</td>\n",
       "      <td>63.2</td>\n",
       "      <td>75.9</td>\n",
       "      <td>74.9</td>\n",
       "    </tr>\n",
       "    <tr>\n",
       "      <th>15</th>\n",
       "      <td>Kansas</td>\n",
       "      <td>72.3</td>\n",
       "      <td>103.1</td>\n",
       "      <td>76.3</td>\n",
       "    </tr>\n",
       "    <tr>\n",
       "      <th>16</th>\n",
       "      <td>Kentucky</td>\n",
       "      <td>58.7</td>\n",
       "      <td>136.7</td>\n",
       "      <td>69.9</td>\n",
       "    </tr>\n",
       "    <tr>\n",
       "      <th>17</th>\n",
       "      <td>Louisiana</td>\n",
       "      <td>71.5</td>\n",
       "      <td>116.9</td>\n",
       "      <td>66.0</td>\n",
       "    </tr>\n",
       "    <tr>\n",
       "      <th>18</th>\n",
       "      <td>Maine</td>\n",
       "      <td>38.6</td>\n",
       "      <td>66.2</td>\n",
       "      <td>91.9</td>\n",
       "    </tr>\n",
       "    <tr>\n",
       "      <th>19</th>\n",
       "      <td>Maryland</td>\n",
       "      <td>85.6</td>\n",
       "      <td>71.2</td>\n",
       "      <td>88.6</td>\n",
       "    </tr>\n",
       "    <tr>\n",
       "      <th>20</th>\n",
       "      <td>Massachusetts</td>\n",
       "      <td>91.3</td>\n",
       "      <td>54.6</td>\n",
       "      <td>91.8</td>\n",
       "    </tr>\n",
       "    <tr>\n",
       "      <th>21</th>\n",
       "      <td>Michigan</td>\n",
       "      <td>73.5</td>\n",
       "      <td>107.1</td>\n",
       "      <td>71.6</td>\n",
       "    </tr>\n",
       "    <tr>\n",
       "      <th>22</th>\n",
       "      <td>Minnesota</td>\n",
       "      <td>71.9</td>\n",
       "      <td>64.1</td>\n",
       "      <td>81.5</td>\n",
       "    </tr>\n",
       "    <tr>\n",
       "      <th>23</th>\n",
       "      <td>Mississippi</td>\n",
       "      <td>46.3</td>\n",
       "      <td>146.3</td>\n",
       "      <td>64.2</td>\n",
       "    </tr>\n",
       "    <tr>\n",
       "      <th>24</th>\n",
       "      <td>Missouri</td>\n",
       "      <td>69.5</td>\n",
       "      <td>100.5</td>\n",
       "      <td>68.7</td>\n",
       "    </tr>\n",
       "    <tr>\n",
       "      <th>25</th>\n",
       "      <td>Montana</td>\n",
       "      <td>53.4</td>\n",
       "      <td>108.8</td>\n",
       "      <td>68.3</td>\n",
       "    </tr>\n",
       "    <tr>\n",
       "      <th>26</th>\n",
       "      <td>Nebraska</td>\n",
       "      <td>73.0</td>\n",
       "      <td>69.0</td>\n",
       "      <td>77.4</td>\n",
       "    </tr>\n",
       "    <tr>\n",
       "      <th>27</th>\n",
       "      <td>Nevada</td>\n",
       "      <td>94.1</td>\n",
       "      <td>141.6</td>\n",
       "      <td>74.5</td>\n",
       "    </tr>\n",
       "    <tr>\n",
       "      <th>28</th>\n",
       "      <td>New Hampshire</td>\n",
       "      <td>58.3</td>\n",
       "      <td>60.2</td>\n",
       "      <td>80.7</td>\n",
       "    </tr>\n",
       "    <tr>\n",
       "      <th>29</th>\n",
       "      <td>New Jersey</td>\n",
       "      <td>93.8</td>\n",
       "      <td>71.9</td>\n",
       "      <td>89.2</td>\n",
       "    </tr>\n",
       "    <tr>\n",
       "      <th>30</th>\n",
       "      <td>New Mexico</td>\n",
       "      <td>74.5</td>\n",
       "      <td>136.3</td>\n",
       "      <td>85.5</td>\n",
       "    </tr>\n",
       "    <tr>\n",
       "      <th>31</th>\n",
       "      <td>New York</td>\n",
       "      <td>87.4</td>\n",
       "      <td>83.9</td>\n",
       "      <td>90.8</td>\n",
       "    </tr>\n",
       "    <tr>\n",
       "      <th>32</th>\n",
       "      <td>North Carolina</td>\n",
       "      <td>66.7</td>\n",
       "      <td>107.5</td>\n",
       "      <td>77.1</td>\n",
       "    </tr>\n",
       "    <tr>\n",
       "      <th>33</th>\n",
       "      <td>North Dakota</td>\n",
       "      <td>61.0</td>\n",
       "      <td>70.9</td>\n",
       "      <td>69.4</td>\n",
       "    </tr>\n",
       "    <tr>\n",
       "      <th>34</th>\n",
       "      <td>Ohio</td>\n",
       "      <td>76.3</td>\n",
       "      <td>122.8</td>\n",
       "      <td>69.9</td>\n",
       "    </tr>\n",
       "    <tr>\n",
       "      <th>35</th>\n",
       "      <td>Oklahoma</td>\n",
       "      <td>64.6</td>\n",
       "      <td>158.8</td>\n",
       "      <td>72.3</td>\n",
       "    </tr>\n",
       "    <tr>\n",
       "      <th>36</th>\n",
       "      <td>Oregon</td>\n",
       "      <td>80.5</td>\n",
       "      <td>69.2</td>\n",
       "      <td>81.3</td>\n",
       "    </tr>\n",
       "    <tr>\n",
       "      <th>37</th>\n",
       "      <td>Pennsylvania</td>\n",
       "      <td>76.5</td>\n",
       "      <td>102.5</td>\n",
       "      <td>83.1</td>\n",
       "    </tr>\n",
       "    <tr>\n",
       "      <th>38</th>\n",
       "      <td>Rhode Island</td>\n",
       "      <td>91.1</td>\n",
       "      <td>66.4</td>\n",
       "      <td>95.0</td>\n",
       "    </tr>\n",
       "    <tr>\n",
       "      <th>39</th>\n",
       "      <td>South Carolina</td>\n",
       "      <td>67.9</td>\n",
       "      <td>139.2</td>\n",
       "      <td>69.6</td>\n",
       "    </tr>\n",
       "    <tr>\n",
       "      <th>40</th>\n",
       "      <td>South Dakota</td>\n",
       "      <td>57.2</td>\n",
       "      <td>71.2</td>\n",
       "      <td>78.5</td>\n",
       "    </tr>\n",
       "    <tr>\n",
       "      <th>41</th>\n",
       "      <td>Tennessee</td>\n",
       "      <td>66.2</td>\n",
       "      <td>142.5</td>\n",
       "      <td>66.3</td>\n",
       "    </tr>\n",
       "    <tr>\n",
       "      <th>42</th>\n",
       "      <td>Texas</td>\n",
       "      <td>83.7</td>\n",
       "      <td>151.4</td>\n",
       "      <td>74.1</td>\n",
       "    </tr>\n",
       "    <tr>\n",
       "      <th>43</th>\n",
       "      <td>Utah</td>\n",
       "      <td>89.8</td>\n",
       "      <td>78.2</td>\n",
       "      <td>80.0</td>\n",
       "    </tr>\n",
       "    <tr>\n",
       "      <th>44</th>\n",
       "      <td>Vermont</td>\n",
       "      <td>35.1</td>\n",
       "      <td>29.5</td>\n",
       "      <td>91.7</td>\n",
       "    </tr>\n",
       "    <tr>\n",
       "      <th>45</th>\n",
       "      <td>Virginia</td>\n",
       "      <td>75.6</td>\n",
       "      <td>88.5</td>\n",
       "      <td>85.4</td>\n",
       "    </tr>\n",
       "    <tr>\n",
       "      <th>46</th>\n",
       "      <td>Washington</td>\n",
       "      <td>83.4</td>\n",
       "      <td>61.5</td>\n",
       "      <td>85.6</td>\n",
       "    </tr>\n",
       "    <tr>\n",
       "      <th>47</th>\n",
       "      <td>West Virginia</td>\n",
       "      <td>44.6</td>\n",
       "      <td>146.8</td>\n",
       "      <td>69.0</td>\n",
       "    </tr>\n",
       "    <tr>\n",
       "      <th>48</th>\n",
       "      <td>Wisconsin</td>\n",
       "      <td>67.1</td>\n",
       "      <td>71.1</td>\n",
       "      <td>77.7</td>\n",
       "    </tr>\n",
       "    <tr>\n",
       "      <th>49</th>\n",
       "      <td>Wyoming</td>\n",
       "      <td>62.0</td>\n",
       "      <td>143.4</td>\n",
       "      <td>63.3</td>\n",
       "    </tr>\n",
       "  </tbody>\n",
       "</table>\n",
       "</div>"
      ],
      "text/plain": [
       "        STATE NAME  2020 PCT URBAN POP   RATE  \\\n",
       "0          Alabama                57.7  152.8   \n",
       "1           Alaska                64.9  109.5   \n",
       "2          Arizona                89.3  139.5   \n",
       "3         Arkansas                55.5  127.7   \n",
       "4       California                94.2   99.9   \n",
       "5         Colorado                86.0   84.2   \n",
       "6      Connecticut                86.3   56.7   \n",
       "7         Delaware                82.6   83.2   \n",
       "8          Florida                91.5  111.7   \n",
       "9          Georgia                74.1  135.9   \n",
       "10          Hawaii                86.1   36.5   \n",
       "11           Idaho                69.2  112.3   \n",
       "12        Illinois                86.9   73.4   \n",
       "13         Indiana                71.2  106.8   \n",
       "14            Iowa                63.2   75.9   \n",
       "15          Kansas                72.3  103.1   \n",
       "16        Kentucky                58.7  136.7   \n",
       "17       Louisiana                71.5  116.9   \n",
       "18           Maine                38.6   66.2   \n",
       "19        Maryland                85.6   71.2   \n",
       "20   Massachusetts                91.3   54.6   \n",
       "21        Michigan                73.5  107.1   \n",
       "22       Minnesota                71.9   64.1   \n",
       "23     Mississippi                46.3  146.3   \n",
       "24        Missouri                69.5  100.5   \n",
       "25         Montana                53.4  108.8   \n",
       "26        Nebraska                73.0   69.0   \n",
       "27          Nevada                94.1  141.6   \n",
       "28   New Hampshire                58.3   60.2   \n",
       "29      New Jersey                93.8   71.9   \n",
       "30      New Mexico                74.5  136.3   \n",
       "31        New York                87.4   83.9   \n",
       "32  North Carolina                66.7  107.5   \n",
       "33    North Dakota                61.0   70.9   \n",
       "34            Ohio                76.3  122.8   \n",
       "35        Oklahoma                64.6  158.8   \n",
       "36          Oregon                80.5   69.2   \n",
       "37    Pennsylvania                76.5  102.5   \n",
       "38    Rhode Island                91.1   66.4   \n",
       "39  South Carolina                67.9  139.2   \n",
       "40    South Dakota                57.2   71.2   \n",
       "41       Tennessee                66.2  142.5   \n",
       "42           Texas                83.7  151.4   \n",
       "43            Utah                89.8   78.2   \n",
       "44         Vermont                35.1   29.5   \n",
       "45        Virginia                75.6   88.5   \n",
       "46      Washington                83.4   61.5   \n",
       "47   West Virginia                44.6  146.8   \n",
       "48       Wisconsin                67.1   71.1   \n",
       "49         Wyoming                62.0  143.4   \n",
       "\n",
       "    Percent of 18+ pop with a completed primary series  \n",
       "0                                                63.3   \n",
       "1                                                75.9   \n",
       "2                                                75.2   \n",
       "3                                                66.8   \n",
       "4                                                83.9   \n",
       "5                                                82.9   \n",
       "6                                                91.7   \n",
       "7                                                83.2   \n",
       "8                                                79.6   \n",
       "9                                                67.7   \n",
       "10                                               90.5   \n",
       "11                                               67.9   \n",
       "12                                               79.9   \n",
       "13                                               68.0   \n",
       "14                                               74.9   \n",
       "15                                               76.3   \n",
       "16                                               69.9   \n",
       "17                                               66.0   \n",
       "18                                               91.9   \n",
       "19                                               88.6   \n",
       "20                                               91.8   \n",
       "21                                               71.6   \n",
       "22                                               81.5   \n",
       "23                                               64.2   \n",
       "24                                               68.7   \n",
       "25                                               68.3   \n",
       "26                                               77.4   \n",
       "27                                               74.5   \n",
       "28                                               80.7   \n",
       "29                                               89.2   \n",
       "30                                               85.5   \n",
       "31                                               90.8   \n",
       "32                                               77.1   \n",
       "33                                               69.4   \n",
       "34                                               69.9   \n",
       "35                                               72.3   \n",
       "36                                               81.3   \n",
       "37                                               83.1   \n",
       "38                                               95.0   \n",
       "39                                               69.6   \n",
       "40                                               78.5   \n",
       "41                                               66.3   \n",
       "42                                               74.1   \n",
       "43                                               80.0   \n",
       "44                                               91.7   \n",
       "45                                               85.4   \n",
       "46                                               85.6   \n",
       "47                                               69.0   \n",
       "48                                               77.7   \n",
       "49                                               63.3   "
      ]
     },
     "execution_count": 62,
     "metadata": {},
     "output_type": "execute_result"
    }
   ],
   "source": [
    "# Drop duplicate state columns\n",
    "full_merged_df = full_merged_df.drop(columns=['STATE', 'State'])\n",
    "full_merged_df"
   ]
  },
  {
   "cell_type": "code",
   "execution_count": 71,
   "id": "eecb7d12",
   "metadata": {},
   "outputs": [
    {
     "data": {
      "text/html": [
       "<div>\n",
       "<style scoped>\n",
       "    .dataframe tbody tr th:only-of-type {\n",
       "        vertical-align: middle;\n",
       "    }\n",
       "\n",
       "    .dataframe tbody tr th {\n",
       "        vertical-align: top;\n",
       "    }\n",
       "\n",
       "    .dataframe thead th {\n",
       "        text-align: right;\n",
       "    }\n",
       "</style>\n",
       "<table border=\"1\" class=\"dataframe\">\n",
       "  <thead>\n",
       "    <tr style=\"text-align: right;\">\n",
       "      <th></th>\n",
       "      <th>STATE NAME</th>\n",
       "      <th>Percent of Population in Urban Areas</th>\n",
       "      <th>Covid Deaths per 100,000 Residents</th>\n",
       "      <th>Percent of Adult Population Completed Primary Vaccination Series</th>\n",
       "    </tr>\n",
       "  </thead>\n",
       "  <tbody>\n",
       "    <tr>\n",
       "      <th>0</th>\n",
       "      <td>Alabama</td>\n",
       "      <td>57.7</td>\n",
       "      <td>152.8</td>\n",
       "      <td>63.3</td>\n",
       "    </tr>\n",
       "    <tr>\n",
       "      <th>1</th>\n",
       "      <td>Alaska</td>\n",
       "      <td>64.9</td>\n",
       "      <td>109.5</td>\n",
       "      <td>75.9</td>\n",
       "    </tr>\n",
       "    <tr>\n",
       "      <th>2</th>\n",
       "      <td>Arizona</td>\n",
       "      <td>89.3</td>\n",
       "      <td>139.5</td>\n",
       "      <td>75.2</td>\n",
       "    </tr>\n",
       "    <tr>\n",
       "      <th>3</th>\n",
       "      <td>Arkansas</td>\n",
       "      <td>55.5</td>\n",
       "      <td>127.7</td>\n",
       "      <td>66.8</td>\n",
       "    </tr>\n",
       "    <tr>\n",
       "      <th>4</th>\n",
       "      <td>California</td>\n",
       "      <td>94.2</td>\n",
       "      <td>99.9</td>\n",
       "      <td>83.9</td>\n",
       "    </tr>\n",
       "    <tr>\n",
       "      <th>5</th>\n",
       "      <td>Colorado</td>\n",
       "      <td>86.0</td>\n",
       "      <td>84.2</td>\n",
       "      <td>82.9</td>\n",
       "    </tr>\n",
       "    <tr>\n",
       "      <th>6</th>\n",
       "      <td>Connecticut</td>\n",
       "      <td>86.3</td>\n",
       "      <td>56.7</td>\n",
       "      <td>91.7</td>\n",
       "    </tr>\n",
       "    <tr>\n",
       "      <th>7</th>\n",
       "      <td>Delaware</td>\n",
       "      <td>82.6</td>\n",
       "      <td>83.2</td>\n",
       "      <td>83.2</td>\n",
       "    </tr>\n",
       "    <tr>\n",
       "      <th>8</th>\n",
       "      <td>Florida</td>\n",
       "      <td>91.5</td>\n",
       "      <td>111.7</td>\n",
       "      <td>79.6</td>\n",
       "    </tr>\n",
       "    <tr>\n",
       "      <th>9</th>\n",
       "      <td>Georgia</td>\n",
       "      <td>74.1</td>\n",
       "      <td>135.9</td>\n",
       "      <td>67.7</td>\n",
       "    </tr>\n",
       "    <tr>\n",
       "      <th>10</th>\n",
       "      <td>Hawaii</td>\n",
       "      <td>86.1</td>\n",
       "      <td>36.5</td>\n",
       "      <td>90.5</td>\n",
       "    </tr>\n",
       "    <tr>\n",
       "      <th>11</th>\n",
       "      <td>Idaho</td>\n",
       "      <td>69.2</td>\n",
       "      <td>112.3</td>\n",
       "      <td>67.9</td>\n",
       "    </tr>\n",
       "    <tr>\n",
       "      <th>12</th>\n",
       "      <td>Illinois</td>\n",
       "      <td>86.9</td>\n",
       "      <td>73.4</td>\n",
       "      <td>79.9</td>\n",
       "    </tr>\n",
       "    <tr>\n",
       "      <th>13</th>\n",
       "      <td>Indiana</td>\n",
       "      <td>71.2</td>\n",
       "      <td>106.8</td>\n",
       "      <td>68.0</td>\n",
       "    </tr>\n",
       "    <tr>\n",
       "      <th>14</th>\n",
       "      <td>Iowa</td>\n",
       "      <td>63.2</td>\n",
       "      <td>75.9</td>\n",
       "      <td>74.9</td>\n",
       "    </tr>\n",
       "    <tr>\n",
       "      <th>15</th>\n",
       "      <td>Kansas</td>\n",
       "      <td>72.3</td>\n",
       "      <td>103.1</td>\n",
       "      <td>76.3</td>\n",
       "    </tr>\n",
       "    <tr>\n",
       "      <th>16</th>\n",
       "      <td>Kentucky</td>\n",
       "      <td>58.7</td>\n",
       "      <td>136.7</td>\n",
       "      <td>69.9</td>\n",
       "    </tr>\n",
       "    <tr>\n",
       "      <th>17</th>\n",
       "      <td>Louisiana</td>\n",
       "      <td>71.5</td>\n",
       "      <td>116.9</td>\n",
       "      <td>66.0</td>\n",
       "    </tr>\n",
       "    <tr>\n",
       "      <th>18</th>\n",
       "      <td>Maine</td>\n",
       "      <td>38.6</td>\n",
       "      <td>66.2</td>\n",
       "      <td>91.9</td>\n",
       "    </tr>\n",
       "    <tr>\n",
       "      <th>19</th>\n",
       "      <td>Maryland</td>\n",
       "      <td>85.6</td>\n",
       "      <td>71.2</td>\n",
       "      <td>88.6</td>\n",
       "    </tr>\n",
       "    <tr>\n",
       "      <th>20</th>\n",
       "      <td>Massachusetts</td>\n",
       "      <td>91.3</td>\n",
       "      <td>54.6</td>\n",
       "      <td>91.8</td>\n",
       "    </tr>\n",
       "    <tr>\n",
       "      <th>21</th>\n",
       "      <td>Michigan</td>\n",
       "      <td>73.5</td>\n",
       "      <td>107.1</td>\n",
       "      <td>71.6</td>\n",
       "    </tr>\n",
       "    <tr>\n",
       "      <th>22</th>\n",
       "      <td>Minnesota</td>\n",
       "      <td>71.9</td>\n",
       "      <td>64.1</td>\n",
       "      <td>81.5</td>\n",
       "    </tr>\n",
       "    <tr>\n",
       "      <th>23</th>\n",
       "      <td>Mississippi</td>\n",
       "      <td>46.3</td>\n",
       "      <td>146.3</td>\n",
       "      <td>64.2</td>\n",
       "    </tr>\n",
       "    <tr>\n",
       "      <th>24</th>\n",
       "      <td>Missouri</td>\n",
       "      <td>69.5</td>\n",
       "      <td>100.5</td>\n",
       "      <td>68.7</td>\n",
       "    </tr>\n",
       "    <tr>\n",
       "      <th>25</th>\n",
       "      <td>Montana</td>\n",
       "      <td>53.4</td>\n",
       "      <td>108.8</td>\n",
       "      <td>68.3</td>\n",
       "    </tr>\n",
       "    <tr>\n",
       "      <th>26</th>\n",
       "      <td>Nebraska</td>\n",
       "      <td>73.0</td>\n",
       "      <td>69.0</td>\n",
       "      <td>77.4</td>\n",
       "    </tr>\n",
       "    <tr>\n",
       "      <th>27</th>\n",
       "      <td>Nevada</td>\n",
       "      <td>94.1</td>\n",
       "      <td>141.6</td>\n",
       "      <td>74.5</td>\n",
       "    </tr>\n",
       "    <tr>\n",
       "      <th>28</th>\n",
       "      <td>New Hampshire</td>\n",
       "      <td>58.3</td>\n",
       "      <td>60.2</td>\n",
       "      <td>80.7</td>\n",
       "    </tr>\n",
       "    <tr>\n",
       "      <th>29</th>\n",
       "      <td>New Jersey</td>\n",
       "      <td>93.8</td>\n",
       "      <td>71.9</td>\n",
       "      <td>89.2</td>\n",
       "    </tr>\n",
       "    <tr>\n",
       "      <th>30</th>\n",
       "      <td>New Mexico</td>\n",
       "      <td>74.5</td>\n",
       "      <td>136.3</td>\n",
       "      <td>85.5</td>\n",
       "    </tr>\n",
       "    <tr>\n",
       "      <th>31</th>\n",
       "      <td>New York</td>\n",
       "      <td>87.4</td>\n",
       "      <td>83.9</td>\n",
       "      <td>90.8</td>\n",
       "    </tr>\n",
       "    <tr>\n",
       "      <th>32</th>\n",
       "      <td>North Carolina</td>\n",
       "      <td>66.7</td>\n",
       "      <td>107.5</td>\n",
       "      <td>77.1</td>\n",
       "    </tr>\n",
       "    <tr>\n",
       "      <th>33</th>\n",
       "      <td>North Dakota</td>\n",
       "      <td>61.0</td>\n",
       "      <td>70.9</td>\n",
       "      <td>69.4</td>\n",
       "    </tr>\n",
       "    <tr>\n",
       "      <th>34</th>\n",
       "      <td>Ohio</td>\n",
       "      <td>76.3</td>\n",
       "      <td>122.8</td>\n",
       "      <td>69.9</td>\n",
       "    </tr>\n",
       "    <tr>\n",
       "      <th>35</th>\n",
       "      <td>Oklahoma</td>\n",
       "      <td>64.6</td>\n",
       "      <td>158.8</td>\n",
       "      <td>72.3</td>\n",
       "    </tr>\n",
       "    <tr>\n",
       "      <th>36</th>\n",
       "      <td>Oregon</td>\n",
       "      <td>80.5</td>\n",
       "      <td>69.2</td>\n",
       "      <td>81.3</td>\n",
       "    </tr>\n",
       "    <tr>\n",
       "      <th>37</th>\n",
       "      <td>Pennsylvania</td>\n",
       "      <td>76.5</td>\n",
       "      <td>102.5</td>\n",
       "      <td>83.1</td>\n",
       "    </tr>\n",
       "    <tr>\n",
       "      <th>38</th>\n",
       "      <td>Rhode Island</td>\n",
       "      <td>91.1</td>\n",
       "      <td>66.4</td>\n",
       "      <td>95.0</td>\n",
       "    </tr>\n",
       "    <tr>\n",
       "      <th>39</th>\n",
       "      <td>South Carolina</td>\n",
       "      <td>67.9</td>\n",
       "      <td>139.2</td>\n",
       "      <td>69.6</td>\n",
       "    </tr>\n",
       "    <tr>\n",
       "      <th>40</th>\n",
       "      <td>South Dakota</td>\n",
       "      <td>57.2</td>\n",
       "      <td>71.2</td>\n",
       "      <td>78.5</td>\n",
       "    </tr>\n",
       "    <tr>\n",
       "      <th>41</th>\n",
       "      <td>Tennessee</td>\n",
       "      <td>66.2</td>\n",
       "      <td>142.5</td>\n",
       "      <td>66.3</td>\n",
       "    </tr>\n",
       "    <tr>\n",
       "      <th>42</th>\n",
       "      <td>Texas</td>\n",
       "      <td>83.7</td>\n",
       "      <td>151.4</td>\n",
       "      <td>74.1</td>\n",
       "    </tr>\n",
       "    <tr>\n",
       "      <th>43</th>\n",
       "      <td>Utah</td>\n",
       "      <td>89.8</td>\n",
       "      <td>78.2</td>\n",
       "      <td>80.0</td>\n",
       "    </tr>\n",
       "    <tr>\n",
       "      <th>44</th>\n",
       "      <td>Vermont</td>\n",
       "      <td>35.1</td>\n",
       "      <td>29.5</td>\n",
       "      <td>91.7</td>\n",
       "    </tr>\n",
       "    <tr>\n",
       "      <th>45</th>\n",
       "      <td>Virginia</td>\n",
       "      <td>75.6</td>\n",
       "      <td>88.5</td>\n",
       "      <td>85.4</td>\n",
       "    </tr>\n",
       "    <tr>\n",
       "      <th>46</th>\n",
       "      <td>Washington</td>\n",
       "      <td>83.4</td>\n",
       "      <td>61.5</td>\n",
       "      <td>85.6</td>\n",
       "    </tr>\n",
       "    <tr>\n",
       "      <th>47</th>\n",
       "      <td>West Virginia</td>\n",
       "      <td>44.6</td>\n",
       "      <td>146.8</td>\n",
       "      <td>69.0</td>\n",
       "    </tr>\n",
       "    <tr>\n",
       "      <th>48</th>\n",
       "      <td>Wisconsin</td>\n",
       "      <td>67.1</td>\n",
       "      <td>71.1</td>\n",
       "      <td>77.7</td>\n",
       "    </tr>\n",
       "    <tr>\n",
       "      <th>49</th>\n",
       "      <td>Wyoming</td>\n",
       "      <td>62.0</td>\n",
       "      <td>143.4</td>\n",
       "      <td>63.3</td>\n",
       "    </tr>\n",
       "  </tbody>\n",
       "</table>\n",
       "</div>"
      ],
      "text/plain": [
       "        STATE NAME  Percent of Population in Urban Areas  \\\n",
       "0          Alabama                                  57.7   \n",
       "1           Alaska                                  64.9   \n",
       "2          Arizona                                  89.3   \n",
       "3         Arkansas                                  55.5   \n",
       "4       California                                  94.2   \n",
       "5         Colorado                                  86.0   \n",
       "6      Connecticut                                  86.3   \n",
       "7         Delaware                                  82.6   \n",
       "8          Florida                                  91.5   \n",
       "9          Georgia                                  74.1   \n",
       "10          Hawaii                                  86.1   \n",
       "11           Idaho                                  69.2   \n",
       "12        Illinois                                  86.9   \n",
       "13         Indiana                                  71.2   \n",
       "14            Iowa                                  63.2   \n",
       "15          Kansas                                  72.3   \n",
       "16        Kentucky                                  58.7   \n",
       "17       Louisiana                                  71.5   \n",
       "18           Maine                                  38.6   \n",
       "19        Maryland                                  85.6   \n",
       "20   Massachusetts                                  91.3   \n",
       "21        Michigan                                  73.5   \n",
       "22       Minnesota                                  71.9   \n",
       "23     Mississippi                                  46.3   \n",
       "24        Missouri                                  69.5   \n",
       "25         Montana                                  53.4   \n",
       "26        Nebraska                                  73.0   \n",
       "27          Nevada                                  94.1   \n",
       "28   New Hampshire                                  58.3   \n",
       "29      New Jersey                                  93.8   \n",
       "30      New Mexico                                  74.5   \n",
       "31        New York                                  87.4   \n",
       "32  North Carolina                                  66.7   \n",
       "33    North Dakota                                  61.0   \n",
       "34            Ohio                                  76.3   \n",
       "35        Oklahoma                                  64.6   \n",
       "36          Oregon                                  80.5   \n",
       "37    Pennsylvania                                  76.5   \n",
       "38    Rhode Island                                  91.1   \n",
       "39  South Carolina                                  67.9   \n",
       "40    South Dakota                                  57.2   \n",
       "41       Tennessee                                  66.2   \n",
       "42           Texas                                  83.7   \n",
       "43            Utah                                  89.8   \n",
       "44         Vermont                                  35.1   \n",
       "45        Virginia                                  75.6   \n",
       "46      Washington                                  83.4   \n",
       "47   West Virginia                                  44.6   \n",
       "48       Wisconsin                                  67.1   \n",
       "49         Wyoming                                  62.0   \n",
       "\n",
       "    Covid Deaths per 100,000 Residents  \\\n",
       "0                                152.8   \n",
       "1                                109.5   \n",
       "2                                139.5   \n",
       "3                                127.7   \n",
       "4                                 99.9   \n",
       "5                                 84.2   \n",
       "6                                 56.7   \n",
       "7                                 83.2   \n",
       "8                                111.7   \n",
       "9                                135.9   \n",
       "10                                36.5   \n",
       "11                               112.3   \n",
       "12                                73.4   \n",
       "13                               106.8   \n",
       "14                                75.9   \n",
       "15                               103.1   \n",
       "16                               136.7   \n",
       "17                               116.9   \n",
       "18                                66.2   \n",
       "19                                71.2   \n",
       "20                                54.6   \n",
       "21                               107.1   \n",
       "22                                64.1   \n",
       "23                               146.3   \n",
       "24                               100.5   \n",
       "25                               108.8   \n",
       "26                                69.0   \n",
       "27                               141.6   \n",
       "28                                60.2   \n",
       "29                                71.9   \n",
       "30                               136.3   \n",
       "31                                83.9   \n",
       "32                               107.5   \n",
       "33                                70.9   \n",
       "34                               122.8   \n",
       "35                               158.8   \n",
       "36                                69.2   \n",
       "37                               102.5   \n",
       "38                                66.4   \n",
       "39                               139.2   \n",
       "40                                71.2   \n",
       "41                               142.5   \n",
       "42                               151.4   \n",
       "43                                78.2   \n",
       "44                                29.5   \n",
       "45                                88.5   \n",
       "46                                61.5   \n",
       "47                               146.8   \n",
       "48                                71.1   \n",
       "49                               143.4   \n",
       "\n",
       "    Percent of Adult Population Completed Primary Vaccination Series  \n",
       "0                                                63.3                 \n",
       "1                                                75.9                 \n",
       "2                                                75.2                 \n",
       "3                                                66.8                 \n",
       "4                                                83.9                 \n",
       "5                                                82.9                 \n",
       "6                                                91.7                 \n",
       "7                                                83.2                 \n",
       "8                                                79.6                 \n",
       "9                                                67.7                 \n",
       "10                                               90.5                 \n",
       "11                                               67.9                 \n",
       "12                                               79.9                 \n",
       "13                                               68.0                 \n",
       "14                                               74.9                 \n",
       "15                                               76.3                 \n",
       "16                                               69.9                 \n",
       "17                                               66.0                 \n",
       "18                                               91.9                 \n",
       "19                                               88.6                 \n",
       "20                                               91.8                 \n",
       "21                                               71.6                 \n",
       "22                                               81.5                 \n",
       "23                                               64.2                 \n",
       "24                                               68.7                 \n",
       "25                                               68.3                 \n",
       "26                                               77.4                 \n",
       "27                                               74.5                 \n",
       "28                                               80.7                 \n",
       "29                                               89.2                 \n",
       "30                                               85.5                 \n",
       "31                                               90.8                 \n",
       "32                                               77.1                 \n",
       "33                                               69.4                 \n",
       "34                                               69.9                 \n",
       "35                                               72.3                 \n",
       "36                                               81.3                 \n",
       "37                                               83.1                 \n",
       "38                                               95.0                 \n",
       "39                                               69.6                 \n",
       "40                                               78.5                 \n",
       "41                                               66.3                 \n",
       "42                                               74.1                 \n",
       "43                                               80.0                 \n",
       "44                                               91.7                 \n",
       "45                                               85.4                 \n",
       "46                                               85.6                 \n",
       "47                                               69.0                 \n",
       "48                                               77.7                 \n",
       "49                                               63.3                 "
      ]
     },
     "execution_count": 71,
     "metadata": {},
     "output_type": "execute_result"
    }
   ],
   "source": [
    "# Rename columns for explictness\n",
    "full_merged_df2 = full_merged_df.rename(columns={\"2020 PCT URBAN POP\": \"Percent of Population in Urban Areas\", \"RATE\": \"Covid Deaths per 100,000 Residents\", \"Percent of 18+ pop with a completed primary series\":\n",
    "\"Percent of Adult Population Completed Primary Vaccination Series\"}, errors=\"raise\")\n",
    "full_merged_df2"
   ]
  },
  {
   "cell_type": "code",
   "execution_count": 94,
   "id": "a876f510",
   "metadata": {},
   "outputs": [
    {
     "data": {
      "application/vnd.plotly.v1+json": {
       "config": {
        "plotlyServerURL": "https://plot.ly"
       },
       "data": [
        {
         "hovertemplate": "Percent of Population in Urban Areas=%{x}<br>Covid Deaths per 100,000 Residents=%{y}<extra></extra>",
         "legendgroup": "",
         "marker": {
          "color": "#636efa",
          "symbol": "circle"
         },
         "mode": "markers",
         "name": "",
         "orientation": "v",
         "showlegend": false,
         "type": "scatter",
         "x": [
          57.7,
          64.9,
          89.3,
          55.5,
          94.2,
          86,
          86.3,
          82.6,
          91.5,
          74.1,
          86.1,
          69.2,
          86.9,
          71.2,
          63.2,
          72.3,
          58.7,
          71.5,
          38.6,
          85.6,
          91.3,
          73.5,
          71.9,
          46.3,
          69.5,
          53.4,
          73,
          94.1,
          58.3,
          93.8,
          74.5,
          87.4,
          66.7,
          61,
          76.3,
          64.6,
          80.5,
          76.5,
          91.1,
          67.9,
          57.2,
          66.2,
          83.7,
          89.8,
          35.1,
          75.6,
          83.4,
          44.6,
          67.1,
          62
         ],
         "xaxis": "x",
         "y": [
          152.8,
          109.5,
          139.5,
          127.7,
          99.9,
          84.2,
          56.7,
          83.2,
          111.7,
          135.9,
          36.5,
          112.3,
          73.4,
          106.8,
          75.9,
          103.1,
          136.7,
          116.9,
          66.2,
          71.2,
          54.6,
          107.1,
          64.1,
          146.3,
          100.5,
          108.8,
          69,
          141.6,
          60.2,
          71.9,
          136.3,
          83.9,
          107.5,
          70.9,
          122.8,
          158.8,
          69.2,
          102.5,
          66.4,
          139.2,
          71.2,
          142.5,
          151.4,
          78.2,
          29.5,
          88.5,
          61.5,
          146.8,
          71.1,
          143.4
         ],
         "yaxis": "y"
        },
        {
         "hovertemplate": "<b>OLS trendline</b><br>Covid Deaths per 100,000 Residents = -0.362508 * Percent of Population in Urban Areas + 125.574<br>R<sup>2</sup>=0.025172<br><br>Percent of Population in Urban Areas=%{x}<br>Covid Deaths per 100,000 Residents=%{y} <b>(trend)</b><extra></extra>",
         "legendgroup": "",
         "line": {
          "color": "red"
         },
         "marker": {
          "color": "#636efa",
          "symbol": "circle"
         },
         "mode": "lines",
         "name": "",
         "showlegend": false,
         "type": "scatter",
         "x": [
          35.1,
          38.6,
          44.6,
          46.3,
          53.4,
          55.5,
          57.2,
          57.7,
          58.3,
          58.7,
          61,
          62,
          63.2,
          64.6,
          64.9,
          66.2,
          66.7,
          67.1,
          67.9,
          69.2,
          69.5,
          71.2,
          71.5,
          71.9,
          72.3,
          73,
          73.5,
          74.1,
          74.5,
          75.6,
          76.3,
          76.5,
          80.5,
          82.6,
          83.4,
          83.7,
          85.6,
          86,
          86.1,
          86.3,
          86.9,
          87.4,
          89.3,
          89.8,
          91.1,
          91.3,
          91.5,
          93.8,
          94.1,
          94.2
         ],
         "xaxis": "x",
         "y": [
          112.84988918432005,
          111.58110973006602,
          109.4060592370591,
          108.78979493070713,
          106.21598518064894,
          105.45471750809652,
          104.83845320174456,
          104.65719899399397,
          104.43969394469329,
          104.29469057849282,
          103.46092122284017,
          103.09841280733902,
          102.66340270873764,
          102.15589092703603,
          102.04713840238567,
          101.57587746223417,
          101.39462325448359,
          101.24961988828314,
          100.95961315588221,
          100.48835221573071,
          100.37959969108036,
          99.7633353847284,
          99.65458286007805,
          99.5095794938776,
          99.36457612767714,
          99.11082023682633,
          98.92956602907574,
          98.71206097977506,
          98.56705761357459,
          98.16829835652332,
          97.91454246567253,
          97.84204078257228,
          96.39200712056767,
          95.63073944801525,
          95.34073271561432,
          95.23198019096398,
          94.54321420151179,
          94.39821083531133,
          94.36195999376122,
          94.28945831066098,
          94.07195326136029,
          93.89069905360971,
          93.20193306415752,
          93.02067885640695,
          92.54941791625545,
          92.47691623315521,
          92.40441455005498,
          91.57064519440233,
          91.46189266975199,
          91.42564182820186
         ],
         "yaxis": "y"
        }
       ],
       "layout": {
        "legend": {
         "tracegroupgap": 0
        },
        "margin": {
         "t": 60
        },
        "template": {
         "data": {
          "bar": [
           {
            "error_x": {
             "color": "#2a3f5f"
            },
            "error_y": {
             "color": "#2a3f5f"
            },
            "marker": {
             "line": {
              "color": "#E5ECF6",
              "width": 0.5
             },
             "pattern": {
              "fillmode": "overlay",
              "size": 10,
              "solidity": 0.2
             }
            },
            "type": "bar"
           }
          ],
          "barpolar": [
           {
            "marker": {
             "line": {
              "color": "#E5ECF6",
              "width": 0.5
             },
             "pattern": {
              "fillmode": "overlay",
              "size": 10,
              "solidity": 0.2
             }
            },
            "type": "barpolar"
           }
          ],
          "carpet": [
           {
            "aaxis": {
             "endlinecolor": "#2a3f5f",
             "gridcolor": "white",
             "linecolor": "white",
             "minorgridcolor": "white",
             "startlinecolor": "#2a3f5f"
            },
            "baxis": {
             "endlinecolor": "#2a3f5f",
             "gridcolor": "white",
             "linecolor": "white",
             "minorgridcolor": "white",
             "startlinecolor": "#2a3f5f"
            },
            "type": "carpet"
           }
          ],
          "choropleth": [
           {
            "colorbar": {
             "outlinewidth": 0,
             "ticks": ""
            },
            "type": "choropleth"
           }
          ],
          "contour": [
           {
            "colorbar": {
             "outlinewidth": 0,
             "ticks": ""
            },
            "colorscale": [
             [
              0,
              "#0d0887"
             ],
             [
              0.1111111111111111,
              "#46039f"
             ],
             [
              0.2222222222222222,
              "#7201a8"
             ],
             [
              0.3333333333333333,
              "#9c179e"
             ],
             [
              0.4444444444444444,
              "#bd3786"
             ],
             [
              0.5555555555555556,
              "#d8576b"
             ],
             [
              0.6666666666666666,
              "#ed7953"
             ],
             [
              0.7777777777777778,
              "#fb9f3a"
             ],
             [
              0.8888888888888888,
              "#fdca26"
             ],
             [
              1,
              "#f0f921"
             ]
            ],
            "type": "contour"
           }
          ],
          "contourcarpet": [
           {
            "colorbar": {
             "outlinewidth": 0,
             "ticks": ""
            },
            "type": "contourcarpet"
           }
          ],
          "heatmap": [
           {
            "colorbar": {
             "outlinewidth": 0,
             "ticks": ""
            },
            "colorscale": [
             [
              0,
              "#0d0887"
             ],
             [
              0.1111111111111111,
              "#46039f"
             ],
             [
              0.2222222222222222,
              "#7201a8"
             ],
             [
              0.3333333333333333,
              "#9c179e"
             ],
             [
              0.4444444444444444,
              "#bd3786"
             ],
             [
              0.5555555555555556,
              "#d8576b"
             ],
             [
              0.6666666666666666,
              "#ed7953"
             ],
             [
              0.7777777777777778,
              "#fb9f3a"
             ],
             [
              0.8888888888888888,
              "#fdca26"
             ],
             [
              1,
              "#f0f921"
             ]
            ],
            "type": "heatmap"
           }
          ],
          "heatmapgl": [
           {
            "colorbar": {
             "outlinewidth": 0,
             "ticks": ""
            },
            "colorscale": [
             [
              0,
              "#0d0887"
             ],
             [
              0.1111111111111111,
              "#46039f"
             ],
             [
              0.2222222222222222,
              "#7201a8"
             ],
             [
              0.3333333333333333,
              "#9c179e"
             ],
             [
              0.4444444444444444,
              "#bd3786"
             ],
             [
              0.5555555555555556,
              "#d8576b"
             ],
             [
              0.6666666666666666,
              "#ed7953"
             ],
             [
              0.7777777777777778,
              "#fb9f3a"
             ],
             [
              0.8888888888888888,
              "#fdca26"
             ],
             [
              1,
              "#f0f921"
             ]
            ],
            "type": "heatmapgl"
           }
          ],
          "histogram": [
           {
            "marker": {
             "pattern": {
              "fillmode": "overlay",
              "size": 10,
              "solidity": 0.2
             }
            },
            "type": "histogram"
           }
          ],
          "histogram2d": [
           {
            "colorbar": {
             "outlinewidth": 0,
             "ticks": ""
            },
            "colorscale": [
             [
              0,
              "#0d0887"
             ],
             [
              0.1111111111111111,
              "#46039f"
             ],
             [
              0.2222222222222222,
              "#7201a8"
             ],
             [
              0.3333333333333333,
              "#9c179e"
             ],
             [
              0.4444444444444444,
              "#bd3786"
             ],
             [
              0.5555555555555556,
              "#d8576b"
             ],
             [
              0.6666666666666666,
              "#ed7953"
             ],
             [
              0.7777777777777778,
              "#fb9f3a"
             ],
             [
              0.8888888888888888,
              "#fdca26"
             ],
             [
              1,
              "#f0f921"
             ]
            ],
            "type": "histogram2d"
           }
          ],
          "histogram2dcontour": [
           {
            "colorbar": {
             "outlinewidth": 0,
             "ticks": ""
            },
            "colorscale": [
             [
              0,
              "#0d0887"
             ],
             [
              0.1111111111111111,
              "#46039f"
             ],
             [
              0.2222222222222222,
              "#7201a8"
             ],
             [
              0.3333333333333333,
              "#9c179e"
             ],
             [
              0.4444444444444444,
              "#bd3786"
             ],
             [
              0.5555555555555556,
              "#d8576b"
             ],
             [
              0.6666666666666666,
              "#ed7953"
             ],
             [
              0.7777777777777778,
              "#fb9f3a"
             ],
             [
              0.8888888888888888,
              "#fdca26"
             ],
             [
              1,
              "#f0f921"
             ]
            ],
            "type": "histogram2dcontour"
           }
          ],
          "mesh3d": [
           {
            "colorbar": {
             "outlinewidth": 0,
             "ticks": ""
            },
            "type": "mesh3d"
           }
          ],
          "parcoords": [
           {
            "line": {
             "colorbar": {
              "outlinewidth": 0,
              "ticks": ""
             }
            },
            "type": "parcoords"
           }
          ],
          "pie": [
           {
            "automargin": true,
            "type": "pie"
           }
          ],
          "scatter": [
           {
            "fillpattern": {
             "fillmode": "overlay",
             "size": 10,
             "solidity": 0.2
            },
            "type": "scatter"
           }
          ],
          "scatter3d": [
           {
            "line": {
             "colorbar": {
              "outlinewidth": 0,
              "ticks": ""
             }
            },
            "marker": {
             "colorbar": {
              "outlinewidth": 0,
              "ticks": ""
             }
            },
            "type": "scatter3d"
           }
          ],
          "scattercarpet": [
           {
            "marker": {
             "colorbar": {
              "outlinewidth": 0,
              "ticks": ""
             }
            },
            "type": "scattercarpet"
           }
          ],
          "scattergeo": [
           {
            "marker": {
             "colorbar": {
              "outlinewidth": 0,
              "ticks": ""
             }
            },
            "type": "scattergeo"
           }
          ],
          "scattergl": [
           {
            "marker": {
             "colorbar": {
              "outlinewidth": 0,
              "ticks": ""
             }
            },
            "type": "scattergl"
           }
          ],
          "scattermapbox": [
           {
            "marker": {
             "colorbar": {
              "outlinewidth": 0,
              "ticks": ""
             }
            },
            "type": "scattermapbox"
           }
          ],
          "scatterpolar": [
           {
            "marker": {
             "colorbar": {
              "outlinewidth": 0,
              "ticks": ""
             }
            },
            "type": "scatterpolar"
           }
          ],
          "scatterpolargl": [
           {
            "marker": {
             "colorbar": {
              "outlinewidth": 0,
              "ticks": ""
             }
            },
            "type": "scatterpolargl"
           }
          ],
          "scatterternary": [
           {
            "marker": {
             "colorbar": {
              "outlinewidth": 0,
              "ticks": ""
             }
            },
            "type": "scatterternary"
           }
          ],
          "surface": [
           {
            "colorbar": {
             "outlinewidth": 0,
             "ticks": ""
            },
            "colorscale": [
             [
              0,
              "#0d0887"
             ],
             [
              0.1111111111111111,
              "#46039f"
             ],
             [
              0.2222222222222222,
              "#7201a8"
             ],
             [
              0.3333333333333333,
              "#9c179e"
             ],
             [
              0.4444444444444444,
              "#bd3786"
             ],
             [
              0.5555555555555556,
              "#d8576b"
             ],
             [
              0.6666666666666666,
              "#ed7953"
             ],
             [
              0.7777777777777778,
              "#fb9f3a"
             ],
             [
              0.8888888888888888,
              "#fdca26"
             ],
             [
              1,
              "#f0f921"
             ]
            ],
            "type": "surface"
           }
          ],
          "table": [
           {
            "cells": {
             "fill": {
              "color": "#EBF0F8"
             },
             "line": {
              "color": "white"
             }
            },
            "header": {
             "fill": {
              "color": "#C8D4E3"
             },
             "line": {
              "color": "white"
             }
            },
            "type": "table"
           }
          ]
         },
         "layout": {
          "annotationdefaults": {
           "arrowcolor": "#2a3f5f",
           "arrowhead": 0,
           "arrowwidth": 1
          },
          "autotypenumbers": "strict",
          "coloraxis": {
           "colorbar": {
            "outlinewidth": 0,
            "ticks": ""
           }
          },
          "colorscale": {
           "diverging": [
            [
             0,
             "#8e0152"
            ],
            [
             0.1,
             "#c51b7d"
            ],
            [
             0.2,
             "#de77ae"
            ],
            [
             0.3,
             "#f1b6da"
            ],
            [
             0.4,
             "#fde0ef"
            ],
            [
             0.5,
             "#f7f7f7"
            ],
            [
             0.6,
             "#e6f5d0"
            ],
            [
             0.7,
             "#b8e186"
            ],
            [
             0.8,
             "#7fbc41"
            ],
            [
             0.9,
             "#4d9221"
            ],
            [
             1,
             "#276419"
            ]
           ],
           "sequential": [
            [
             0,
             "#0d0887"
            ],
            [
             0.1111111111111111,
             "#46039f"
            ],
            [
             0.2222222222222222,
             "#7201a8"
            ],
            [
             0.3333333333333333,
             "#9c179e"
            ],
            [
             0.4444444444444444,
             "#bd3786"
            ],
            [
             0.5555555555555556,
             "#d8576b"
            ],
            [
             0.6666666666666666,
             "#ed7953"
            ],
            [
             0.7777777777777778,
             "#fb9f3a"
            ],
            [
             0.8888888888888888,
             "#fdca26"
            ],
            [
             1,
             "#f0f921"
            ]
           ],
           "sequentialminus": [
            [
             0,
             "#0d0887"
            ],
            [
             0.1111111111111111,
             "#46039f"
            ],
            [
             0.2222222222222222,
             "#7201a8"
            ],
            [
             0.3333333333333333,
             "#9c179e"
            ],
            [
             0.4444444444444444,
             "#bd3786"
            ],
            [
             0.5555555555555556,
             "#d8576b"
            ],
            [
             0.6666666666666666,
             "#ed7953"
            ],
            [
             0.7777777777777778,
             "#fb9f3a"
            ],
            [
             0.8888888888888888,
             "#fdca26"
            ],
            [
             1,
             "#f0f921"
            ]
           ]
          },
          "colorway": [
           "#636efa",
           "#EF553B",
           "#00cc96",
           "#ab63fa",
           "#FFA15A",
           "#19d3f3",
           "#FF6692",
           "#B6E880",
           "#FF97FF",
           "#FECB52"
          ],
          "font": {
           "color": "#2a3f5f"
          },
          "geo": {
           "bgcolor": "white",
           "lakecolor": "white",
           "landcolor": "#E5ECF6",
           "showlakes": true,
           "showland": true,
           "subunitcolor": "white"
          },
          "hoverlabel": {
           "align": "left"
          },
          "hovermode": "closest",
          "mapbox": {
           "style": "light"
          },
          "paper_bgcolor": "white",
          "plot_bgcolor": "#E5ECF6",
          "polar": {
           "angularaxis": {
            "gridcolor": "white",
            "linecolor": "white",
            "ticks": ""
           },
           "bgcolor": "#E5ECF6",
           "radialaxis": {
            "gridcolor": "white",
            "linecolor": "white",
            "ticks": ""
           }
          },
          "scene": {
           "xaxis": {
            "backgroundcolor": "#E5ECF6",
            "gridcolor": "white",
            "gridwidth": 2,
            "linecolor": "white",
            "showbackground": true,
            "ticks": "",
            "zerolinecolor": "white"
           },
           "yaxis": {
            "backgroundcolor": "#E5ECF6",
            "gridcolor": "white",
            "gridwidth": 2,
            "linecolor": "white",
            "showbackground": true,
            "ticks": "",
            "zerolinecolor": "white"
           },
           "zaxis": {
            "backgroundcolor": "#E5ECF6",
            "gridcolor": "white",
            "gridwidth": 2,
            "linecolor": "white",
            "showbackground": true,
            "ticks": "",
            "zerolinecolor": "white"
           }
          },
          "shapedefaults": {
           "line": {
            "color": "#2a3f5f"
           }
          },
          "ternary": {
           "aaxis": {
            "gridcolor": "white",
            "linecolor": "white",
            "ticks": ""
           },
           "baxis": {
            "gridcolor": "white",
            "linecolor": "white",
            "ticks": ""
           },
           "bgcolor": "#E5ECF6",
           "caxis": {
            "gridcolor": "white",
            "linecolor": "white",
            "ticks": ""
           }
          },
          "title": {
           "x": 0.05
          },
          "xaxis": {
           "automargin": true,
           "gridcolor": "white",
           "linecolor": "white",
           "ticks": "",
           "title": {
            "standoff": 15
           },
           "zerolinecolor": "white",
           "zerolinewidth": 2
          },
          "yaxis": {
           "automargin": true,
           "gridcolor": "white",
           "linecolor": "white",
           "ticks": "",
           "title": {
            "standoff": 15
           },
           "zerolinecolor": "white",
           "zerolinewidth": 2
          }
         }
        },
        "xaxis": {
         "anchor": "y",
         "domain": [
          0,
          1
         ],
         "title": {
          "text": "Percent of Population in Urban Areas"
         }
        },
        "yaxis": {
         "anchor": "x",
         "domain": [
          0,
          1
         ],
         "title": {
          "text": "Covid Deaths per 100,000 Residents"
         }
        }
       }
      },
      "text/html": [
       "<div>                            <div id=\"86234562-aecf-4f7e-b3b4-967078c1f6d3\" class=\"plotly-graph-div\" style=\"height:525px; width:100%;\"></div>            <script type=\"text/javascript\">                require([\"plotly\"], function(Plotly) {                    window.PLOTLYENV=window.PLOTLYENV || {};                                    if (document.getElementById(\"86234562-aecf-4f7e-b3b4-967078c1f6d3\")) {                    Plotly.newPlot(                        \"86234562-aecf-4f7e-b3b4-967078c1f6d3\",                        [{\"hovertemplate\":\"Percent of Population in Urban Areas=%{x}<br>Covid Deaths per 100,000 Residents=%{y}<extra></extra>\",\"legendgroup\":\"\",\"marker\":{\"color\":\"#636efa\",\"symbol\":\"circle\"},\"mode\":\"markers\",\"name\":\"\",\"orientation\":\"v\",\"showlegend\":false,\"x\":[57.7,64.9,89.3,55.5,94.2,86.0,86.3,82.6,91.5,74.1,86.1,69.2,86.9,71.2,63.2,72.3,58.7,71.5,38.6,85.6,91.3,73.5,71.9,46.3,69.5,53.4,73.0,94.1,58.3,93.8,74.5,87.4,66.7,61.0,76.3,64.6,80.5,76.5,91.1,67.9,57.2,66.2,83.7,89.8,35.1,75.6,83.4,44.6,67.1,62.0],\"xaxis\":\"x\",\"y\":[152.8,109.5,139.5,127.7,99.9,84.2,56.7,83.2,111.7,135.9,36.5,112.3,73.4,106.8,75.9,103.1,136.7,116.9,66.2,71.2,54.6,107.1,64.1,146.3,100.5,108.8,69.0,141.6,60.2,71.9,136.3,83.9,107.5,70.9,122.8,158.8,69.2,102.5,66.4,139.2,71.2,142.5,151.4,78.2,29.5,88.5,61.5,146.8,71.1,143.4],\"yaxis\":\"y\",\"type\":\"scatter\"},{\"hovertemplate\":\"<b>OLS trendline</b><br>Covid Deaths per 100,000 Residents = -0.362508 * Percent of Population in Urban Areas + 125.574<br>R<sup>2</sup>=0.025172<br><br>Percent of Population in Urban Areas=%{x}<br>Covid Deaths per 100,000 Residents=%{y} <b>(trend)</b><extra></extra>\",\"legendgroup\":\"\",\"line\":{\"color\":\"red\"},\"marker\":{\"color\":\"#636efa\",\"symbol\":\"circle\"},\"mode\":\"lines\",\"name\":\"\",\"showlegend\":false,\"x\":[35.1,38.6,44.6,46.3,53.4,55.5,57.2,57.7,58.3,58.7,61.0,62.0,63.2,64.6,64.9,66.2,66.7,67.1,67.9,69.2,69.5,71.2,71.5,71.9,72.3,73.0,73.5,74.1,74.5,75.6,76.3,76.5,80.5,82.6,83.4,83.7,85.6,86.0,86.1,86.3,86.9,87.4,89.3,89.8,91.1,91.3,91.5,93.8,94.1,94.2],\"xaxis\":\"x\",\"y\":[112.84988918432005,111.58110973006602,109.4060592370591,108.78979493070713,106.21598518064894,105.45471750809652,104.83845320174456,104.65719899399397,104.43969394469329,104.29469057849282,103.46092122284017,103.09841280733902,102.66340270873764,102.15589092703603,102.04713840238567,101.57587746223417,101.39462325448359,101.24961988828314,100.95961315588221,100.48835221573071,100.37959969108036,99.7633353847284,99.65458286007805,99.5095794938776,99.36457612767714,99.11082023682633,98.92956602907574,98.71206097977506,98.56705761357459,98.16829835652332,97.91454246567253,97.84204078257228,96.39200712056767,95.63073944801525,95.34073271561432,95.23198019096398,94.54321420151179,94.39821083531133,94.36195999376122,94.28945831066098,94.07195326136029,93.89069905360971,93.20193306415752,93.02067885640695,92.54941791625545,92.47691623315521,92.40441455005498,91.57064519440233,91.46189266975199,91.42564182820186],\"yaxis\":\"y\",\"type\":\"scatter\"}],                        {\"template\":{\"data\":{\"histogram2dcontour\":[{\"type\":\"histogram2dcontour\",\"colorbar\":{\"outlinewidth\":0,\"ticks\":\"\"},\"colorscale\":[[0.0,\"#0d0887\"],[0.1111111111111111,\"#46039f\"],[0.2222222222222222,\"#7201a8\"],[0.3333333333333333,\"#9c179e\"],[0.4444444444444444,\"#bd3786\"],[0.5555555555555556,\"#d8576b\"],[0.6666666666666666,\"#ed7953\"],[0.7777777777777778,\"#fb9f3a\"],[0.8888888888888888,\"#fdca26\"],[1.0,\"#f0f921\"]]}],\"choropleth\":[{\"type\":\"choropleth\",\"colorbar\":{\"outlinewidth\":0,\"ticks\":\"\"}}],\"histogram2d\":[{\"type\":\"histogram2d\",\"colorbar\":{\"outlinewidth\":0,\"ticks\":\"\"},\"colorscale\":[[0.0,\"#0d0887\"],[0.1111111111111111,\"#46039f\"],[0.2222222222222222,\"#7201a8\"],[0.3333333333333333,\"#9c179e\"],[0.4444444444444444,\"#bd3786\"],[0.5555555555555556,\"#d8576b\"],[0.6666666666666666,\"#ed7953\"],[0.7777777777777778,\"#fb9f3a\"],[0.8888888888888888,\"#fdca26\"],[1.0,\"#f0f921\"]]}],\"heatmap\":[{\"type\":\"heatmap\",\"colorbar\":{\"outlinewidth\":0,\"ticks\":\"\"},\"colorscale\":[[0.0,\"#0d0887\"],[0.1111111111111111,\"#46039f\"],[0.2222222222222222,\"#7201a8\"],[0.3333333333333333,\"#9c179e\"],[0.4444444444444444,\"#bd3786\"],[0.5555555555555556,\"#d8576b\"],[0.6666666666666666,\"#ed7953\"],[0.7777777777777778,\"#fb9f3a\"],[0.8888888888888888,\"#fdca26\"],[1.0,\"#f0f921\"]]}],\"heatmapgl\":[{\"type\":\"heatmapgl\",\"colorbar\":{\"outlinewidth\":0,\"ticks\":\"\"},\"colorscale\":[[0.0,\"#0d0887\"],[0.1111111111111111,\"#46039f\"],[0.2222222222222222,\"#7201a8\"],[0.3333333333333333,\"#9c179e\"],[0.4444444444444444,\"#bd3786\"],[0.5555555555555556,\"#d8576b\"],[0.6666666666666666,\"#ed7953\"],[0.7777777777777778,\"#fb9f3a\"],[0.8888888888888888,\"#fdca26\"],[1.0,\"#f0f921\"]]}],\"contourcarpet\":[{\"type\":\"contourcarpet\",\"colorbar\":{\"outlinewidth\":0,\"ticks\":\"\"}}],\"contour\":[{\"type\":\"contour\",\"colorbar\":{\"outlinewidth\":0,\"ticks\":\"\"},\"colorscale\":[[0.0,\"#0d0887\"],[0.1111111111111111,\"#46039f\"],[0.2222222222222222,\"#7201a8\"],[0.3333333333333333,\"#9c179e\"],[0.4444444444444444,\"#bd3786\"],[0.5555555555555556,\"#d8576b\"],[0.6666666666666666,\"#ed7953\"],[0.7777777777777778,\"#fb9f3a\"],[0.8888888888888888,\"#fdca26\"],[1.0,\"#f0f921\"]]}],\"surface\":[{\"type\":\"surface\",\"colorbar\":{\"outlinewidth\":0,\"ticks\":\"\"},\"colorscale\":[[0.0,\"#0d0887\"],[0.1111111111111111,\"#46039f\"],[0.2222222222222222,\"#7201a8\"],[0.3333333333333333,\"#9c179e\"],[0.4444444444444444,\"#bd3786\"],[0.5555555555555556,\"#d8576b\"],[0.6666666666666666,\"#ed7953\"],[0.7777777777777778,\"#fb9f3a\"],[0.8888888888888888,\"#fdca26\"],[1.0,\"#f0f921\"]]}],\"mesh3d\":[{\"type\":\"mesh3d\",\"colorbar\":{\"outlinewidth\":0,\"ticks\":\"\"}}],\"scatter\":[{\"fillpattern\":{\"fillmode\":\"overlay\",\"size\":10,\"solidity\":0.2},\"type\":\"scatter\"}],\"parcoords\":[{\"type\":\"parcoords\",\"line\":{\"colorbar\":{\"outlinewidth\":0,\"ticks\":\"\"}}}],\"scatterpolargl\":[{\"type\":\"scatterpolargl\",\"marker\":{\"colorbar\":{\"outlinewidth\":0,\"ticks\":\"\"}}}],\"bar\":[{\"error_x\":{\"color\":\"#2a3f5f\"},\"error_y\":{\"color\":\"#2a3f5f\"},\"marker\":{\"line\":{\"color\":\"#E5ECF6\",\"width\":0.5},\"pattern\":{\"fillmode\":\"overlay\",\"size\":10,\"solidity\":0.2}},\"type\":\"bar\"}],\"scattergeo\":[{\"type\":\"scattergeo\",\"marker\":{\"colorbar\":{\"outlinewidth\":0,\"ticks\":\"\"}}}],\"scatterpolar\":[{\"type\":\"scatterpolar\",\"marker\":{\"colorbar\":{\"outlinewidth\":0,\"ticks\":\"\"}}}],\"histogram\":[{\"marker\":{\"pattern\":{\"fillmode\":\"overlay\",\"size\":10,\"solidity\":0.2}},\"type\":\"histogram\"}],\"scattergl\":[{\"type\":\"scattergl\",\"marker\":{\"colorbar\":{\"outlinewidth\":0,\"ticks\":\"\"}}}],\"scatter3d\":[{\"type\":\"scatter3d\",\"line\":{\"colorbar\":{\"outlinewidth\":0,\"ticks\":\"\"}},\"marker\":{\"colorbar\":{\"outlinewidth\":0,\"ticks\":\"\"}}}],\"scattermapbox\":[{\"type\":\"scattermapbox\",\"marker\":{\"colorbar\":{\"outlinewidth\":0,\"ticks\":\"\"}}}],\"scatterternary\":[{\"type\":\"scatterternary\",\"marker\":{\"colorbar\":{\"outlinewidth\":0,\"ticks\":\"\"}}}],\"scattercarpet\":[{\"type\":\"scattercarpet\",\"marker\":{\"colorbar\":{\"outlinewidth\":0,\"ticks\":\"\"}}}],\"carpet\":[{\"aaxis\":{\"endlinecolor\":\"#2a3f5f\",\"gridcolor\":\"white\",\"linecolor\":\"white\",\"minorgridcolor\":\"white\",\"startlinecolor\":\"#2a3f5f\"},\"baxis\":{\"endlinecolor\":\"#2a3f5f\",\"gridcolor\":\"white\",\"linecolor\":\"white\",\"minorgridcolor\":\"white\",\"startlinecolor\":\"#2a3f5f\"},\"type\":\"carpet\"}],\"table\":[{\"cells\":{\"fill\":{\"color\":\"#EBF0F8\"},\"line\":{\"color\":\"white\"}},\"header\":{\"fill\":{\"color\":\"#C8D4E3\"},\"line\":{\"color\":\"white\"}},\"type\":\"table\"}],\"barpolar\":[{\"marker\":{\"line\":{\"color\":\"#E5ECF6\",\"width\":0.5},\"pattern\":{\"fillmode\":\"overlay\",\"size\":10,\"solidity\":0.2}},\"type\":\"barpolar\"}],\"pie\":[{\"automargin\":true,\"type\":\"pie\"}]},\"layout\":{\"autotypenumbers\":\"strict\",\"colorway\":[\"#636efa\",\"#EF553B\",\"#00cc96\",\"#ab63fa\",\"#FFA15A\",\"#19d3f3\",\"#FF6692\",\"#B6E880\",\"#FF97FF\",\"#FECB52\"],\"font\":{\"color\":\"#2a3f5f\"},\"hovermode\":\"closest\",\"hoverlabel\":{\"align\":\"left\"},\"paper_bgcolor\":\"white\",\"plot_bgcolor\":\"#E5ECF6\",\"polar\":{\"bgcolor\":\"#E5ECF6\",\"angularaxis\":{\"gridcolor\":\"white\",\"linecolor\":\"white\",\"ticks\":\"\"},\"radialaxis\":{\"gridcolor\":\"white\",\"linecolor\":\"white\",\"ticks\":\"\"}},\"ternary\":{\"bgcolor\":\"#E5ECF6\",\"aaxis\":{\"gridcolor\":\"white\",\"linecolor\":\"white\",\"ticks\":\"\"},\"baxis\":{\"gridcolor\":\"white\",\"linecolor\":\"white\",\"ticks\":\"\"},\"caxis\":{\"gridcolor\":\"white\",\"linecolor\":\"white\",\"ticks\":\"\"}},\"coloraxis\":{\"colorbar\":{\"outlinewidth\":0,\"ticks\":\"\"}},\"colorscale\":{\"sequential\":[[0.0,\"#0d0887\"],[0.1111111111111111,\"#46039f\"],[0.2222222222222222,\"#7201a8\"],[0.3333333333333333,\"#9c179e\"],[0.4444444444444444,\"#bd3786\"],[0.5555555555555556,\"#d8576b\"],[0.6666666666666666,\"#ed7953\"],[0.7777777777777778,\"#fb9f3a\"],[0.8888888888888888,\"#fdca26\"],[1.0,\"#f0f921\"]],\"sequentialminus\":[[0.0,\"#0d0887\"],[0.1111111111111111,\"#46039f\"],[0.2222222222222222,\"#7201a8\"],[0.3333333333333333,\"#9c179e\"],[0.4444444444444444,\"#bd3786\"],[0.5555555555555556,\"#d8576b\"],[0.6666666666666666,\"#ed7953\"],[0.7777777777777778,\"#fb9f3a\"],[0.8888888888888888,\"#fdca26\"],[1.0,\"#f0f921\"]],\"diverging\":[[0,\"#8e0152\"],[0.1,\"#c51b7d\"],[0.2,\"#de77ae\"],[0.3,\"#f1b6da\"],[0.4,\"#fde0ef\"],[0.5,\"#f7f7f7\"],[0.6,\"#e6f5d0\"],[0.7,\"#b8e186\"],[0.8,\"#7fbc41\"],[0.9,\"#4d9221\"],[1,\"#276419\"]]},\"xaxis\":{\"gridcolor\":\"white\",\"linecolor\":\"white\",\"ticks\":\"\",\"title\":{\"standoff\":15},\"zerolinecolor\":\"white\",\"automargin\":true,\"zerolinewidth\":2},\"yaxis\":{\"gridcolor\":\"white\",\"linecolor\":\"white\",\"ticks\":\"\",\"title\":{\"standoff\":15},\"zerolinecolor\":\"white\",\"automargin\":true,\"zerolinewidth\":2},\"scene\":{\"xaxis\":{\"backgroundcolor\":\"#E5ECF6\",\"gridcolor\":\"white\",\"linecolor\":\"white\",\"showbackground\":true,\"ticks\":\"\",\"zerolinecolor\":\"white\",\"gridwidth\":2},\"yaxis\":{\"backgroundcolor\":\"#E5ECF6\",\"gridcolor\":\"white\",\"linecolor\":\"white\",\"showbackground\":true,\"ticks\":\"\",\"zerolinecolor\":\"white\",\"gridwidth\":2},\"zaxis\":{\"backgroundcolor\":\"#E5ECF6\",\"gridcolor\":\"white\",\"linecolor\":\"white\",\"showbackground\":true,\"ticks\":\"\",\"zerolinecolor\":\"white\",\"gridwidth\":2}},\"shapedefaults\":{\"line\":{\"color\":\"#2a3f5f\"}},\"annotationdefaults\":{\"arrowcolor\":\"#2a3f5f\",\"arrowhead\":0,\"arrowwidth\":1},\"geo\":{\"bgcolor\":\"white\",\"landcolor\":\"#E5ECF6\",\"subunitcolor\":\"white\",\"showland\":true,\"showlakes\":true,\"lakecolor\":\"white\"},\"title\":{\"x\":0.05},\"mapbox\":{\"style\":\"light\"}}},\"xaxis\":{\"anchor\":\"y\",\"domain\":[0.0,1.0],\"title\":{\"text\":\"Percent of Population in Urban Areas\"}},\"yaxis\":{\"anchor\":\"x\",\"domain\":[0.0,1.0],\"title\":{\"text\":\"Covid Deaths per 100,000 Residents\"}},\"legend\":{\"tracegroupgap\":0},\"margin\":{\"t\":60}},                        {\"responsive\": true}                    ).then(function(){\n",
       "                            \n",
       "var gd = document.getElementById('86234562-aecf-4f7e-b3b4-967078c1f6d3');\n",
       "var x = new MutationObserver(function (mutations, observer) {{\n",
       "        var display = window.getComputedStyle(gd).display;\n",
       "        if (!display || display === 'none') {{\n",
       "            console.log([gd, 'removed!']);\n",
       "            Plotly.purge(gd);\n",
       "            observer.disconnect();\n",
       "        }}\n",
       "}});\n",
       "\n",
       "// Listen for the removal of the full notebook cells\n",
       "var notebookContainer = gd.closest('#notebook-container');\n",
       "if (notebookContainer) {{\n",
       "    x.observe(notebookContainer, {childList: true});\n",
       "}}\n",
       "\n",
       "// Listen for the clearing of the current output cell\n",
       "var outputEl = gd.closest('.output');\n",
       "if (outputEl) {{\n",
       "    x.observe(outputEl, {childList: true});\n",
       "}}\n",
       "\n",
       "                        })                };                });            </script>        </div>"
      ]
     },
     "metadata": {},
     "output_type": "display_data"
    }
   ],
   "source": [
    "# Scatter plot for urban vs deaths\n",
    "deaths_vs_urban_fig = px.scatter(full_merged_df2, x=\"Percent of Population in Urban Areas\", y=\"Covid Deaths per 100,000 Residents\", trendline=\"ols\", trendline_color_override=\"red\")\n",
    "deaths_vs_urban_fig\n",
    "\n",
    "# Save figure\n",
    "deaths_vs_urban_fig.write_image(\"./urban%_corr_deaths.png\")\n",
    "\n",
    "deaths_vs_urban_fig"
   ]
  },
  {
   "cell_type": "code",
   "execution_count": 88,
   "id": "91166104",
   "metadata": {},
   "outputs": [
    {
     "name": "stdout",
     "output_type": "stream",
     "text": [
      "The correlation between the percent of each state's urban population to the rate of Covid-19 deaths is: -0.159\n"
     ]
    }
   ],
   "source": [
    "# Store values\n",
    "x_val = full_merged_df2[\"Percent of Population in Urban Areas\"]\n",
    "y_val = full_merged_df2[\"Covid Deaths per 100,000 Residents\"]\n",
    "\n",
    "(slope, intercept, rvalue, pvalue, stderr) = linregress(x_val, y_val)\n",
    "regress_values = x_val * slope + intercept\n",
    "\n",
    "line_eq = \"y = \" + str(round(slope,2)) + \"x + \" + str(round(intercept,2))\n",
    "\n",
    "# Calculate Correlation\n",
    "corr = round(st.pearsonr(x_val, y_val)[0],3)\n",
    "print(f\"The correlation between the percent of each state's urban population to the rate of Covid-19 deaths is: {corr}\")\n"
   ]
  },
  {
   "cell_type": "code",
   "execution_count": 96,
   "id": "c077784c",
   "metadata": {},
   "outputs": [
    {
     "data": {
      "application/vnd.plotly.v1+json": {
       "config": {
        "plotlyServerURL": "https://plot.ly"
       },
       "data": [
        {
         "hovertemplate": "Percent of Population in Urban Areas=%{x}<br>Percent of Adult Population Completed Primary Vaccination Series=%{y}<extra></extra>",
         "legendgroup": "",
         "marker": {
          "color": "#636efa",
          "symbol": "circle"
         },
         "mode": "markers",
         "name": "",
         "orientation": "v",
         "showlegend": false,
         "type": "scatter",
         "x": [
          57.7,
          64.9,
          89.3,
          55.5,
          94.2,
          86,
          86.3,
          82.6,
          91.5,
          74.1,
          86.1,
          69.2,
          86.9,
          71.2,
          63.2,
          72.3,
          58.7,
          71.5,
          38.6,
          85.6,
          91.3,
          73.5,
          71.9,
          46.3,
          69.5,
          53.4,
          73,
          94.1,
          58.3,
          93.8,
          74.5,
          87.4,
          66.7,
          61,
          76.3,
          64.6,
          80.5,
          76.5,
          91.1,
          67.9,
          57.2,
          66.2,
          83.7,
          89.8,
          35.1,
          75.6,
          83.4,
          44.6,
          67.1,
          62
         ],
         "xaxis": "x",
         "y": [
          63.3,
          75.9,
          75.2,
          66.8,
          83.9,
          82.9,
          91.7,
          83.2,
          79.6,
          67.7,
          90.5,
          67.9,
          79.9,
          68,
          74.9,
          76.3,
          69.9,
          66,
          91.9,
          88.6,
          91.8,
          71.6,
          81.5,
          64.2,
          68.7,
          68.3,
          77.4,
          74.5,
          80.7,
          89.2,
          85.5,
          90.8,
          77.1,
          69.4,
          69.9,
          72.3,
          81.3,
          83.1,
          95,
          69.6,
          78.5,
          66.3,
          74.1,
          80,
          91.7,
          85.4,
          85.6,
          69,
          77.7,
          63.3
         ],
         "yaxis": "y"
        },
        {
         "hovertemplate": "<b>OLS trendline</b><br>Percent of Adult Population Completed Primary Vaccination Series = 0.243793 * Percent of Population in Urban Areas + 59.8931<br>R<sup>2</sup>=0.163157<br><br>Percent of Population in Urban Areas=%{x}<br>Percent of Adult Population Completed Primary Vaccination Series=%{y} <b>(trend)</b><extra></extra>",
         "legendgroup": "",
         "line": {
          "color": "red"
         },
         "marker": {
          "color": "#636efa",
          "symbol": "circle"
         },
         "mode": "lines",
         "name": "",
         "showlegend": false,
         "type": "scatter",
         "x": [
          35.1,
          38.6,
          44.6,
          46.3,
          53.4,
          55.5,
          57.2,
          57.7,
          58.3,
          58.7,
          61,
          62,
          63.2,
          64.6,
          64.9,
          66.2,
          66.7,
          67.1,
          67.9,
          69.2,
          69.5,
          71.2,
          71.5,
          71.9,
          72.3,
          73,
          73.5,
          74.1,
          74.5,
          75.6,
          76.3,
          76.5,
          80.5,
          82.6,
          83.4,
          83.7,
          85.6,
          86,
          86.1,
          86.3,
          86.9,
          87.4,
          89.3,
          89.8,
          91.1,
          91.3,
          91.5,
          93.8,
          94.1,
          94.2
         ],
         "xaxis": "x",
         "y": [
          68.45021933058209,
          69.30349603125607,
          70.76625608955435,
          71.18070477273885,
          72.9116375083918,
          73.42360352879619,
          73.83805221198071,
          73.95994888350556,
          74.10622488933538,
          74.20374222655528,
          74.76446691556961,
          75.00826025861932,
          75.30081227027897,
          75.64212295054857,
          75.71526095346348,
          76.0321922994281,
          76.15408897095296,
          76.25160630817284,
          76.44664098261262,
          76.76357232857724,
          76.83671033149216,
          77.25115901467666,
          77.32429701759158,
          77.42181435481146,
          77.51933169203134,
          77.68998703216614,
          77.811883703691,
          77.95815970952083,
          78.05567704674071,
          78.3238497240954,
          78.49450506423018,
          78.54326373284013,
          79.51843710503898,
          80.03040312544337,
          80.22543779988314,
          80.29857580279806,
          80.76178315459251,
          80.85930049181239,
          80.88367982611736,
          80.93243849472731,
          81.07871450055713,
          81.20061117208199,
          81.66381852387643,
          81.7857151954013,
          82.10264654136591,
          82.15140520997586,
          82.2001638785858,
          82.76088856760013,
          82.83402657051505,
          82.85840590482002
         ],
         "yaxis": "y"
        }
       ],
       "layout": {
        "legend": {
         "tracegroupgap": 0
        },
        "margin": {
         "t": 60
        },
        "template": {
         "data": {
          "bar": [
           {
            "error_x": {
             "color": "#2a3f5f"
            },
            "error_y": {
             "color": "#2a3f5f"
            },
            "marker": {
             "line": {
              "color": "#E5ECF6",
              "width": 0.5
             },
             "pattern": {
              "fillmode": "overlay",
              "size": 10,
              "solidity": 0.2
             }
            },
            "type": "bar"
           }
          ],
          "barpolar": [
           {
            "marker": {
             "line": {
              "color": "#E5ECF6",
              "width": 0.5
             },
             "pattern": {
              "fillmode": "overlay",
              "size": 10,
              "solidity": 0.2
             }
            },
            "type": "barpolar"
           }
          ],
          "carpet": [
           {
            "aaxis": {
             "endlinecolor": "#2a3f5f",
             "gridcolor": "white",
             "linecolor": "white",
             "minorgridcolor": "white",
             "startlinecolor": "#2a3f5f"
            },
            "baxis": {
             "endlinecolor": "#2a3f5f",
             "gridcolor": "white",
             "linecolor": "white",
             "minorgridcolor": "white",
             "startlinecolor": "#2a3f5f"
            },
            "type": "carpet"
           }
          ],
          "choropleth": [
           {
            "colorbar": {
             "outlinewidth": 0,
             "ticks": ""
            },
            "type": "choropleth"
           }
          ],
          "contour": [
           {
            "colorbar": {
             "outlinewidth": 0,
             "ticks": ""
            },
            "colorscale": [
             [
              0,
              "#0d0887"
             ],
             [
              0.1111111111111111,
              "#46039f"
             ],
             [
              0.2222222222222222,
              "#7201a8"
             ],
             [
              0.3333333333333333,
              "#9c179e"
             ],
             [
              0.4444444444444444,
              "#bd3786"
             ],
             [
              0.5555555555555556,
              "#d8576b"
             ],
             [
              0.6666666666666666,
              "#ed7953"
             ],
             [
              0.7777777777777778,
              "#fb9f3a"
             ],
             [
              0.8888888888888888,
              "#fdca26"
             ],
             [
              1,
              "#f0f921"
             ]
            ],
            "type": "contour"
           }
          ],
          "contourcarpet": [
           {
            "colorbar": {
             "outlinewidth": 0,
             "ticks": ""
            },
            "type": "contourcarpet"
           }
          ],
          "heatmap": [
           {
            "colorbar": {
             "outlinewidth": 0,
             "ticks": ""
            },
            "colorscale": [
             [
              0,
              "#0d0887"
             ],
             [
              0.1111111111111111,
              "#46039f"
             ],
             [
              0.2222222222222222,
              "#7201a8"
             ],
             [
              0.3333333333333333,
              "#9c179e"
             ],
             [
              0.4444444444444444,
              "#bd3786"
             ],
             [
              0.5555555555555556,
              "#d8576b"
             ],
             [
              0.6666666666666666,
              "#ed7953"
             ],
             [
              0.7777777777777778,
              "#fb9f3a"
             ],
             [
              0.8888888888888888,
              "#fdca26"
             ],
             [
              1,
              "#f0f921"
             ]
            ],
            "type": "heatmap"
           }
          ],
          "heatmapgl": [
           {
            "colorbar": {
             "outlinewidth": 0,
             "ticks": ""
            },
            "colorscale": [
             [
              0,
              "#0d0887"
             ],
             [
              0.1111111111111111,
              "#46039f"
             ],
             [
              0.2222222222222222,
              "#7201a8"
             ],
             [
              0.3333333333333333,
              "#9c179e"
             ],
             [
              0.4444444444444444,
              "#bd3786"
             ],
             [
              0.5555555555555556,
              "#d8576b"
             ],
             [
              0.6666666666666666,
              "#ed7953"
             ],
             [
              0.7777777777777778,
              "#fb9f3a"
             ],
             [
              0.8888888888888888,
              "#fdca26"
             ],
             [
              1,
              "#f0f921"
             ]
            ],
            "type": "heatmapgl"
           }
          ],
          "histogram": [
           {
            "marker": {
             "pattern": {
              "fillmode": "overlay",
              "size": 10,
              "solidity": 0.2
             }
            },
            "type": "histogram"
           }
          ],
          "histogram2d": [
           {
            "colorbar": {
             "outlinewidth": 0,
             "ticks": ""
            },
            "colorscale": [
             [
              0,
              "#0d0887"
             ],
             [
              0.1111111111111111,
              "#46039f"
             ],
             [
              0.2222222222222222,
              "#7201a8"
             ],
             [
              0.3333333333333333,
              "#9c179e"
             ],
             [
              0.4444444444444444,
              "#bd3786"
             ],
             [
              0.5555555555555556,
              "#d8576b"
             ],
             [
              0.6666666666666666,
              "#ed7953"
             ],
             [
              0.7777777777777778,
              "#fb9f3a"
             ],
             [
              0.8888888888888888,
              "#fdca26"
             ],
             [
              1,
              "#f0f921"
             ]
            ],
            "type": "histogram2d"
           }
          ],
          "histogram2dcontour": [
           {
            "colorbar": {
             "outlinewidth": 0,
             "ticks": ""
            },
            "colorscale": [
             [
              0,
              "#0d0887"
             ],
             [
              0.1111111111111111,
              "#46039f"
             ],
             [
              0.2222222222222222,
              "#7201a8"
             ],
             [
              0.3333333333333333,
              "#9c179e"
             ],
             [
              0.4444444444444444,
              "#bd3786"
             ],
             [
              0.5555555555555556,
              "#d8576b"
             ],
             [
              0.6666666666666666,
              "#ed7953"
             ],
             [
              0.7777777777777778,
              "#fb9f3a"
             ],
             [
              0.8888888888888888,
              "#fdca26"
             ],
             [
              1,
              "#f0f921"
             ]
            ],
            "type": "histogram2dcontour"
           }
          ],
          "mesh3d": [
           {
            "colorbar": {
             "outlinewidth": 0,
             "ticks": ""
            },
            "type": "mesh3d"
           }
          ],
          "parcoords": [
           {
            "line": {
             "colorbar": {
              "outlinewidth": 0,
              "ticks": ""
             }
            },
            "type": "parcoords"
           }
          ],
          "pie": [
           {
            "automargin": true,
            "type": "pie"
           }
          ],
          "scatter": [
           {
            "fillpattern": {
             "fillmode": "overlay",
             "size": 10,
             "solidity": 0.2
            },
            "type": "scatter"
           }
          ],
          "scatter3d": [
           {
            "line": {
             "colorbar": {
              "outlinewidth": 0,
              "ticks": ""
             }
            },
            "marker": {
             "colorbar": {
              "outlinewidth": 0,
              "ticks": ""
             }
            },
            "type": "scatter3d"
           }
          ],
          "scattercarpet": [
           {
            "marker": {
             "colorbar": {
              "outlinewidth": 0,
              "ticks": ""
             }
            },
            "type": "scattercarpet"
           }
          ],
          "scattergeo": [
           {
            "marker": {
             "colorbar": {
              "outlinewidth": 0,
              "ticks": ""
             }
            },
            "type": "scattergeo"
           }
          ],
          "scattergl": [
           {
            "marker": {
             "colorbar": {
              "outlinewidth": 0,
              "ticks": ""
             }
            },
            "type": "scattergl"
           }
          ],
          "scattermapbox": [
           {
            "marker": {
             "colorbar": {
              "outlinewidth": 0,
              "ticks": ""
             }
            },
            "type": "scattermapbox"
           }
          ],
          "scatterpolar": [
           {
            "marker": {
             "colorbar": {
              "outlinewidth": 0,
              "ticks": ""
             }
            },
            "type": "scatterpolar"
           }
          ],
          "scatterpolargl": [
           {
            "marker": {
             "colorbar": {
              "outlinewidth": 0,
              "ticks": ""
             }
            },
            "type": "scatterpolargl"
           }
          ],
          "scatterternary": [
           {
            "marker": {
             "colorbar": {
              "outlinewidth": 0,
              "ticks": ""
             }
            },
            "type": "scatterternary"
           }
          ],
          "surface": [
           {
            "colorbar": {
             "outlinewidth": 0,
             "ticks": ""
            },
            "colorscale": [
             [
              0,
              "#0d0887"
             ],
             [
              0.1111111111111111,
              "#46039f"
             ],
             [
              0.2222222222222222,
              "#7201a8"
             ],
             [
              0.3333333333333333,
              "#9c179e"
             ],
             [
              0.4444444444444444,
              "#bd3786"
             ],
             [
              0.5555555555555556,
              "#d8576b"
             ],
             [
              0.6666666666666666,
              "#ed7953"
             ],
             [
              0.7777777777777778,
              "#fb9f3a"
             ],
             [
              0.8888888888888888,
              "#fdca26"
             ],
             [
              1,
              "#f0f921"
             ]
            ],
            "type": "surface"
           }
          ],
          "table": [
           {
            "cells": {
             "fill": {
              "color": "#EBF0F8"
             },
             "line": {
              "color": "white"
             }
            },
            "header": {
             "fill": {
              "color": "#C8D4E3"
             },
             "line": {
              "color": "white"
             }
            },
            "type": "table"
           }
          ]
         },
         "layout": {
          "annotationdefaults": {
           "arrowcolor": "#2a3f5f",
           "arrowhead": 0,
           "arrowwidth": 1
          },
          "autotypenumbers": "strict",
          "coloraxis": {
           "colorbar": {
            "outlinewidth": 0,
            "ticks": ""
           }
          },
          "colorscale": {
           "diverging": [
            [
             0,
             "#8e0152"
            ],
            [
             0.1,
             "#c51b7d"
            ],
            [
             0.2,
             "#de77ae"
            ],
            [
             0.3,
             "#f1b6da"
            ],
            [
             0.4,
             "#fde0ef"
            ],
            [
             0.5,
             "#f7f7f7"
            ],
            [
             0.6,
             "#e6f5d0"
            ],
            [
             0.7,
             "#b8e186"
            ],
            [
             0.8,
             "#7fbc41"
            ],
            [
             0.9,
             "#4d9221"
            ],
            [
             1,
             "#276419"
            ]
           ],
           "sequential": [
            [
             0,
             "#0d0887"
            ],
            [
             0.1111111111111111,
             "#46039f"
            ],
            [
             0.2222222222222222,
             "#7201a8"
            ],
            [
             0.3333333333333333,
             "#9c179e"
            ],
            [
             0.4444444444444444,
             "#bd3786"
            ],
            [
             0.5555555555555556,
             "#d8576b"
            ],
            [
             0.6666666666666666,
             "#ed7953"
            ],
            [
             0.7777777777777778,
             "#fb9f3a"
            ],
            [
             0.8888888888888888,
             "#fdca26"
            ],
            [
             1,
             "#f0f921"
            ]
           ],
           "sequentialminus": [
            [
             0,
             "#0d0887"
            ],
            [
             0.1111111111111111,
             "#46039f"
            ],
            [
             0.2222222222222222,
             "#7201a8"
            ],
            [
             0.3333333333333333,
             "#9c179e"
            ],
            [
             0.4444444444444444,
             "#bd3786"
            ],
            [
             0.5555555555555556,
             "#d8576b"
            ],
            [
             0.6666666666666666,
             "#ed7953"
            ],
            [
             0.7777777777777778,
             "#fb9f3a"
            ],
            [
             0.8888888888888888,
             "#fdca26"
            ],
            [
             1,
             "#f0f921"
            ]
           ]
          },
          "colorway": [
           "#636efa",
           "#EF553B",
           "#00cc96",
           "#ab63fa",
           "#FFA15A",
           "#19d3f3",
           "#FF6692",
           "#B6E880",
           "#FF97FF",
           "#FECB52"
          ],
          "font": {
           "color": "#2a3f5f"
          },
          "geo": {
           "bgcolor": "white",
           "lakecolor": "white",
           "landcolor": "#E5ECF6",
           "showlakes": true,
           "showland": true,
           "subunitcolor": "white"
          },
          "hoverlabel": {
           "align": "left"
          },
          "hovermode": "closest",
          "mapbox": {
           "style": "light"
          },
          "paper_bgcolor": "white",
          "plot_bgcolor": "#E5ECF6",
          "polar": {
           "angularaxis": {
            "gridcolor": "white",
            "linecolor": "white",
            "ticks": ""
           },
           "bgcolor": "#E5ECF6",
           "radialaxis": {
            "gridcolor": "white",
            "linecolor": "white",
            "ticks": ""
           }
          },
          "scene": {
           "xaxis": {
            "backgroundcolor": "#E5ECF6",
            "gridcolor": "white",
            "gridwidth": 2,
            "linecolor": "white",
            "showbackground": true,
            "ticks": "",
            "zerolinecolor": "white"
           },
           "yaxis": {
            "backgroundcolor": "#E5ECF6",
            "gridcolor": "white",
            "gridwidth": 2,
            "linecolor": "white",
            "showbackground": true,
            "ticks": "",
            "zerolinecolor": "white"
           },
           "zaxis": {
            "backgroundcolor": "#E5ECF6",
            "gridcolor": "white",
            "gridwidth": 2,
            "linecolor": "white",
            "showbackground": true,
            "ticks": "",
            "zerolinecolor": "white"
           }
          },
          "shapedefaults": {
           "line": {
            "color": "#2a3f5f"
           }
          },
          "ternary": {
           "aaxis": {
            "gridcolor": "white",
            "linecolor": "white",
            "ticks": ""
           },
           "baxis": {
            "gridcolor": "white",
            "linecolor": "white",
            "ticks": ""
           },
           "bgcolor": "#E5ECF6",
           "caxis": {
            "gridcolor": "white",
            "linecolor": "white",
            "ticks": ""
           }
          },
          "title": {
           "x": 0.05
          },
          "xaxis": {
           "automargin": true,
           "gridcolor": "white",
           "linecolor": "white",
           "ticks": "",
           "title": {
            "standoff": 15
           },
           "zerolinecolor": "white",
           "zerolinewidth": 2
          },
          "yaxis": {
           "automargin": true,
           "gridcolor": "white",
           "linecolor": "white",
           "ticks": "",
           "title": {
            "standoff": 15
           },
           "zerolinecolor": "white",
           "zerolinewidth": 2
          }
         }
        },
        "xaxis": {
         "anchor": "y",
         "domain": [
          0,
          1
         ],
         "title": {
          "text": "Percent of Population in Urban Areas"
         }
        },
        "yaxis": {
         "anchor": "x",
         "domain": [
          0,
          1
         ],
         "title": {
          "text": "Percent of Adult Population Completed Primary Vaccination Series"
         }
        }
       }
      },
      "text/html": [
       "<div>                            <div id=\"e4bdfeaf-7f7a-40e2-9a35-bb327cdbea84\" class=\"plotly-graph-div\" style=\"height:525px; width:100%;\"></div>            <script type=\"text/javascript\">                require([\"plotly\"], function(Plotly) {                    window.PLOTLYENV=window.PLOTLYENV || {};                                    if (document.getElementById(\"e4bdfeaf-7f7a-40e2-9a35-bb327cdbea84\")) {                    Plotly.newPlot(                        \"e4bdfeaf-7f7a-40e2-9a35-bb327cdbea84\",                        [{\"hovertemplate\":\"Percent of Population in Urban Areas=%{x}<br>Percent of Adult Population Completed Primary Vaccination Series=%{y}<extra></extra>\",\"legendgroup\":\"\",\"marker\":{\"color\":\"#636efa\",\"symbol\":\"circle\"},\"mode\":\"markers\",\"name\":\"\",\"orientation\":\"v\",\"showlegend\":false,\"x\":[57.7,64.9,89.3,55.5,94.2,86.0,86.3,82.6,91.5,74.1,86.1,69.2,86.9,71.2,63.2,72.3,58.7,71.5,38.6,85.6,91.3,73.5,71.9,46.3,69.5,53.4,73.0,94.1,58.3,93.8,74.5,87.4,66.7,61.0,76.3,64.6,80.5,76.5,91.1,67.9,57.2,66.2,83.7,89.8,35.1,75.6,83.4,44.6,67.1,62.0],\"xaxis\":\"x\",\"y\":[63.3,75.9,75.2,66.8,83.9,82.9,91.7,83.2,79.6,67.7,90.5,67.9,79.9,68.0,74.9,76.3,69.9,66.0,91.9,88.6,91.8,71.6,81.5,64.2,68.7,68.3,77.4,74.5,80.7,89.2,85.5,90.8,77.1,69.4,69.9,72.3,81.3,83.1,95.0,69.6,78.5,66.3,74.1,80.0,91.7,85.4,85.6,69.0,77.7,63.3],\"yaxis\":\"y\",\"type\":\"scatter\"},{\"hovertemplate\":\"<b>OLS trendline</b><br>Percent of Adult Population Completed Primary Vaccination Series = 0.243793 * Percent of Population in Urban Areas + 59.8931<br>R<sup>2</sup>=0.163157<br><br>Percent of Population in Urban Areas=%{x}<br>Percent of Adult Population Completed Primary Vaccination Series=%{y} <b>(trend)</b><extra></extra>\",\"legendgroup\":\"\",\"line\":{\"color\":\"red\"},\"marker\":{\"color\":\"#636efa\",\"symbol\":\"circle\"},\"mode\":\"lines\",\"name\":\"\",\"showlegend\":false,\"x\":[35.1,38.6,44.6,46.3,53.4,55.5,57.2,57.7,58.3,58.7,61.0,62.0,63.2,64.6,64.9,66.2,66.7,67.1,67.9,69.2,69.5,71.2,71.5,71.9,72.3,73.0,73.5,74.1,74.5,75.6,76.3,76.5,80.5,82.6,83.4,83.7,85.6,86.0,86.1,86.3,86.9,87.4,89.3,89.8,91.1,91.3,91.5,93.8,94.1,94.2],\"xaxis\":\"x\",\"y\":[68.45021933058209,69.30349603125607,70.76625608955435,71.18070477273885,72.9116375083918,73.42360352879619,73.83805221198071,73.95994888350556,74.10622488933538,74.20374222655528,74.76446691556961,75.00826025861932,75.30081227027897,75.64212295054857,75.71526095346348,76.0321922994281,76.15408897095296,76.25160630817284,76.44664098261262,76.76357232857724,76.83671033149216,77.25115901467666,77.32429701759158,77.42181435481146,77.51933169203134,77.68998703216614,77.811883703691,77.95815970952083,78.05567704674071,78.3238497240954,78.49450506423018,78.54326373284013,79.51843710503898,80.03040312544337,80.22543779988314,80.29857580279806,80.76178315459251,80.85930049181239,80.88367982611736,80.93243849472731,81.07871450055713,81.20061117208199,81.66381852387643,81.7857151954013,82.10264654136591,82.15140520997586,82.2001638785858,82.76088856760013,82.83402657051505,82.85840590482002],\"yaxis\":\"y\",\"type\":\"scatter\"}],                        {\"template\":{\"data\":{\"histogram2dcontour\":[{\"type\":\"histogram2dcontour\",\"colorbar\":{\"outlinewidth\":0,\"ticks\":\"\"},\"colorscale\":[[0.0,\"#0d0887\"],[0.1111111111111111,\"#46039f\"],[0.2222222222222222,\"#7201a8\"],[0.3333333333333333,\"#9c179e\"],[0.4444444444444444,\"#bd3786\"],[0.5555555555555556,\"#d8576b\"],[0.6666666666666666,\"#ed7953\"],[0.7777777777777778,\"#fb9f3a\"],[0.8888888888888888,\"#fdca26\"],[1.0,\"#f0f921\"]]}],\"choropleth\":[{\"type\":\"choropleth\",\"colorbar\":{\"outlinewidth\":0,\"ticks\":\"\"}}],\"histogram2d\":[{\"type\":\"histogram2d\",\"colorbar\":{\"outlinewidth\":0,\"ticks\":\"\"},\"colorscale\":[[0.0,\"#0d0887\"],[0.1111111111111111,\"#46039f\"],[0.2222222222222222,\"#7201a8\"],[0.3333333333333333,\"#9c179e\"],[0.4444444444444444,\"#bd3786\"],[0.5555555555555556,\"#d8576b\"],[0.6666666666666666,\"#ed7953\"],[0.7777777777777778,\"#fb9f3a\"],[0.8888888888888888,\"#fdca26\"],[1.0,\"#f0f921\"]]}],\"heatmap\":[{\"type\":\"heatmap\",\"colorbar\":{\"outlinewidth\":0,\"ticks\":\"\"},\"colorscale\":[[0.0,\"#0d0887\"],[0.1111111111111111,\"#46039f\"],[0.2222222222222222,\"#7201a8\"],[0.3333333333333333,\"#9c179e\"],[0.4444444444444444,\"#bd3786\"],[0.5555555555555556,\"#d8576b\"],[0.6666666666666666,\"#ed7953\"],[0.7777777777777778,\"#fb9f3a\"],[0.8888888888888888,\"#fdca26\"],[1.0,\"#f0f921\"]]}],\"heatmapgl\":[{\"type\":\"heatmapgl\",\"colorbar\":{\"outlinewidth\":0,\"ticks\":\"\"},\"colorscale\":[[0.0,\"#0d0887\"],[0.1111111111111111,\"#46039f\"],[0.2222222222222222,\"#7201a8\"],[0.3333333333333333,\"#9c179e\"],[0.4444444444444444,\"#bd3786\"],[0.5555555555555556,\"#d8576b\"],[0.6666666666666666,\"#ed7953\"],[0.7777777777777778,\"#fb9f3a\"],[0.8888888888888888,\"#fdca26\"],[1.0,\"#f0f921\"]]}],\"contourcarpet\":[{\"type\":\"contourcarpet\",\"colorbar\":{\"outlinewidth\":0,\"ticks\":\"\"}}],\"contour\":[{\"type\":\"contour\",\"colorbar\":{\"outlinewidth\":0,\"ticks\":\"\"},\"colorscale\":[[0.0,\"#0d0887\"],[0.1111111111111111,\"#46039f\"],[0.2222222222222222,\"#7201a8\"],[0.3333333333333333,\"#9c179e\"],[0.4444444444444444,\"#bd3786\"],[0.5555555555555556,\"#d8576b\"],[0.6666666666666666,\"#ed7953\"],[0.7777777777777778,\"#fb9f3a\"],[0.8888888888888888,\"#fdca26\"],[1.0,\"#f0f921\"]]}],\"surface\":[{\"type\":\"surface\",\"colorbar\":{\"outlinewidth\":0,\"ticks\":\"\"},\"colorscale\":[[0.0,\"#0d0887\"],[0.1111111111111111,\"#46039f\"],[0.2222222222222222,\"#7201a8\"],[0.3333333333333333,\"#9c179e\"],[0.4444444444444444,\"#bd3786\"],[0.5555555555555556,\"#d8576b\"],[0.6666666666666666,\"#ed7953\"],[0.7777777777777778,\"#fb9f3a\"],[0.8888888888888888,\"#fdca26\"],[1.0,\"#f0f921\"]]}],\"mesh3d\":[{\"type\":\"mesh3d\",\"colorbar\":{\"outlinewidth\":0,\"ticks\":\"\"}}],\"scatter\":[{\"fillpattern\":{\"fillmode\":\"overlay\",\"size\":10,\"solidity\":0.2},\"type\":\"scatter\"}],\"parcoords\":[{\"type\":\"parcoords\",\"line\":{\"colorbar\":{\"outlinewidth\":0,\"ticks\":\"\"}}}],\"scatterpolargl\":[{\"type\":\"scatterpolargl\",\"marker\":{\"colorbar\":{\"outlinewidth\":0,\"ticks\":\"\"}}}],\"bar\":[{\"error_x\":{\"color\":\"#2a3f5f\"},\"error_y\":{\"color\":\"#2a3f5f\"},\"marker\":{\"line\":{\"color\":\"#E5ECF6\",\"width\":0.5},\"pattern\":{\"fillmode\":\"overlay\",\"size\":10,\"solidity\":0.2}},\"type\":\"bar\"}],\"scattergeo\":[{\"type\":\"scattergeo\",\"marker\":{\"colorbar\":{\"outlinewidth\":0,\"ticks\":\"\"}}}],\"scatterpolar\":[{\"type\":\"scatterpolar\",\"marker\":{\"colorbar\":{\"outlinewidth\":0,\"ticks\":\"\"}}}],\"histogram\":[{\"marker\":{\"pattern\":{\"fillmode\":\"overlay\",\"size\":10,\"solidity\":0.2}},\"type\":\"histogram\"}],\"scattergl\":[{\"type\":\"scattergl\",\"marker\":{\"colorbar\":{\"outlinewidth\":0,\"ticks\":\"\"}}}],\"scatter3d\":[{\"type\":\"scatter3d\",\"line\":{\"colorbar\":{\"outlinewidth\":0,\"ticks\":\"\"}},\"marker\":{\"colorbar\":{\"outlinewidth\":0,\"ticks\":\"\"}}}],\"scattermapbox\":[{\"type\":\"scattermapbox\",\"marker\":{\"colorbar\":{\"outlinewidth\":0,\"ticks\":\"\"}}}],\"scatterternary\":[{\"type\":\"scatterternary\",\"marker\":{\"colorbar\":{\"outlinewidth\":0,\"ticks\":\"\"}}}],\"scattercarpet\":[{\"type\":\"scattercarpet\",\"marker\":{\"colorbar\":{\"outlinewidth\":0,\"ticks\":\"\"}}}],\"carpet\":[{\"aaxis\":{\"endlinecolor\":\"#2a3f5f\",\"gridcolor\":\"white\",\"linecolor\":\"white\",\"minorgridcolor\":\"white\",\"startlinecolor\":\"#2a3f5f\"},\"baxis\":{\"endlinecolor\":\"#2a3f5f\",\"gridcolor\":\"white\",\"linecolor\":\"white\",\"minorgridcolor\":\"white\",\"startlinecolor\":\"#2a3f5f\"},\"type\":\"carpet\"}],\"table\":[{\"cells\":{\"fill\":{\"color\":\"#EBF0F8\"},\"line\":{\"color\":\"white\"}},\"header\":{\"fill\":{\"color\":\"#C8D4E3\"},\"line\":{\"color\":\"white\"}},\"type\":\"table\"}],\"barpolar\":[{\"marker\":{\"line\":{\"color\":\"#E5ECF6\",\"width\":0.5},\"pattern\":{\"fillmode\":\"overlay\",\"size\":10,\"solidity\":0.2}},\"type\":\"barpolar\"}],\"pie\":[{\"automargin\":true,\"type\":\"pie\"}]},\"layout\":{\"autotypenumbers\":\"strict\",\"colorway\":[\"#636efa\",\"#EF553B\",\"#00cc96\",\"#ab63fa\",\"#FFA15A\",\"#19d3f3\",\"#FF6692\",\"#B6E880\",\"#FF97FF\",\"#FECB52\"],\"font\":{\"color\":\"#2a3f5f\"},\"hovermode\":\"closest\",\"hoverlabel\":{\"align\":\"left\"},\"paper_bgcolor\":\"white\",\"plot_bgcolor\":\"#E5ECF6\",\"polar\":{\"bgcolor\":\"#E5ECF6\",\"angularaxis\":{\"gridcolor\":\"white\",\"linecolor\":\"white\",\"ticks\":\"\"},\"radialaxis\":{\"gridcolor\":\"white\",\"linecolor\":\"white\",\"ticks\":\"\"}},\"ternary\":{\"bgcolor\":\"#E5ECF6\",\"aaxis\":{\"gridcolor\":\"white\",\"linecolor\":\"white\",\"ticks\":\"\"},\"baxis\":{\"gridcolor\":\"white\",\"linecolor\":\"white\",\"ticks\":\"\"},\"caxis\":{\"gridcolor\":\"white\",\"linecolor\":\"white\",\"ticks\":\"\"}},\"coloraxis\":{\"colorbar\":{\"outlinewidth\":0,\"ticks\":\"\"}},\"colorscale\":{\"sequential\":[[0.0,\"#0d0887\"],[0.1111111111111111,\"#46039f\"],[0.2222222222222222,\"#7201a8\"],[0.3333333333333333,\"#9c179e\"],[0.4444444444444444,\"#bd3786\"],[0.5555555555555556,\"#d8576b\"],[0.6666666666666666,\"#ed7953\"],[0.7777777777777778,\"#fb9f3a\"],[0.8888888888888888,\"#fdca26\"],[1.0,\"#f0f921\"]],\"sequentialminus\":[[0.0,\"#0d0887\"],[0.1111111111111111,\"#46039f\"],[0.2222222222222222,\"#7201a8\"],[0.3333333333333333,\"#9c179e\"],[0.4444444444444444,\"#bd3786\"],[0.5555555555555556,\"#d8576b\"],[0.6666666666666666,\"#ed7953\"],[0.7777777777777778,\"#fb9f3a\"],[0.8888888888888888,\"#fdca26\"],[1.0,\"#f0f921\"]],\"diverging\":[[0,\"#8e0152\"],[0.1,\"#c51b7d\"],[0.2,\"#de77ae\"],[0.3,\"#f1b6da\"],[0.4,\"#fde0ef\"],[0.5,\"#f7f7f7\"],[0.6,\"#e6f5d0\"],[0.7,\"#b8e186\"],[0.8,\"#7fbc41\"],[0.9,\"#4d9221\"],[1,\"#276419\"]]},\"xaxis\":{\"gridcolor\":\"white\",\"linecolor\":\"white\",\"ticks\":\"\",\"title\":{\"standoff\":15},\"zerolinecolor\":\"white\",\"automargin\":true,\"zerolinewidth\":2},\"yaxis\":{\"gridcolor\":\"white\",\"linecolor\":\"white\",\"ticks\":\"\",\"title\":{\"standoff\":15},\"zerolinecolor\":\"white\",\"automargin\":true,\"zerolinewidth\":2},\"scene\":{\"xaxis\":{\"backgroundcolor\":\"#E5ECF6\",\"gridcolor\":\"white\",\"linecolor\":\"white\",\"showbackground\":true,\"ticks\":\"\",\"zerolinecolor\":\"white\",\"gridwidth\":2},\"yaxis\":{\"backgroundcolor\":\"#E5ECF6\",\"gridcolor\":\"white\",\"linecolor\":\"white\",\"showbackground\":true,\"ticks\":\"\",\"zerolinecolor\":\"white\",\"gridwidth\":2},\"zaxis\":{\"backgroundcolor\":\"#E5ECF6\",\"gridcolor\":\"white\",\"linecolor\":\"white\",\"showbackground\":true,\"ticks\":\"\",\"zerolinecolor\":\"white\",\"gridwidth\":2}},\"shapedefaults\":{\"line\":{\"color\":\"#2a3f5f\"}},\"annotationdefaults\":{\"arrowcolor\":\"#2a3f5f\",\"arrowhead\":0,\"arrowwidth\":1},\"geo\":{\"bgcolor\":\"white\",\"landcolor\":\"#E5ECF6\",\"subunitcolor\":\"white\",\"showland\":true,\"showlakes\":true,\"lakecolor\":\"white\"},\"title\":{\"x\":0.05},\"mapbox\":{\"style\":\"light\"}}},\"xaxis\":{\"anchor\":\"y\",\"domain\":[0.0,1.0],\"title\":{\"text\":\"Percent of Population in Urban Areas\"}},\"yaxis\":{\"anchor\":\"x\",\"domain\":[0.0,1.0],\"title\":{\"text\":\"Percent of Adult Population Completed Primary Vaccination Series\"}},\"legend\":{\"tracegroupgap\":0},\"margin\":{\"t\":60}},                        {\"responsive\": true}                    ).then(function(){\n",
       "                            \n",
       "var gd = document.getElementById('e4bdfeaf-7f7a-40e2-9a35-bb327cdbea84');\n",
       "var x = new MutationObserver(function (mutations, observer) {{\n",
       "        var display = window.getComputedStyle(gd).display;\n",
       "        if (!display || display === 'none') {{\n",
       "            console.log([gd, 'removed!']);\n",
       "            Plotly.purge(gd);\n",
       "            observer.disconnect();\n",
       "        }}\n",
       "}});\n",
       "\n",
       "// Listen for the removal of the full notebook cells\n",
       "var notebookContainer = gd.closest('#notebook-container');\n",
       "if (notebookContainer) {{\n",
       "    x.observe(notebookContainer, {childList: true});\n",
       "}}\n",
       "\n",
       "// Listen for the clearing of the current output cell\n",
       "var outputEl = gd.closest('.output');\n",
       "if (outputEl) {{\n",
       "    x.observe(outputEl, {childList: true});\n",
       "}}\n",
       "\n",
       "                        })                };                });            </script>        </div>"
      ]
     },
     "metadata": {},
     "output_type": "display_data"
    }
   ],
   "source": [
    "# Scatter plot for urban vs vaccination\n",
    "vax_vs_urban_fig = px.scatter(full_merged_df2, x=\"Percent of Population in Urban Areas\", y=\"Percent of Adult Population Completed Primary Vaccination Series\", trendline=\"ols\", trendline_color_override=\"red\")\n",
    "\n",
    "\n",
    "# Save plot\n",
    "vax_vs_urban_fig.write_image(\"./vax_vs_urban_fig.png\")\n",
    "vax_vs_urban_fig"
   ]
  },
  {
   "cell_type": "code",
   "execution_count": 86,
   "id": "937e1a28",
   "metadata": {},
   "outputs": [
    {
     "name": "stdout",
     "output_type": "stream",
     "text": [
      "The correlation between the percent of each state's urban population relative to the state's rate of adults with a completed vaccination series is: 0.404\n"
     ]
    }
   ],
   "source": [
    "# Store values\n",
    "x_val2 = full_merged_df2[\"Percent of Population in Urban Areas\"]\n",
    "y_val2 = full_merged_df2[\"Percent of Adult Population Completed Primary Vaccination Series\"]\n",
    "\n",
    "(slope, intercept, rvalue, pvalue, stderr) = linregress(x_val2, y_val2)\n",
    "regress_values = x_val2 * slope + intercept\n",
    "\n",
    "line_eq = \"y = \" + str(round(slope,2)) + \"x + \" + str(round(intercept,2))\n",
    "\n",
    "# Calculate Correlation\n",
    "corr2 = round(st.pearsonr(x_val2, y_val2)[0],3)\n",
    "print(f\"The correlation between the percent of each state's urban population relative to the state's rate of adults with a completed vaccination series is: {corr2}\")"
   ]
  },
  {
   "cell_type": "code",
   "execution_count": 112,
   "id": "62671123",
   "metadata": {},
   "outputs": [
    {
     "name": "stdout",
     "output_type": "stream",
     "text": [
      "The median state's urban % is: 72.65, The standard deviation in the % of urban residents is:  14.82\n"
     ]
    }
   ],
   "source": [
    "# Summary Stats for Urban population\n",
    "median_state_urban_pct = x_val2.median()\n",
    "\n",
    "std_state_urban_pct = x_val2.std()\n",
    "print(f\"The median state's urban % is: {round(median_state_urban_pct, 2)}, The standard deviation in the % of urban residents is:  {round(std_state_urban_pct, 2)}\")\n"
   ]
  },
  {
   "cell_type": "code",
   "execution_count": null,
   "id": "5429a50d",
   "metadata": {},
   "outputs": [],
   "source": []
  },
  {
   "cell_type": "code",
   "execution_count": null,
   "id": "9981c918",
   "metadata": {},
   "outputs": [],
   "source": []
  },
  {
   "cell_type": "code",
   "execution_count": 135,
   "id": "f111efab",
   "metadata": {},
   "outputs": [
    {
     "data": {
      "application/vnd.plotly.v1+json": {
       "config": {
        "plotlyServerURL": "https://plot.ly"
       },
       "data": [
        {
         "name": "Urban Residents",
         "type": "box",
         "y": [
          57.7,
          64.9,
          89.3,
          55.5,
          94.2,
          86,
          86.3,
          82.6,
          91.5,
          74.1,
          86.1,
          69.2,
          86.9,
          71.2,
          63.2,
          72.3,
          58.7,
          71.5,
          38.6,
          85.6,
          91.3,
          73.5,
          71.9,
          46.3,
          69.5,
          53.4,
          73,
          94.1,
          58.3,
          93.8,
          74.5,
          87.4,
          66.7,
          61,
          76.3,
          64.6,
          80.5,
          76.5,
          91.1,
          67.9,
          57.2,
          66.2,
          83.7,
          89.8,
          35.1,
          75.6,
          83.4,
          44.6,
          67.1,
          62
         ]
        },
        {
         "name": "Vaccination Complete",
         "type": "box",
         "y": [
          63.3,
          75.9,
          75.2,
          66.8,
          83.9,
          82.9,
          91.7,
          83.2,
          79.6,
          67.7,
          90.5,
          67.9,
          79.9,
          68,
          74.9,
          76.3,
          69.9,
          66,
          91.9,
          88.6,
          91.8,
          71.6,
          81.5,
          64.2,
          68.7,
          68.3,
          77.4,
          74.5,
          80.7,
          89.2,
          85.5,
          90.8,
          77.1,
          69.4,
          69.9,
          72.3,
          81.3,
          83.1,
          95,
          69.6,
          78.5,
          66.3,
          74.1,
          80,
          91.7,
          85.4,
          85.6,
          69,
          77.7,
          63.3
         ]
        }
       ],
       "layout": {
        "template": {
         "data": {
          "bar": [
           {
            "error_x": {
             "color": "#2a3f5f"
            },
            "error_y": {
             "color": "#2a3f5f"
            },
            "marker": {
             "line": {
              "color": "#E5ECF6",
              "width": 0.5
             },
             "pattern": {
              "fillmode": "overlay",
              "size": 10,
              "solidity": 0.2
             }
            },
            "type": "bar"
           }
          ],
          "barpolar": [
           {
            "marker": {
             "line": {
              "color": "#E5ECF6",
              "width": 0.5
             },
             "pattern": {
              "fillmode": "overlay",
              "size": 10,
              "solidity": 0.2
             }
            },
            "type": "barpolar"
           }
          ],
          "carpet": [
           {
            "aaxis": {
             "endlinecolor": "#2a3f5f",
             "gridcolor": "white",
             "linecolor": "white",
             "minorgridcolor": "white",
             "startlinecolor": "#2a3f5f"
            },
            "baxis": {
             "endlinecolor": "#2a3f5f",
             "gridcolor": "white",
             "linecolor": "white",
             "minorgridcolor": "white",
             "startlinecolor": "#2a3f5f"
            },
            "type": "carpet"
           }
          ],
          "choropleth": [
           {
            "colorbar": {
             "outlinewidth": 0,
             "ticks": ""
            },
            "type": "choropleth"
           }
          ],
          "contour": [
           {
            "colorbar": {
             "outlinewidth": 0,
             "ticks": ""
            },
            "colorscale": [
             [
              0,
              "#0d0887"
             ],
             [
              0.1111111111111111,
              "#46039f"
             ],
             [
              0.2222222222222222,
              "#7201a8"
             ],
             [
              0.3333333333333333,
              "#9c179e"
             ],
             [
              0.4444444444444444,
              "#bd3786"
             ],
             [
              0.5555555555555556,
              "#d8576b"
             ],
             [
              0.6666666666666666,
              "#ed7953"
             ],
             [
              0.7777777777777778,
              "#fb9f3a"
             ],
             [
              0.8888888888888888,
              "#fdca26"
             ],
             [
              1,
              "#f0f921"
             ]
            ],
            "type": "contour"
           }
          ],
          "contourcarpet": [
           {
            "colorbar": {
             "outlinewidth": 0,
             "ticks": ""
            },
            "type": "contourcarpet"
           }
          ],
          "heatmap": [
           {
            "colorbar": {
             "outlinewidth": 0,
             "ticks": ""
            },
            "colorscale": [
             [
              0,
              "#0d0887"
             ],
             [
              0.1111111111111111,
              "#46039f"
             ],
             [
              0.2222222222222222,
              "#7201a8"
             ],
             [
              0.3333333333333333,
              "#9c179e"
             ],
             [
              0.4444444444444444,
              "#bd3786"
             ],
             [
              0.5555555555555556,
              "#d8576b"
             ],
             [
              0.6666666666666666,
              "#ed7953"
             ],
             [
              0.7777777777777778,
              "#fb9f3a"
             ],
             [
              0.8888888888888888,
              "#fdca26"
             ],
             [
              1,
              "#f0f921"
             ]
            ],
            "type": "heatmap"
           }
          ],
          "heatmapgl": [
           {
            "colorbar": {
             "outlinewidth": 0,
             "ticks": ""
            },
            "colorscale": [
             [
              0,
              "#0d0887"
             ],
             [
              0.1111111111111111,
              "#46039f"
             ],
             [
              0.2222222222222222,
              "#7201a8"
             ],
             [
              0.3333333333333333,
              "#9c179e"
             ],
             [
              0.4444444444444444,
              "#bd3786"
             ],
             [
              0.5555555555555556,
              "#d8576b"
             ],
             [
              0.6666666666666666,
              "#ed7953"
             ],
             [
              0.7777777777777778,
              "#fb9f3a"
             ],
             [
              0.8888888888888888,
              "#fdca26"
             ],
             [
              1,
              "#f0f921"
             ]
            ],
            "type": "heatmapgl"
           }
          ],
          "histogram": [
           {
            "marker": {
             "pattern": {
              "fillmode": "overlay",
              "size": 10,
              "solidity": 0.2
             }
            },
            "type": "histogram"
           }
          ],
          "histogram2d": [
           {
            "colorbar": {
             "outlinewidth": 0,
             "ticks": ""
            },
            "colorscale": [
             [
              0,
              "#0d0887"
             ],
             [
              0.1111111111111111,
              "#46039f"
             ],
             [
              0.2222222222222222,
              "#7201a8"
             ],
             [
              0.3333333333333333,
              "#9c179e"
             ],
             [
              0.4444444444444444,
              "#bd3786"
             ],
             [
              0.5555555555555556,
              "#d8576b"
             ],
             [
              0.6666666666666666,
              "#ed7953"
             ],
             [
              0.7777777777777778,
              "#fb9f3a"
             ],
             [
              0.8888888888888888,
              "#fdca26"
             ],
             [
              1,
              "#f0f921"
             ]
            ],
            "type": "histogram2d"
           }
          ],
          "histogram2dcontour": [
           {
            "colorbar": {
             "outlinewidth": 0,
             "ticks": ""
            },
            "colorscale": [
             [
              0,
              "#0d0887"
             ],
             [
              0.1111111111111111,
              "#46039f"
             ],
             [
              0.2222222222222222,
              "#7201a8"
             ],
             [
              0.3333333333333333,
              "#9c179e"
             ],
             [
              0.4444444444444444,
              "#bd3786"
             ],
             [
              0.5555555555555556,
              "#d8576b"
             ],
             [
              0.6666666666666666,
              "#ed7953"
             ],
             [
              0.7777777777777778,
              "#fb9f3a"
             ],
             [
              0.8888888888888888,
              "#fdca26"
             ],
             [
              1,
              "#f0f921"
             ]
            ],
            "type": "histogram2dcontour"
           }
          ],
          "mesh3d": [
           {
            "colorbar": {
             "outlinewidth": 0,
             "ticks": ""
            },
            "type": "mesh3d"
           }
          ],
          "parcoords": [
           {
            "line": {
             "colorbar": {
              "outlinewidth": 0,
              "ticks": ""
             }
            },
            "type": "parcoords"
           }
          ],
          "pie": [
           {
            "automargin": true,
            "type": "pie"
           }
          ],
          "scatter": [
           {
            "fillpattern": {
             "fillmode": "overlay",
             "size": 10,
             "solidity": 0.2
            },
            "type": "scatter"
           }
          ],
          "scatter3d": [
           {
            "line": {
             "colorbar": {
              "outlinewidth": 0,
              "ticks": ""
             }
            },
            "marker": {
             "colorbar": {
              "outlinewidth": 0,
              "ticks": ""
             }
            },
            "type": "scatter3d"
           }
          ],
          "scattercarpet": [
           {
            "marker": {
             "colorbar": {
              "outlinewidth": 0,
              "ticks": ""
             }
            },
            "type": "scattercarpet"
           }
          ],
          "scattergeo": [
           {
            "marker": {
             "colorbar": {
              "outlinewidth": 0,
              "ticks": ""
             }
            },
            "type": "scattergeo"
           }
          ],
          "scattergl": [
           {
            "marker": {
             "colorbar": {
              "outlinewidth": 0,
              "ticks": ""
             }
            },
            "type": "scattergl"
           }
          ],
          "scattermapbox": [
           {
            "marker": {
             "colorbar": {
              "outlinewidth": 0,
              "ticks": ""
             }
            },
            "type": "scattermapbox"
           }
          ],
          "scatterpolar": [
           {
            "marker": {
             "colorbar": {
              "outlinewidth": 0,
              "ticks": ""
             }
            },
            "type": "scatterpolar"
           }
          ],
          "scatterpolargl": [
           {
            "marker": {
             "colorbar": {
              "outlinewidth": 0,
              "ticks": ""
             }
            },
            "type": "scatterpolargl"
           }
          ],
          "scatterternary": [
           {
            "marker": {
             "colorbar": {
              "outlinewidth": 0,
              "ticks": ""
             }
            },
            "type": "scatterternary"
           }
          ],
          "surface": [
           {
            "colorbar": {
             "outlinewidth": 0,
             "ticks": ""
            },
            "colorscale": [
             [
              0,
              "#0d0887"
             ],
             [
              0.1111111111111111,
              "#46039f"
             ],
             [
              0.2222222222222222,
              "#7201a8"
             ],
             [
              0.3333333333333333,
              "#9c179e"
             ],
             [
              0.4444444444444444,
              "#bd3786"
             ],
             [
              0.5555555555555556,
              "#d8576b"
             ],
             [
              0.6666666666666666,
              "#ed7953"
             ],
             [
              0.7777777777777778,
              "#fb9f3a"
             ],
             [
              0.8888888888888888,
              "#fdca26"
             ],
             [
              1,
              "#f0f921"
             ]
            ],
            "type": "surface"
           }
          ],
          "table": [
           {
            "cells": {
             "fill": {
              "color": "#EBF0F8"
             },
             "line": {
              "color": "white"
             }
            },
            "header": {
             "fill": {
              "color": "#C8D4E3"
             },
             "line": {
              "color": "white"
             }
            },
            "type": "table"
           }
          ]
         },
         "layout": {
          "annotationdefaults": {
           "arrowcolor": "#2a3f5f",
           "arrowhead": 0,
           "arrowwidth": 1
          },
          "autotypenumbers": "strict",
          "coloraxis": {
           "colorbar": {
            "outlinewidth": 0,
            "ticks": ""
           }
          },
          "colorscale": {
           "diverging": [
            [
             0,
             "#8e0152"
            ],
            [
             0.1,
             "#c51b7d"
            ],
            [
             0.2,
             "#de77ae"
            ],
            [
             0.3,
             "#f1b6da"
            ],
            [
             0.4,
             "#fde0ef"
            ],
            [
             0.5,
             "#f7f7f7"
            ],
            [
             0.6,
             "#e6f5d0"
            ],
            [
             0.7,
             "#b8e186"
            ],
            [
             0.8,
             "#7fbc41"
            ],
            [
             0.9,
             "#4d9221"
            ],
            [
             1,
             "#276419"
            ]
           ],
           "sequential": [
            [
             0,
             "#0d0887"
            ],
            [
             0.1111111111111111,
             "#46039f"
            ],
            [
             0.2222222222222222,
             "#7201a8"
            ],
            [
             0.3333333333333333,
             "#9c179e"
            ],
            [
             0.4444444444444444,
             "#bd3786"
            ],
            [
             0.5555555555555556,
             "#d8576b"
            ],
            [
             0.6666666666666666,
             "#ed7953"
            ],
            [
             0.7777777777777778,
             "#fb9f3a"
            ],
            [
             0.8888888888888888,
             "#fdca26"
            ],
            [
             1,
             "#f0f921"
            ]
           ],
           "sequentialminus": [
            [
             0,
             "#0d0887"
            ],
            [
             0.1111111111111111,
             "#46039f"
            ],
            [
             0.2222222222222222,
             "#7201a8"
            ],
            [
             0.3333333333333333,
             "#9c179e"
            ],
            [
             0.4444444444444444,
             "#bd3786"
            ],
            [
             0.5555555555555556,
             "#d8576b"
            ],
            [
             0.6666666666666666,
             "#ed7953"
            ],
            [
             0.7777777777777778,
             "#fb9f3a"
            ],
            [
             0.8888888888888888,
             "#fdca26"
            ],
            [
             1,
             "#f0f921"
            ]
           ]
          },
          "colorway": [
           "#636efa",
           "#EF553B",
           "#00cc96",
           "#ab63fa",
           "#FFA15A",
           "#19d3f3",
           "#FF6692",
           "#B6E880",
           "#FF97FF",
           "#FECB52"
          ],
          "font": {
           "color": "#2a3f5f"
          },
          "geo": {
           "bgcolor": "white",
           "lakecolor": "white",
           "landcolor": "#E5ECF6",
           "showlakes": true,
           "showland": true,
           "subunitcolor": "white"
          },
          "hoverlabel": {
           "align": "left"
          },
          "hovermode": "closest",
          "mapbox": {
           "style": "light"
          },
          "paper_bgcolor": "white",
          "plot_bgcolor": "#E5ECF6",
          "polar": {
           "angularaxis": {
            "gridcolor": "white",
            "linecolor": "white",
            "ticks": ""
           },
           "bgcolor": "#E5ECF6",
           "radialaxis": {
            "gridcolor": "white",
            "linecolor": "white",
            "ticks": ""
           }
          },
          "scene": {
           "xaxis": {
            "backgroundcolor": "#E5ECF6",
            "gridcolor": "white",
            "gridwidth": 2,
            "linecolor": "white",
            "showbackground": true,
            "ticks": "",
            "zerolinecolor": "white"
           },
           "yaxis": {
            "backgroundcolor": "#E5ECF6",
            "gridcolor": "white",
            "gridwidth": 2,
            "linecolor": "white",
            "showbackground": true,
            "ticks": "",
            "zerolinecolor": "white"
           },
           "zaxis": {
            "backgroundcolor": "#E5ECF6",
            "gridcolor": "white",
            "gridwidth": 2,
            "linecolor": "white",
            "showbackground": true,
            "ticks": "",
            "zerolinecolor": "white"
           }
          },
          "shapedefaults": {
           "line": {
            "color": "#2a3f5f"
           }
          },
          "ternary": {
           "aaxis": {
            "gridcolor": "white",
            "linecolor": "white",
            "ticks": ""
           },
           "baxis": {
            "gridcolor": "white",
            "linecolor": "white",
            "ticks": ""
           },
           "bgcolor": "#E5ECF6",
           "caxis": {
            "gridcolor": "white",
            "linecolor": "white",
            "ticks": ""
           }
          },
          "title": {
           "x": 0.05
          },
          "xaxis": {
           "automargin": true,
           "gridcolor": "white",
           "linecolor": "white",
           "ticks": "",
           "title": {
            "standoff": 15
           },
           "zerolinecolor": "white",
           "zerolinewidth": 2
          },
          "yaxis": {
           "automargin": true,
           "gridcolor": "white",
           "linecolor": "white",
           "ticks": "",
           "title": {
            "standoff": 15
           },
           "zerolinecolor": "white",
           "zerolinewidth": 2
          }
         }
        },
        "title": {
         "text": "Urban and Vaccinated % of Residents Across US States"
        },
        "yaxis": {
         "title": {
          "text": "Percentage"
         }
        }
       }
      },
      "text/html": [
       "<div>                            <div id=\"a9fb9053-4434-4a1f-99c0-ef601ee330ad\" class=\"plotly-graph-div\" style=\"height:525px; width:100%;\"></div>            <script type=\"text/javascript\">                require([\"plotly\"], function(Plotly) {                    window.PLOTLYENV=window.PLOTLYENV || {};                                    if (document.getElementById(\"a9fb9053-4434-4a1f-99c0-ef601ee330ad\")) {                    Plotly.newPlot(                        \"a9fb9053-4434-4a1f-99c0-ef601ee330ad\",                        [{\"name\":\"Urban Residents\",\"y\":[57.7,64.9,89.3,55.5,94.2,86.0,86.3,82.6,91.5,74.1,86.1,69.2,86.9,71.2,63.2,72.3,58.7,71.5,38.6,85.6,91.3,73.5,71.9,46.3,69.5,53.4,73.0,94.1,58.3,93.8,74.5,87.4,66.7,61.0,76.3,64.6,80.5,76.5,91.1,67.9,57.2,66.2,83.7,89.8,35.1,75.6,83.4,44.6,67.1,62.0],\"type\":\"box\"},{\"name\":\"Vaccination Complete\",\"y\":[63.3,75.9,75.2,66.8,83.9,82.9,91.7,83.2,79.6,67.7,90.5,67.9,79.9,68.0,74.9,76.3,69.9,66.0,91.9,88.6,91.8,71.6,81.5,64.2,68.7,68.3,77.4,74.5,80.7,89.2,85.5,90.8,77.1,69.4,69.9,72.3,81.3,83.1,95.0,69.6,78.5,66.3,74.1,80.0,91.7,85.4,85.6,69.0,77.7,63.3],\"type\":\"box\"}],                        {\"template\":{\"data\":{\"histogram2dcontour\":[{\"type\":\"histogram2dcontour\",\"colorbar\":{\"outlinewidth\":0,\"ticks\":\"\"},\"colorscale\":[[0.0,\"#0d0887\"],[0.1111111111111111,\"#46039f\"],[0.2222222222222222,\"#7201a8\"],[0.3333333333333333,\"#9c179e\"],[0.4444444444444444,\"#bd3786\"],[0.5555555555555556,\"#d8576b\"],[0.6666666666666666,\"#ed7953\"],[0.7777777777777778,\"#fb9f3a\"],[0.8888888888888888,\"#fdca26\"],[1.0,\"#f0f921\"]]}],\"choropleth\":[{\"type\":\"choropleth\",\"colorbar\":{\"outlinewidth\":0,\"ticks\":\"\"}}],\"histogram2d\":[{\"type\":\"histogram2d\",\"colorbar\":{\"outlinewidth\":0,\"ticks\":\"\"},\"colorscale\":[[0.0,\"#0d0887\"],[0.1111111111111111,\"#46039f\"],[0.2222222222222222,\"#7201a8\"],[0.3333333333333333,\"#9c179e\"],[0.4444444444444444,\"#bd3786\"],[0.5555555555555556,\"#d8576b\"],[0.6666666666666666,\"#ed7953\"],[0.7777777777777778,\"#fb9f3a\"],[0.8888888888888888,\"#fdca26\"],[1.0,\"#f0f921\"]]}],\"heatmap\":[{\"type\":\"heatmap\",\"colorbar\":{\"outlinewidth\":0,\"ticks\":\"\"},\"colorscale\":[[0.0,\"#0d0887\"],[0.1111111111111111,\"#46039f\"],[0.2222222222222222,\"#7201a8\"],[0.3333333333333333,\"#9c179e\"],[0.4444444444444444,\"#bd3786\"],[0.5555555555555556,\"#d8576b\"],[0.6666666666666666,\"#ed7953\"],[0.7777777777777778,\"#fb9f3a\"],[0.8888888888888888,\"#fdca26\"],[1.0,\"#f0f921\"]]}],\"heatmapgl\":[{\"type\":\"heatmapgl\",\"colorbar\":{\"outlinewidth\":0,\"ticks\":\"\"},\"colorscale\":[[0.0,\"#0d0887\"],[0.1111111111111111,\"#46039f\"],[0.2222222222222222,\"#7201a8\"],[0.3333333333333333,\"#9c179e\"],[0.4444444444444444,\"#bd3786\"],[0.5555555555555556,\"#d8576b\"],[0.6666666666666666,\"#ed7953\"],[0.7777777777777778,\"#fb9f3a\"],[0.8888888888888888,\"#fdca26\"],[1.0,\"#f0f921\"]]}],\"contourcarpet\":[{\"type\":\"contourcarpet\",\"colorbar\":{\"outlinewidth\":0,\"ticks\":\"\"}}],\"contour\":[{\"type\":\"contour\",\"colorbar\":{\"outlinewidth\":0,\"ticks\":\"\"},\"colorscale\":[[0.0,\"#0d0887\"],[0.1111111111111111,\"#46039f\"],[0.2222222222222222,\"#7201a8\"],[0.3333333333333333,\"#9c179e\"],[0.4444444444444444,\"#bd3786\"],[0.5555555555555556,\"#d8576b\"],[0.6666666666666666,\"#ed7953\"],[0.7777777777777778,\"#fb9f3a\"],[0.8888888888888888,\"#fdca26\"],[1.0,\"#f0f921\"]]}],\"surface\":[{\"type\":\"surface\",\"colorbar\":{\"outlinewidth\":0,\"ticks\":\"\"},\"colorscale\":[[0.0,\"#0d0887\"],[0.1111111111111111,\"#46039f\"],[0.2222222222222222,\"#7201a8\"],[0.3333333333333333,\"#9c179e\"],[0.4444444444444444,\"#bd3786\"],[0.5555555555555556,\"#d8576b\"],[0.6666666666666666,\"#ed7953\"],[0.7777777777777778,\"#fb9f3a\"],[0.8888888888888888,\"#fdca26\"],[1.0,\"#f0f921\"]]}],\"mesh3d\":[{\"type\":\"mesh3d\",\"colorbar\":{\"outlinewidth\":0,\"ticks\":\"\"}}],\"scatter\":[{\"fillpattern\":{\"fillmode\":\"overlay\",\"size\":10,\"solidity\":0.2},\"type\":\"scatter\"}],\"parcoords\":[{\"type\":\"parcoords\",\"line\":{\"colorbar\":{\"outlinewidth\":0,\"ticks\":\"\"}}}],\"scatterpolargl\":[{\"type\":\"scatterpolargl\",\"marker\":{\"colorbar\":{\"outlinewidth\":0,\"ticks\":\"\"}}}],\"bar\":[{\"error_x\":{\"color\":\"#2a3f5f\"},\"error_y\":{\"color\":\"#2a3f5f\"},\"marker\":{\"line\":{\"color\":\"#E5ECF6\",\"width\":0.5},\"pattern\":{\"fillmode\":\"overlay\",\"size\":10,\"solidity\":0.2}},\"type\":\"bar\"}],\"scattergeo\":[{\"type\":\"scattergeo\",\"marker\":{\"colorbar\":{\"outlinewidth\":0,\"ticks\":\"\"}}}],\"scatterpolar\":[{\"type\":\"scatterpolar\",\"marker\":{\"colorbar\":{\"outlinewidth\":0,\"ticks\":\"\"}}}],\"histogram\":[{\"marker\":{\"pattern\":{\"fillmode\":\"overlay\",\"size\":10,\"solidity\":0.2}},\"type\":\"histogram\"}],\"scattergl\":[{\"type\":\"scattergl\",\"marker\":{\"colorbar\":{\"outlinewidth\":0,\"ticks\":\"\"}}}],\"scatter3d\":[{\"type\":\"scatter3d\",\"line\":{\"colorbar\":{\"outlinewidth\":0,\"ticks\":\"\"}},\"marker\":{\"colorbar\":{\"outlinewidth\":0,\"ticks\":\"\"}}}],\"scattermapbox\":[{\"type\":\"scattermapbox\",\"marker\":{\"colorbar\":{\"outlinewidth\":0,\"ticks\":\"\"}}}],\"scatterternary\":[{\"type\":\"scatterternary\",\"marker\":{\"colorbar\":{\"outlinewidth\":0,\"ticks\":\"\"}}}],\"scattercarpet\":[{\"type\":\"scattercarpet\",\"marker\":{\"colorbar\":{\"outlinewidth\":0,\"ticks\":\"\"}}}],\"carpet\":[{\"aaxis\":{\"endlinecolor\":\"#2a3f5f\",\"gridcolor\":\"white\",\"linecolor\":\"white\",\"minorgridcolor\":\"white\",\"startlinecolor\":\"#2a3f5f\"},\"baxis\":{\"endlinecolor\":\"#2a3f5f\",\"gridcolor\":\"white\",\"linecolor\":\"white\",\"minorgridcolor\":\"white\",\"startlinecolor\":\"#2a3f5f\"},\"type\":\"carpet\"}],\"table\":[{\"cells\":{\"fill\":{\"color\":\"#EBF0F8\"},\"line\":{\"color\":\"white\"}},\"header\":{\"fill\":{\"color\":\"#C8D4E3\"},\"line\":{\"color\":\"white\"}},\"type\":\"table\"}],\"barpolar\":[{\"marker\":{\"line\":{\"color\":\"#E5ECF6\",\"width\":0.5},\"pattern\":{\"fillmode\":\"overlay\",\"size\":10,\"solidity\":0.2}},\"type\":\"barpolar\"}],\"pie\":[{\"automargin\":true,\"type\":\"pie\"}]},\"layout\":{\"autotypenumbers\":\"strict\",\"colorway\":[\"#636efa\",\"#EF553B\",\"#00cc96\",\"#ab63fa\",\"#FFA15A\",\"#19d3f3\",\"#FF6692\",\"#B6E880\",\"#FF97FF\",\"#FECB52\"],\"font\":{\"color\":\"#2a3f5f\"},\"hovermode\":\"closest\",\"hoverlabel\":{\"align\":\"left\"},\"paper_bgcolor\":\"white\",\"plot_bgcolor\":\"#E5ECF6\",\"polar\":{\"bgcolor\":\"#E5ECF6\",\"angularaxis\":{\"gridcolor\":\"white\",\"linecolor\":\"white\",\"ticks\":\"\"},\"radialaxis\":{\"gridcolor\":\"white\",\"linecolor\":\"white\",\"ticks\":\"\"}},\"ternary\":{\"bgcolor\":\"#E5ECF6\",\"aaxis\":{\"gridcolor\":\"white\",\"linecolor\":\"white\",\"ticks\":\"\"},\"baxis\":{\"gridcolor\":\"white\",\"linecolor\":\"white\",\"ticks\":\"\"},\"caxis\":{\"gridcolor\":\"white\",\"linecolor\":\"white\",\"ticks\":\"\"}},\"coloraxis\":{\"colorbar\":{\"outlinewidth\":0,\"ticks\":\"\"}},\"colorscale\":{\"sequential\":[[0.0,\"#0d0887\"],[0.1111111111111111,\"#46039f\"],[0.2222222222222222,\"#7201a8\"],[0.3333333333333333,\"#9c179e\"],[0.4444444444444444,\"#bd3786\"],[0.5555555555555556,\"#d8576b\"],[0.6666666666666666,\"#ed7953\"],[0.7777777777777778,\"#fb9f3a\"],[0.8888888888888888,\"#fdca26\"],[1.0,\"#f0f921\"]],\"sequentialminus\":[[0.0,\"#0d0887\"],[0.1111111111111111,\"#46039f\"],[0.2222222222222222,\"#7201a8\"],[0.3333333333333333,\"#9c179e\"],[0.4444444444444444,\"#bd3786\"],[0.5555555555555556,\"#d8576b\"],[0.6666666666666666,\"#ed7953\"],[0.7777777777777778,\"#fb9f3a\"],[0.8888888888888888,\"#fdca26\"],[1.0,\"#f0f921\"]],\"diverging\":[[0,\"#8e0152\"],[0.1,\"#c51b7d\"],[0.2,\"#de77ae\"],[0.3,\"#f1b6da\"],[0.4,\"#fde0ef\"],[0.5,\"#f7f7f7\"],[0.6,\"#e6f5d0\"],[0.7,\"#b8e186\"],[0.8,\"#7fbc41\"],[0.9,\"#4d9221\"],[1,\"#276419\"]]},\"xaxis\":{\"gridcolor\":\"white\",\"linecolor\":\"white\",\"ticks\":\"\",\"title\":{\"standoff\":15},\"zerolinecolor\":\"white\",\"automargin\":true,\"zerolinewidth\":2},\"yaxis\":{\"gridcolor\":\"white\",\"linecolor\":\"white\",\"ticks\":\"\",\"title\":{\"standoff\":15},\"zerolinecolor\":\"white\",\"automargin\":true,\"zerolinewidth\":2},\"scene\":{\"xaxis\":{\"backgroundcolor\":\"#E5ECF6\",\"gridcolor\":\"white\",\"linecolor\":\"white\",\"showbackground\":true,\"ticks\":\"\",\"zerolinecolor\":\"white\",\"gridwidth\":2},\"yaxis\":{\"backgroundcolor\":\"#E5ECF6\",\"gridcolor\":\"white\",\"linecolor\":\"white\",\"showbackground\":true,\"ticks\":\"\",\"zerolinecolor\":\"white\",\"gridwidth\":2},\"zaxis\":{\"backgroundcolor\":\"#E5ECF6\",\"gridcolor\":\"white\",\"linecolor\":\"white\",\"showbackground\":true,\"ticks\":\"\",\"zerolinecolor\":\"white\",\"gridwidth\":2}},\"shapedefaults\":{\"line\":{\"color\":\"#2a3f5f\"}},\"annotationdefaults\":{\"arrowcolor\":\"#2a3f5f\",\"arrowhead\":0,\"arrowwidth\":1},\"geo\":{\"bgcolor\":\"white\",\"landcolor\":\"#E5ECF6\",\"subunitcolor\":\"white\",\"showland\":true,\"showlakes\":true,\"lakecolor\":\"white\"},\"title\":{\"x\":0.05},\"mapbox\":{\"style\":\"light\"}}},\"title\":{\"text\":\"Urban and Vaccinated % of Residents Across US States\"},\"yaxis\":{\"title\":{\"text\":\"Percentage\"}}},                        {\"responsive\": true}                    ).then(function(){\n",
       "                            \n",
       "var gd = document.getElementById('a9fb9053-4434-4a1f-99c0-ef601ee330ad');\n",
       "var x = new MutationObserver(function (mutations, observer) {{\n",
       "        var display = window.getComputedStyle(gd).display;\n",
       "        if (!display || display === 'none') {{\n",
       "            console.log([gd, 'removed!']);\n",
       "            Plotly.purge(gd);\n",
       "            observer.disconnect();\n",
       "        }}\n",
       "}});\n",
       "\n",
       "// Listen for the removal of the full notebook cells\n",
       "var notebookContainer = gd.closest('#notebook-container');\n",
       "if (notebookContainer) {{\n",
       "    x.observe(notebookContainer, {childList: true});\n",
       "}}\n",
       "\n",
       "// Listen for the clearing of the current output cell\n",
       "var outputEl = gd.closest('.output');\n",
       "if (outputEl) {{\n",
       "    x.observe(outputEl, {childList: true});\n",
       "}}\n",
       "\n",
       "                        })                };                });            </script>        </div>"
      ]
     },
     "metadata": {},
     "output_type": "display_data"
    }
   ],
   "source": [
    "# Plot summary stats\n",
    "sum_stats = go.Figure()\n",
    "\n",
    "sum_stats.add_trace(go.Box(y=x_val2, name='Urban Residents'))\n",
    "sum_stats.add_trace(go.Box(y=y_val2, name='Vaccination Complete'))\n",
    "\n",
    "# Update layout\n",
    "sum_stats.update_layout(title='Urban and Vaccinated % of Residents Across US States', yaxis=dict(title='Percentage'))\n",
    "\n",
    "# Show the plot\n",
    "sum_stats.show()\n",
    "\n",
    "# Save file\n",
    "sum_stats.write_image(\"./urban_and_vaccination_stats.png\")"
   ]
  },
  {
   "cell_type": "code",
   "execution_count": 157,
   "id": "43528627",
   "metadata": {},
   "outputs": [],
   "source": [
    "# Compute stats\n",
    "x_val2_min = x_val2.min()\n",
    "x_val2_max = x_val2.max()\n",
    "x_val2_median = x_val2.median()\n",
    "x_val2_mean = x_val2.mean()\n",
    "x_val2_std = x_val2.std()\n",
    "\n",
    "y_val2_min = y_val2.min()\n",
    "y_val2_max = y_val2.max()\n",
    "y_val2_median = y_val2.median()\n",
    "y_val2_mean = y_val2.mean()\n",
    "y_val2_std = y_val2.std()"
   ]
  },
  {
   "cell_type": "code",
   "execution_count": 160,
   "id": "33e89734",
   "metadata": {},
   "outputs": [
    {
     "data": {
      "application/vnd.plotly.v1+json": {
       "config": {
        "plotlyServerURL": "https://plot.ly"
       },
       "data": [
        {
         "cells": {
          "values": [
           [
            "Max",
            "Mean",
            "Median",
            "Min",
            "Standard Deviation"
           ],
           [
            94.2,
            72.434,
            72.65,
            35.1,
            14.82
           ],
           [
            95,
            77.552,
            77.25,
            63.3,
            8.94
           ]
          ]
         },
         "header": {
          "values": [
           "Statistic",
           "Percent of Population in Urban Areas",
           "Percent of Adult Population Completed Primary Vaccination Series"
          ]
         },
         "type": "table"
        }
       ],
       "layout": {
        "template": {
         "data": {
          "bar": [
           {
            "error_x": {
             "color": "#2a3f5f"
            },
            "error_y": {
             "color": "#2a3f5f"
            },
            "marker": {
             "line": {
              "color": "#E5ECF6",
              "width": 0.5
             },
             "pattern": {
              "fillmode": "overlay",
              "size": 10,
              "solidity": 0.2
             }
            },
            "type": "bar"
           }
          ],
          "barpolar": [
           {
            "marker": {
             "line": {
              "color": "#E5ECF6",
              "width": 0.5
             },
             "pattern": {
              "fillmode": "overlay",
              "size": 10,
              "solidity": 0.2
             }
            },
            "type": "barpolar"
           }
          ],
          "carpet": [
           {
            "aaxis": {
             "endlinecolor": "#2a3f5f",
             "gridcolor": "white",
             "linecolor": "white",
             "minorgridcolor": "white",
             "startlinecolor": "#2a3f5f"
            },
            "baxis": {
             "endlinecolor": "#2a3f5f",
             "gridcolor": "white",
             "linecolor": "white",
             "minorgridcolor": "white",
             "startlinecolor": "#2a3f5f"
            },
            "type": "carpet"
           }
          ],
          "choropleth": [
           {
            "colorbar": {
             "outlinewidth": 0,
             "ticks": ""
            },
            "type": "choropleth"
           }
          ],
          "contour": [
           {
            "colorbar": {
             "outlinewidth": 0,
             "ticks": ""
            },
            "colorscale": [
             [
              0,
              "#0d0887"
             ],
             [
              0.1111111111111111,
              "#46039f"
             ],
             [
              0.2222222222222222,
              "#7201a8"
             ],
             [
              0.3333333333333333,
              "#9c179e"
             ],
             [
              0.4444444444444444,
              "#bd3786"
             ],
             [
              0.5555555555555556,
              "#d8576b"
             ],
             [
              0.6666666666666666,
              "#ed7953"
             ],
             [
              0.7777777777777778,
              "#fb9f3a"
             ],
             [
              0.8888888888888888,
              "#fdca26"
             ],
             [
              1,
              "#f0f921"
             ]
            ],
            "type": "contour"
           }
          ],
          "contourcarpet": [
           {
            "colorbar": {
             "outlinewidth": 0,
             "ticks": ""
            },
            "type": "contourcarpet"
           }
          ],
          "heatmap": [
           {
            "colorbar": {
             "outlinewidth": 0,
             "ticks": ""
            },
            "colorscale": [
             [
              0,
              "#0d0887"
             ],
             [
              0.1111111111111111,
              "#46039f"
             ],
             [
              0.2222222222222222,
              "#7201a8"
             ],
             [
              0.3333333333333333,
              "#9c179e"
             ],
             [
              0.4444444444444444,
              "#bd3786"
             ],
             [
              0.5555555555555556,
              "#d8576b"
             ],
             [
              0.6666666666666666,
              "#ed7953"
             ],
             [
              0.7777777777777778,
              "#fb9f3a"
             ],
             [
              0.8888888888888888,
              "#fdca26"
             ],
             [
              1,
              "#f0f921"
             ]
            ],
            "type": "heatmap"
           }
          ],
          "heatmapgl": [
           {
            "colorbar": {
             "outlinewidth": 0,
             "ticks": ""
            },
            "colorscale": [
             [
              0,
              "#0d0887"
             ],
             [
              0.1111111111111111,
              "#46039f"
             ],
             [
              0.2222222222222222,
              "#7201a8"
             ],
             [
              0.3333333333333333,
              "#9c179e"
             ],
             [
              0.4444444444444444,
              "#bd3786"
             ],
             [
              0.5555555555555556,
              "#d8576b"
             ],
             [
              0.6666666666666666,
              "#ed7953"
             ],
             [
              0.7777777777777778,
              "#fb9f3a"
             ],
             [
              0.8888888888888888,
              "#fdca26"
             ],
             [
              1,
              "#f0f921"
             ]
            ],
            "type": "heatmapgl"
           }
          ],
          "histogram": [
           {
            "marker": {
             "pattern": {
              "fillmode": "overlay",
              "size": 10,
              "solidity": 0.2
             }
            },
            "type": "histogram"
           }
          ],
          "histogram2d": [
           {
            "colorbar": {
             "outlinewidth": 0,
             "ticks": ""
            },
            "colorscale": [
             [
              0,
              "#0d0887"
             ],
             [
              0.1111111111111111,
              "#46039f"
             ],
             [
              0.2222222222222222,
              "#7201a8"
             ],
             [
              0.3333333333333333,
              "#9c179e"
             ],
             [
              0.4444444444444444,
              "#bd3786"
             ],
             [
              0.5555555555555556,
              "#d8576b"
             ],
             [
              0.6666666666666666,
              "#ed7953"
             ],
             [
              0.7777777777777778,
              "#fb9f3a"
             ],
             [
              0.8888888888888888,
              "#fdca26"
             ],
             [
              1,
              "#f0f921"
             ]
            ],
            "type": "histogram2d"
           }
          ],
          "histogram2dcontour": [
           {
            "colorbar": {
             "outlinewidth": 0,
             "ticks": ""
            },
            "colorscale": [
             [
              0,
              "#0d0887"
             ],
             [
              0.1111111111111111,
              "#46039f"
             ],
             [
              0.2222222222222222,
              "#7201a8"
             ],
             [
              0.3333333333333333,
              "#9c179e"
             ],
             [
              0.4444444444444444,
              "#bd3786"
             ],
             [
              0.5555555555555556,
              "#d8576b"
             ],
             [
              0.6666666666666666,
              "#ed7953"
             ],
             [
              0.7777777777777778,
              "#fb9f3a"
             ],
             [
              0.8888888888888888,
              "#fdca26"
             ],
             [
              1,
              "#f0f921"
             ]
            ],
            "type": "histogram2dcontour"
           }
          ],
          "mesh3d": [
           {
            "colorbar": {
             "outlinewidth": 0,
             "ticks": ""
            },
            "type": "mesh3d"
           }
          ],
          "parcoords": [
           {
            "line": {
             "colorbar": {
              "outlinewidth": 0,
              "ticks": ""
             }
            },
            "type": "parcoords"
           }
          ],
          "pie": [
           {
            "automargin": true,
            "type": "pie"
           }
          ],
          "scatter": [
           {
            "fillpattern": {
             "fillmode": "overlay",
             "size": 10,
             "solidity": 0.2
            },
            "type": "scatter"
           }
          ],
          "scatter3d": [
           {
            "line": {
             "colorbar": {
              "outlinewidth": 0,
              "ticks": ""
             }
            },
            "marker": {
             "colorbar": {
              "outlinewidth": 0,
              "ticks": ""
             }
            },
            "type": "scatter3d"
           }
          ],
          "scattercarpet": [
           {
            "marker": {
             "colorbar": {
              "outlinewidth": 0,
              "ticks": ""
             }
            },
            "type": "scattercarpet"
           }
          ],
          "scattergeo": [
           {
            "marker": {
             "colorbar": {
              "outlinewidth": 0,
              "ticks": ""
             }
            },
            "type": "scattergeo"
           }
          ],
          "scattergl": [
           {
            "marker": {
             "colorbar": {
              "outlinewidth": 0,
              "ticks": ""
             }
            },
            "type": "scattergl"
           }
          ],
          "scattermapbox": [
           {
            "marker": {
             "colorbar": {
              "outlinewidth": 0,
              "ticks": ""
             }
            },
            "type": "scattermapbox"
           }
          ],
          "scatterpolar": [
           {
            "marker": {
             "colorbar": {
              "outlinewidth": 0,
              "ticks": ""
             }
            },
            "type": "scatterpolar"
           }
          ],
          "scatterpolargl": [
           {
            "marker": {
             "colorbar": {
              "outlinewidth": 0,
              "ticks": ""
             }
            },
            "type": "scatterpolargl"
           }
          ],
          "scatterternary": [
           {
            "marker": {
             "colorbar": {
              "outlinewidth": 0,
              "ticks": ""
             }
            },
            "type": "scatterternary"
           }
          ],
          "surface": [
           {
            "colorbar": {
             "outlinewidth": 0,
             "ticks": ""
            },
            "colorscale": [
             [
              0,
              "#0d0887"
             ],
             [
              0.1111111111111111,
              "#46039f"
             ],
             [
              0.2222222222222222,
              "#7201a8"
             ],
             [
              0.3333333333333333,
              "#9c179e"
             ],
             [
              0.4444444444444444,
              "#bd3786"
             ],
             [
              0.5555555555555556,
              "#d8576b"
             ],
             [
              0.6666666666666666,
              "#ed7953"
             ],
             [
              0.7777777777777778,
              "#fb9f3a"
             ],
             [
              0.8888888888888888,
              "#fdca26"
             ],
             [
              1,
              "#f0f921"
             ]
            ],
            "type": "surface"
           }
          ],
          "table": [
           {
            "cells": {
             "fill": {
              "color": "#EBF0F8"
             },
             "line": {
              "color": "white"
             }
            },
            "header": {
             "fill": {
              "color": "#C8D4E3"
             },
             "line": {
              "color": "white"
             }
            },
            "type": "table"
           }
          ]
         },
         "layout": {
          "annotationdefaults": {
           "arrowcolor": "#2a3f5f",
           "arrowhead": 0,
           "arrowwidth": 1
          },
          "autotypenumbers": "strict",
          "coloraxis": {
           "colorbar": {
            "outlinewidth": 0,
            "ticks": ""
           }
          },
          "colorscale": {
           "diverging": [
            [
             0,
             "#8e0152"
            ],
            [
             0.1,
             "#c51b7d"
            ],
            [
             0.2,
             "#de77ae"
            ],
            [
             0.3,
             "#f1b6da"
            ],
            [
             0.4,
             "#fde0ef"
            ],
            [
             0.5,
             "#f7f7f7"
            ],
            [
             0.6,
             "#e6f5d0"
            ],
            [
             0.7,
             "#b8e186"
            ],
            [
             0.8,
             "#7fbc41"
            ],
            [
             0.9,
             "#4d9221"
            ],
            [
             1,
             "#276419"
            ]
           ],
           "sequential": [
            [
             0,
             "#0d0887"
            ],
            [
             0.1111111111111111,
             "#46039f"
            ],
            [
             0.2222222222222222,
             "#7201a8"
            ],
            [
             0.3333333333333333,
             "#9c179e"
            ],
            [
             0.4444444444444444,
             "#bd3786"
            ],
            [
             0.5555555555555556,
             "#d8576b"
            ],
            [
             0.6666666666666666,
             "#ed7953"
            ],
            [
             0.7777777777777778,
             "#fb9f3a"
            ],
            [
             0.8888888888888888,
             "#fdca26"
            ],
            [
             1,
             "#f0f921"
            ]
           ],
           "sequentialminus": [
            [
             0,
             "#0d0887"
            ],
            [
             0.1111111111111111,
             "#46039f"
            ],
            [
             0.2222222222222222,
             "#7201a8"
            ],
            [
             0.3333333333333333,
             "#9c179e"
            ],
            [
             0.4444444444444444,
             "#bd3786"
            ],
            [
             0.5555555555555556,
             "#d8576b"
            ],
            [
             0.6666666666666666,
             "#ed7953"
            ],
            [
             0.7777777777777778,
             "#fb9f3a"
            ],
            [
             0.8888888888888888,
             "#fdca26"
            ],
            [
             1,
             "#f0f921"
            ]
           ]
          },
          "colorway": [
           "#636efa",
           "#EF553B",
           "#00cc96",
           "#ab63fa",
           "#FFA15A",
           "#19d3f3",
           "#FF6692",
           "#B6E880",
           "#FF97FF",
           "#FECB52"
          ],
          "font": {
           "color": "#2a3f5f"
          },
          "geo": {
           "bgcolor": "white",
           "lakecolor": "white",
           "landcolor": "#E5ECF6",
           "showlakes": true,
           "showland": true,
           "subunitcolor": "white"
          },
          "hoverlabel": {
           "align": "left"
          },
          "hovermode": "closest",
          "mapbox": {
           "style": "light"
          },
          "paper_bgcolor": "white",
          "plot_bgcolor": "#E5ECF6",
          "polar": {
           "angularaxis": {
            "gridcolor": "white",
            "linecolor": "white",
            "ticks": ""
           },
           "bgcolor": "#E5ECF6",
           "radialaxis": {
            "gridcolor": "white",
            "linecolor": "white",
            "ticks": ""
           }
          },
          "scene": {
           "xaxis": {
            "backgroundcolor": "#E5ECF6",
            "gridcolor": "white",
            "gridwidth": 2,
            "linecolor": "white",
            "showbackground": true,
            "ticks": "",
            "zerolinecolor": "white"
           },
           "yaxis": {
            "backgroundcolor": "#E5ECF6",
            "gridcolor": "white",
            "gridwidth": 2,
            "linecolor": "white",
            "showbackground": true,
            "ticks": "",
            "zerolinecolor": "white"
           },
           "zaxis": {
            "backgroundcolor": "#E5ECF6",
            "gridcolor": "white",
            "gridwidth": 2,
            "linecolor": "white",
            "showbackground": true,
            "ticks": "",
            "zerolinecolor": "white"
           }
          },
          "shapedefaults": {
           "line": {
            "color": "#2a3f5f"
           }
          },
          "ternary": {
           "aaxis": {
            "gridcolor": "white",
            "linecolor": "white",
            "ticks": ""
           },
           "baxis": {
            "gridcolor": "white",
            "linecolor": "white",
            "ticks": ""
           },
           "bgcolor": "#E5ECF6",
           "caxis": {
            "gridcolor": "white",
            "linecolor": "white",
            "ticks": ""
           }
          },
          "title": {
           "x": 0.05
          },
          "xaxis": {
           "automargin": true,
           "gridcolor": "white",
           "linecolor": "white",
           "ticks": "",
           "title": {
            "standoff": 15
           },
           "zerolinecolor": "white",
           "zerolinewidth": 2
          },
          "yaxis": {
           "automargin": true,
           "gridcolor": "white",
           "linecolor": "white",
           "ticks": "",
           "title": {
            "standoff": 15
           },
           "zerolinecolor": "white",
           "zerolinewidth": 2
          }
         }
        }
       }
      },
      "text/html": [
       "<div>                            <div id=\"40ab4a74-820a-48b4-a25f-da3cd4a70262\" class=\"plotly-graph-div\" style=\"height:525px; width:100%;\"></div>            <script type=\"text/javascript\">                require([\"plotly\"], function(Plotly) {                    window.PLOTLYENV=window.PLOTLYENV || {};                                    if (document.getElementById(\"40ab4a74-820a-48b4-a25f-da3cd4a70262\")) {                    Plotly.newPlot(                        \"40ab4a74-820a-48b4-a25f-da3cd4a70262\",                        [{\"cells\":{\"values\":[[\"Max\",\"Mean\",\"Median\",\"Min\",\"Standard Deviation\"],[94.2,72.434,72.65,35.1,14.82],[95.0,77.552,77.25,63.3,8.94]]},\"header\":{\"values\":[\"Statistic\",\"Percent of Population in Urban Areas\",\"Percent of Adult Population Completed Primary Vaccination Series\"]},\"type\":\"table\"}],                        {\"template\":{\"data\":{\"histogram2dcontour\":[{\"type\":\"histogram2dcontour\",\"colorbar\":{\"outlinewidth\":0,\"ticks\":\"\"},\"colorscale\":[[0.0,\"#0d0887\"],[0.1111111111111111,\"#46039f\"],[0.2222222222222222,\"#7201a8\"],[0.3333333333333333,\"#9c179e\"],[0.4444444444444444,\"#bd3786\"],[0.5555555555555556,\"#d8576b\"],[0.6666666666666666,\"#ed7953\"],[0.7777777777777778,\"#fb9f3a\"],[0.8888888888888888,\"#fdca26\"],[1.0,\"#f0f921\"]]}],\"choropleth\":[{\"type\":\"choropleth\",\"colorbar\":{\"outlinewidth\":0,\"ticks\":\"\"}}],\"histogram2d\":[{\"type\":\"histogram2d\",\"colorbar\":{\"outlinewidth\":0,\"ticks\":\"\"},\"colorscale\":[[0.0,\"#0d0887\"],[0.1111111111111111,\"#46039f\"],[0.2222222222222222,\"#7201a8\"],[0.3333333333333333,\"#9c179e\"],[0.4444444444444444,\"#bd3786\"],[0.5555555555555556,\"#d8576b\"],[0.6666666666666666,\"#ed7953\"],[0.7777777777777778,\"#fb9f3a\"],[0.8888888888888888,\"#fdca26\"],[1.0,\"#f0f921\"]]}],\"heatmap\":[{\"type\":\"heatmap\",\"colorbar\":{\"outlinewidth\":0,\"ticks\":\"\"},\"colorscale\":[[0.0,\"#0d0887\"],[0.1111111111111111,\"#46039f\"],[0.2222222222222222,\"#7201a8\"],[0.3333333333333333,\"#9c179e\"],[0.4444444444444444,\"#bd3786\"],[0.5555555555555556,\"#d8576b\"],[0.6666666666666666,\"#ed7953\"],[0.7777777777777778,\"#fb9f3a\"],[0.8888888888888888,\"#fdca26\"],[1.0,\"#f0f921\"]]}],\"heatmapgl\":[{\"type\":\"heatmapgl\",\"colorbar\":{\"outlinewidth\":0,\"ticks\":\"\"},\"colorscale\":[[0.0,\"#0d0887\"],[0.1111111111111111,\"#46039f\"],[0.2222222222222222,\"#7201a8\"],[0.3333333333333333,\"#9c179e\"],[0.4444444444444444,\"#bd3786\"],[0.5555555555555556,\"#d8576b\"],[0.6666666666666666,\"#ed7953\"],[0.7777777777777778,\"#fb9f3a\"],[0.8888888888888888,\"#fdca26\"],[1.0,\"#f0f921\"]]}],\"contourcarpet\":[{\"type\":\"contourcarpet\",\"colorbar\":{\"outlinewidth\":0,\"ticks\":\"\"}}],\"contour\":[{\"type\":\"contour\",\"colorbar\":{\"outlinewidth\":0,\"ticks\":\"\"},\"colorscale\":[[0.0,\"#0d0887\"],[0.1111111111111111,\"#46039f\"],[0.2222222222222222,\"#7201a8\"],[0.3333333333333333,\"#9c179e\"],[0.4444444444444444,\"#bd3786\"],[0.5555555555555556,\"#d8576b\"],[0.6666666666666666,\"#ed7953\"],[0.7777777777777778,\"#fb9f3a\"],[0.8888888888888888,\"#fdca26\"],[1.0,\"#f0f921\"]]}],\"surface\":[{\"type\":\"surface\",\"colorbar\":{\"outlinewidth\":0,\"ticks\":\"\"},\"colorscale\":[[0.0,\"#0d0887\"],[0.1111111111111111,\"#46039f\"],[0.2222222222222222,\"#7201a8\"],[0.3333333333333333,\"#9c179e\"],[0.4444444444444444,\"#bd3786\"],[0.5555555555555556,\"#d8576b\"],[0.6666666666666666,\"#ed7953\"],[0.7777777777777778,\"#fb9f3a\"],[0.8888888888888888,\"#fdca26\"],[1.0,\"#f0f921\"]]}],\"mesh3d\":[{\"type\":\"mesh3d\",\"colorbar\":{\"outlinewidth\":0,\"ticks\":\"\"}}],\"scatter\":[{\"fillpattern\":{\"fillmode\":\"overlay\",\"size\":10,\"solidity\":0.2},\"type\":\"scatter\"}],\"parcoords\":[{\"type\":\"parcoords\",\"line\":{\"colorbar\":{\"outlinewidth\":0,\"ticks\":\"\"}}}],\"scatterpolargl\":[{\"type\":\"scatterpolargl\",\"marker\":{\"colorbar\":{\"outlinewidth\":0,\"ticks\":\"\"}}}],\"bar\":[{\"error_x\":{\"color\":\"#2a3f5f\"},\"error_y\":{\"color\":\"#2a3f5f\"},\"marker\":{\"line\":{\"color\":\"#E5ECF6\",\"width\":0.5},\"pattern\":{\"fillmode\":\"overlay\",\"size\":10,\"solidity\":0.2}},\"type\":\"bar\"}],\"scattergeo\":[{\"type\":\"scattergeo\",\"marker\":{\"colorbar\":{\"outlinewidth\":0,\"ticks\":\"\"}}}],\"scatterpolar\":[{\"type\":\"scatterpolar\",\"marker\":{\"colorbar\":{\"outlinewidth\":0,\"ticks\":\"\"}}}],\"histogram\":[{\"marker\":{\"pattern\":{\"fillmode\":\"overlay\",\"size\":10,\"solidity\":0.2}},\"type\":\"histogram\"}],\"scattergl\":[{\"type\":\"scattergl\",\"marker\":{\"colorbar\":{\"outlinewidth\":0,\"ticks\":\"\"}}}],\"scatter3d\":[{\"type\":\"scatter3d\",\"line\":{\"colorbar\":{\"outlinewidth\":0,\"ticks\":\"\"}},\"marker\":{\"colorbar\":{\"outlinewidth\":0,\"ticks\":\"\"}}}],\"scattermapbox\":[{\"type\":\"scattermapbox\",\"marker\":{\"colorbar\":{\"outlinewidth\":0,\"ticks\":\"\"}}}],\"scatterternary\":[{\"type\":\"scatterternary\",\"marker\":{\"colorbar\":{\"outlinewidth\":0,\"ticks\":\"\"}}}],\"scattercarpet\":[{\"type\":\"scattercarpet\",\"marker\":{\"colorbar\":{\"outlinewidth\":0,\"ticks\":\"\"}}}],\"carpet\":[{\"aaxis\":{\"endlinecolor\":\"#2a3f5f\",\"gridcolor\":\"white\",\"linecolor\":\"white\",\"minorgridcolor\":\"white\",\"startlinecolor\":\"#2a3f5f\"},\"baxis\":{\"endlinecolor\":\"#2a3f5f\",\"gridcolor\":\"white\",\"linecolor\":\"white\",\"minorgridcolor\":\"white\",\"startlinecolor\":\"#2a3f5f\"},\"type\":\"carpet\"}],\"table\":[{\"cells\":{\"fill\":{\"color\":\"#EBF0F8\"},\"line\":{\"color\":\"white\"}},\"header\":{\"fill\":{\"color\":\"#C8D4E3\"},\"line\":{\"color\":\"white\"}},\"type\":\"table\"}],\"barpolar\":[{\"marker\":{\"line\":{\"color\":\"#E5ECF6\",\"width\":0.5},\"pattern\":{\"fillmode\":\"overlay\",\"size\":10,\"solidity\":0.2}},\"type\":\"barpolar\"}],\"pie\":[{\"automargin\":true,\"type\":\"pie\"}]},\"layout\":{\"autotypenumbers\":\"strict\",\"colorway\":[\"#636efa\",\"#EF553B\",\"#00cc96\",\"#ab63fa\",\"#FFA15A\",\"#19d3f3\",\"#FF6692\",\"#B6E880\",\"#FF97FF\",\"#FECB52\"],\"font\":{\"color\":\"#2a3f5f\"},\"hovermode\":\"closest\",\"hoverlabel\":{\"align\":\"left\"},\"paper_bgcolor\":\"white\",\"plot_bgcolor\":\"#E5ECF6\",\"polar\":{\"bgcolor\":\"#E5ECF6\",\"angularaxis\":{\"gridcolor\":\"white\",\"linecolor\":\"white\",\"ticks\":\"\"},\"radialaxis\":{\"gridcolor\":\"white\",\"linecolor\":\"white\",\"ticks\":\"\"}},\"ternary\":{\"bgcolor\":\"#E5ECF6\",\"aaxis\":{\"gridcolor\":\"white\",\"linecolor\":\"white\",\"ticks\":\"\"},\"baxis\":{\"gridcolor\":\"white\",\"linecolor\":\"white\",\"ticks\":\"\"},\"caxis\":{\"gridcolor\":\"white\",\"linecolor\":\"white\",\"ticks\":\"\"}},\"coloraxis\":{\"colorbar\":{\"outlinewidth\":0,\"ticks\":\"\"}},\"colorscale\":{\"sequential\":[[0.0,\"#0d0887\"],[0.1111111111111111,\"#46039f\"],[0.2222222222222222,\"#7201a8\"],[0.3333333333333333,\"#9c179e\"],[0.4444444444444444,\"#bd3786\"],[0.5555555555555556,\"#d8576b\"],[0.6666666666666666,\"#ed7953\"],[0.7777777777777778,\"#fb9f3a\"],[0.8888888888888888,\"#fdca26\"],[1.0,\"#f0f921\"]],\"sequentialminus\":[[0.0,\"#0d0887\"],[0.1111111111111111,\"#46039f\"],[0.2222222222222222,\"#7201a8\"],[0.3333333333333333,\"#9c179e\"],[0.4444444444444444,\"#bd3786\"],[0.5555555555555556,\"#d8576b\"],[0.6666666666666666,\"#ed7953\"],[0.7777777777777778,\"#fb9f3a\"],[0.8888888888888888,\"#fdca26\"],[1.0,\"#f0f921\"]],\"diverging\":[[0,\"#8e0152\"],[0.1,\"#c51b7d\"],[0.2,\"#de77ae\"],[0.3,\"#f1b6da\"],[0.4,\"#fde0ef\"],[0.5,\"#f7f7f7\"],[0.6,\"#e6f5d0\"],[0.7,\"#b8e186\"],[0.8,\"#7fbc41\"],[0.9,\"#4d9221\"],[1,\"#276419\"]]},\"xaxis\":{\"gridcolor\":\"white\",\"linecolor\":\"white\",\"ticks\":\"\",\"title\":{\"standoff\":15},\"zerolinecolor\":\"white\",\"automargin\":true,\"zerolinewidth\":2},\"yaxis\":{\"gridcolor\":\"white\",\"linecolor\":\"white\",\"ticks\":\"\",\"title\":{\"standoff\":15},\"zerolinecolor\":\"white\",\"automargin\":true,\"zerolinewidth\":2},\"scene\":{\"xaxis\":{\"backgroundcolor\":\"#E5ECF6\",\"gridcolor\":\"white\",\"linecolor\":\"white\",\"showbackground\":true,\"ticks\":\"\",\"zerolinecolor\":\"white\",\"gridwidth\":2},\"yaxis\":{\"backgroundcolor\":\"#E5ECF6\",\"gridcolor\":\"white\",\"linecolor\":\"white\",\"showbackground\":true,\"ticks\":\"\",\"zerolinecolor\":\"white\",\"gridwidth\":2},\"zaxis\":{\"backgroundcolor\":\"#E5ECF6\",\"gridcolor\":\"white\",\"linecolor\":\"white\",\"showbackground\":true,\"ticks\":\"\",\"zerolinecolor\":\"white\",\"gridwidth\":2}},\"shapedefaults\":{\"line\":{\"color\":\"#2a3f5f\"}},\"annotationdefaults\":{\"arrowcolor\":\"#2a3f5f\",\"arrowhead\":0,\"arrowwidth\":1},\"geo\":{\"bgcolor\":\"white\",\"landcolor\":\"#E5ECF6\",\"subunitcolor\":\"white\",\"showland\":true,\"showlakes\":true,\"lakecolor\":\"white\"},\"title\":{\"x\":0.05},\"mapbox\":{\"style\":\"light\"}}}},                        {\"responsive\": true}                    ).then(function(){\n",
       "                            \n",
       "var gd = document.getElementById('40ab4a74-820a-48b4-a25f-da3cd4a70262');\n",
       "var x = new MutationObserver(function (mutations, observer) {{\n",
       "        var display = window.getComputedStyle(gd).display;\n",
       "        if (!display || display === 'none') {{\n",
       "            console.log([gd, 'removed!']);\n",
       "            Plotly.purge(gd);\n",
       "            observer.disconnect();\n",
       "        }}\n",
       "}});\n",
       "\n",
       "// Listen for the removal of the full notebook cells\n",
       "var notebookContainer = gd.closest('#notebook-container');\n",
       "if (notebookContainer) {{\n",
       "    x.observe(notebookContainer, {childList: true});\n",
       "}}\n",
       "\n",
       "// Listen for the clearing of the current output cell\n",
       "var outputEl = gd.closest('.output');\n",
       "if (outputEl) {{\n",
       "    x.observe(outputEl, {childList: true});\n",
       "}}\n",
       "\n",
       "                        })                };                });            </script>        </div>"
      ]
     },
     "metadata": {},
     "output_type": "display_data"
    }
   ],
   "source": [
    "# Table of stats\n",
    "stats = go.Figure(data=[go.Table(header=dict(values=['Statistic', 'Percent of Population in Urban Areas', 'Percent of Adult Population Completed Primary Vaccination Series']),\n",
    "                 cells=dict(values=[['Max', 'Mean', 'Median', 'Min', 'Standard Deviation'], [x_val2_max, x_val2_mean, x_val2_median, x_val2_min, round(x_val2_std, 2)], [y_val2_max, y_val2_mean, y_val2_median, y_val2_min, round(y_val2_std, 2)]]))\n",
    "                     ])\n",
    "stats.show()\n",
    "stats.write_image(\"./urban_and_vaccination_stats_table.png\")"
   ]
  },
  {
   "cell_type": "code",
   "execution_count": null,
   "id": "936d2089",
   "metadata": {},
   "outputs": [],
   "source": []
  }
 ],
 "metadata": {
  "kernelspec": {
   "display_name": "Python 3 (ipykernel)",
   "language": "python",
   "name": "python3"
  },
  "language_info": {
   "codemirror_mode": {
    "name": "ipython",
    "version": 3
   },
   "file_extension": ".py",
   "mimetype": "text/x-python",
   "name": "python",
   "nbconvert_exporter": "python",
   "pygments_lexer": "ipython3",
   "version": "3.10.13"
  }
 },
 "nbformat": 4,
 "nbformat_minor": 5
}
