{
 "cells": [
  {
   "cell_type": "code",
   "execution_count": 4,
   "id": "44066b70",
   "metadata": {},
   "outputs": [],
   "source": [
    "#dependencies\n",
    "import pandas as pd\n",
    "from pathlib import Path\n",
    "import matplotlib.pyplot as plt\n",
    "import scipy.stats as st\n",
    "import numpy as np\n",
    "from scipy.stats import linregress"
   ]
  },
  {
   "cell_type": "code",
   "execution_count": 5,
   "id": "f819aead",
   "metadata": {},
   "outputs": [
    {
     "ename": "FileNotFoundError",
     "evalue": "[Errno 2] No such file or directory: '../datasets/provider_locations.csv'",
     "output_type": "error",
     "traceback": [
      "\u001b[0;31m---------------------------------------------------------------------------\u001b[0m",
      "\u001b[0;31mFileNotFoundError\u001b[0m                         Traceback (most recent call last)",
      "Cell \u001b[0;32mIn[5], line 3\u001b[0m\n\u001b[1;32m      1\u001b[0m \u001b[38;5;66;03m#setting file path\u001b[39;00m\n\u001b[1;32m      2\u001b[0m file \u001b[38;5;241m=\u001b[39m Path(\u001b[38;5;124m\"\u001b[39m\u001b[38;5;124m../datasets/provider_locations.csv\u001b[39m\u001b[38;5;124m\"\u001b[39m)\n\u001b[0;32m----> 3\u001b[0m provider_df \u001b[38;5;241m=\u001b[39m pd\u001b[38;5;241m.\u001b[39mread_csv(file)\n\u001b[1;32m      4\u001b[0m provider_df\u001b[38;5;241m.\u001b[39mhead()\n",
      "File \u001b[0;32m~/anaconda3/lib/python3.11/site-packages/pandas/io/parsers/readers.py:948\u001b[0m, in \u001b[0;36mread_csv\u001b[0;34m(filepath_or_buffer, sep, delimiter, header, names, index_col, usecols, dtype, engine, converters, true_values, false_values, skipinitialspace, skiprows, skipfooter, nrows, na_values, keep_default_na, na_filter, verbose, skip_blank_lines, parse_dates, infer_datetime_format, keep_date_col, date_parser, date_format, dayfirst, cache_dates, iterator, chunksize, compression, thousands, decimal, lineterminator, quotechar, quoting, doublequote, escapechar, comment, encoding, encoding_errors, dialect, on_bad_lines, delim_whitespace, low_memory, memory_map, float_precision, storage_options, dtype_backend)\u001b[0m\n\u001b[1;32m    935\u001b[0m kwds_defaults \u001b[38;5;241m=\u001b[39m _refine_defaults_read(\n\u001b[1;32m    936\u001b[0m     dialect,\n\u001b[1;32m    937\u001b[0m     delimiter,\n\u001b[0;32m   (...)\u001b[0m\n\u001b[1;32m    944\u001b[0m     dtype_backend\u001b[38;5;241m=\u001b[39mdtype_backend,\n\u001b[1;32m    945\u001b[0m )\n\u001b[1;32m    946\u001b[0m kwds\u001b[38;5;241m.\u001b[39mupdate(kwds_defaults)\n\u001b[0;32m--> 948\u001b[0m \u001b[38;5;28;01mreturn\u001b[39;00m _read(filepath_or_buffer, kwds)\n",
      "File \u001b[0;32m~/anaconda3/lib/python3.11/site-packages/pandas/io/parsers/readers.py:611\u001b[0m, in \u001b[0;36m_read\u001b[0;34m(filepath_or_buffer, kwds)\u001b[0m\n\u001b[1;32m    608\u001b[0m _validate_names(kwds\u001b[38;5;241m.\u001b[39mget(\u001b[38;5;124m\"\u001b[39m\u001b[38;5;124mnames\u001b[39m\u001b[38;5;124m\"\u001b[39m, \u001b[38;5;28;01mNone\u001b[39;00m))\n\u001b[1;32m    610\u001b[0m \u001b[38;5;66;03m# Create the parser.\u001b[39;00m\n\u001b[0;32m--> 611\u001b[0m parser \u001b[38;5;241m=\u001b[39m TextFileReader(filepath_or_buffer, \u001b[38;5;241m*\u001b[39m\u001b[38;5;241m*\u001b[39mkwds)\n\u001b[1;32m    613\u001b[0m \u001b[38;5;28;01mif\u001b[39;00m chunksize \u001b[38;5;129;01mor\u001b[39;00m iterator:\n\u001b[1;32m    614\u001b[0m     \u001b[38;5;28;01mreturn\u001b[39;00m parser\n",
      "File \u001b[0;32m~/anaconda3/lib/python3.11/site-packages/pandas/io/parsers/readers.py:1448\u001b[0m, in \u001b[0;36mTextFileReader.__init__\u001b[0;34m(self, f, engine, **kwds)\u001b[0m\n\u001b[1;32m   1445\u001b[0m     \u001b[38;5;28mself\u001b[39m\u001b[38;5;241m.\u001b[39moptions[\u001b[38;5;124m\"\u001b[39m\u001b[38;5;124mhas_index_names\u001b[39m\u001b[38;5;124m\"\u001b[39m] \u001b[38;5;241m=\u001b[39m kwds[\u001b[38;5;124m\"\u001b[39m\u001b[38;5;124mhas_index_names\u001b[39m\u001b[38;5;124m\"\u001b[39m]\n\u001b[1;32m   1447\u001b[0m \u001b[38;5;28mself\u001b[39m\u001b[38;5;241m.\u001b[39mhandles: IOHandles \u001b[38;5;241m|\u001b[39m \u001b[38;5;28;01mNone\u001b[39;00m \u001b[38;5;241m=\u001b[39m \u001b[38;5;28;01mNone\u001b[39;00m\n\u001b[0;32m-> 1448\u001b[0m \u001b[38;5;28mself\u001b[39m\u001b[38;5;241m.\u001b[39m_engine \u001b[38;5;241m=\u001b[39m \u001b[38;5;28mself\u001b[39m\u001b[38;5;241m.\u001b[39m_make_engine(f, \u001b[38;5;28mself\u001b[39m\u001b[38;5;241m.\u001b[39mengine)\n",
      "File \u001b[0;32m~/anaconda3/lib/python3.11/site-packages/pandas/io/parsers/readers.py:1705\u001b[0m, in \u001b[0;36mTextFileReader._make_engine\u001b[0;34m(self, f, engine)\u001b[0m\n\u001b[1;32m   1703\u001b[0m     \u001b[38;5;28;01mif\u001b[39;00m \u001b[38;5;124m\"\u001b[39m\u001b[38;5;124mb\u001b[39m\u001b[38;5;124m\"\u001b[39m \u001b[38;5;129;01mnot\u001b[39;00m \u001b[38;5;129;01min\u001b[39;00m mode:\n\u001b[1;32m   1704\u001b[0m         mode \u001b[38;5;241m+\u001b[39m\u001b[38;5;241m=\u001b[39m \u001b[38;5;124m\"\u001b[39m\u001b[38;5;124mb\u001b[39m\u001b[38;5;124m\"\u001b[39m\n\u001b[0;32m-> 1705\u001b[0m \u001b[38;5;28mself\u001b[39m\u001b[38;5;241m.\u001b[39mhandles \u001b[38;5;241m=\u001b[39m get_handle(\n\u001b[1;32m   1706\u001b[0m     f,\n\u001b[1;32m   1707\u001b[0m     mode,\n\u001b[1;32m   1708\u001b[0m     encoding\u001b[38;5;241m=\u001b[39m\u001b[38;5;28mself\u001b[39m\u001b[38;5;241m.\u001b[39moptions\u001b[38;5;241m.\u001b[39mget(\u001b[38;5;124m\"\u001b[39m\u001b[38;5;124mencoding\u001b[39m\u001b[38;5;124m\"\u001b[39m, \u001b[38;5;28;01mNone\u001b[39;00m),\n\u001b[1;32m   1709\u001b[0m     compression\u001b[38;5;241m=\u001b[39m\u001b[38;5;28mself\u001b[39m\u001b[38;5;241m.\u001b[39moptions\u001b[38;5;241m.\u001b[39mget(\u001b[38;5;124m\"\u001b[39m\u001b[38;5;124mcompression\u001b[39m\u001b[38;5;124m\"\u001b[39m, \u001b[38;5;28;01mNone\u001b[39;00m),\n\u001b[1;32m   1710\u001b[0m     memory_map\u001b[38;5;241m=\u001b[39m\u001b[38;5;28mself\u001b[39m\u001b[38;5;241m.\u001b[39moptions\u001b[38;5;241m.\u001b[39mget(\u001b[38;5;124m\"\u001b[39m\u001b[38;5;124mmemory_map\u001b[39m\u001b[38;5;124m\"\u001b[39m, \u001b[38;5;28;01mFalse\u001b[39;00m),\n\u001b[1;32m   1711\u001b[0m     is_text\u001b[38;5;241m=\u001b[39mis_text,\n\u001b[1;32m   1712\u001b[0m     errors\u001b[38;5;241m=\u001b[39m\u001b[38;5;28mself\u001b[39m\u001b[38;5;241m.\u001b[39moptions\u001b[38;5;241m.\u001b[39mget(\u001b[38;5;124m\"\u001b[39m\u001b[38;5;124mencoding_errors\u001b[39m\u001b[38;5;124m\"\u001b[39m, \u001b[38;5;124m\"\u001b[39m\u001b[38;5;124mstrict\u001b[39m\u001b[38;5;124m\"\u001b[39m),\n\u001b[1;32m   1713\u001b[0m     storage_options\u001b[38;5;241m=\u001b[39m\u001b[38;5;28mself\u001b[39m\u001b[38;5;241m.\u001b[39moptions\u001b[38;5;241m.\u001b[39mget(\u001b[38;5;124m\"\u001b[39m\u001b[38;5;124mstorage_options\u001b[39m\u001b[38;5;124m\"\u001b[39m, \u001b[38;5;28;01mNone\u001b[39;00m),\n\u001b[1;32m   1714\u001b[0m )\n\u001b[1;32m   1715\u001b[0m \u001b[38;5;28;01massert\u001b[39;00m \u001b[38;5;28mself\u001b[39m\u001b[38;5;241m.\u001b[39mhandles \u001b[38;5;129;01mis\u001b[39;00m \u001b[38;5;129;01mnot\u001b[39;00m \u001b[38;5;28;01mNone\u001b[39;00m\n\u001b[1;32m   1716\u001b[0m f \u001b[38;5;241m=\u001b[39m \u001b[38;5;28mself\u001b[39m\u001b[38;5;241m.\u001b[39mhandles\u001b[38;5;241m.\u001b[39mhandle\n",
      "File \u001b[0;32m~/anaconda3/lib/python3.11/site-packages/pandas/io/common.py:863\u001b[0m, in \u001b[0;36mget_handle\u001b[0;34m(path_or_buf, mode, encoding, compression, memory_map, is_text, errors, storage_options)\u001b[0m\n\u001b[1;32m    858\u001b[0m \u001b[38;5;28;01melif\u001b[39;00m \u001b[38;5;28misinstance\u001b[39m(handle, \u001b[38;5;28mstr\u001b[39m):\n\u001b[1;32m    859\u001b[0m     \u001b[38;5;66;03m# Check whether the filename is to be opened in binary mode.\u001b[39;00m\n\u001b[1;32m    860\u001b[0m     \u001b[38;5;66;03m# Binary mode does not support 'encoding' and 'newline'.\u001b[39;00m\n\u001b[1;32m    861\u001b[0m     \u001b[38;5;28;01mif\u001b[39;00m ioargs\u001b[38;5;241m.\u001b[39mencoding \u001b[38;5;129;01mand\u001b[39;00m \u001b[38;5;124m\"\u001b[39m\u001b[38;5;124mb\u001b[39m\u001b[38;5;124m\"\u001b[39m \u001b[38;5;129;01mnot\u001b[39;00m \u001b[38;5;129;01min\u001b[39;00m ioargs\u001b[38;5;241m.\u001b[39mmode:\n\u001b[1;32m    862\u001b[0m         \u001b[38;5;66;03m# Encoding\u001b[39;00m\n\u001b[0;32m--> 863\u001b[0m         handle \u001b[38;5;241m=\u001b[39m \u001b[38;5;28mopen\u001b[39m(\n\u001b[1;32m    864\u001b[0m             handle,\n\u001b[1;32m    865\u001b[0m             ioargs\u001b[38;5;241m.\u001b[39mmode,\n\u001b[1;32m    866\u001b[0m             encoding\u001b[38;5;241m=\u001b[39mioargs\u001b[38;5;241m.\u001b[39mencoding,\n\u001b[1;32m    867\u001b[0m             errors\u001b[38;5;241m=\u001b[39merrors,\n\u001b[1;32m    868\u001b[0m             newline\u001b[38;5;241m=\u001b[39m\u001b[38;5;124m\"\u001b[39m\u001b[38;5;124m\"\u001b[39m,\n\u001b[1;32m    869\u001b[0m         )\n\u001b[1;32m    870\u001b[0m     \u001b[38;5;28;01melse\u001b[39;00m:\n\u001b[1;32m    871\u001b[0m         \u001b[38;5;66;03m# Binary mode\u001b[39;00m\n\u001b[1;32m    872\u001b[0m         handle \u001b[38;5;241m=\u001b[39m \u001b[38;5;28mopen\u001b[39m(handle, ioargs\u001b[38;5;241m.\u001b[39mmode)\n",
      "\u001b[0;31mFileNotFoundError\u001b[0m: [Errno 2] No such file or directory: '../datasets/provider_locations.csv'"
     ]
    }
   ],
   "source": [
    "#setting file path\n",
    "file = Path(\"../datasets/provider_locations.csv\")\n",
    "provider_df = pd.read_csv(file)\n",
    "provider_df.head()"
   ]
  },
  {
   "cell_type": "code",
   "execution_count": null,
   "id": "33d09c39",
   "metadata": {},
   "outputs": [],
   "source": [
    "#second file path\n",
    "file2 = Path(\"../datasets/2020census_urban_vs_rural.csv\")\n",
    "census_df = pd.read_csv(file2)\n",
    "census_df.head()"
   ]
  },
  {
   "cell_type": "code",
   "execution_count": null,
   "id": "0deb5d03",
   "metadata": {},
   "outputs": [],
   "source": [
    "#third file path\n",
    "file3 = Path(\"../datasets/cleaned_death_rates.csv\")\n",
    "death_rates_df = pd.read_csv(file3)\n",
    "death_rates_df.head()"
   ]
  },
  {
   "cell_type": "code",
   "execution_count": null,
   "id": "5ec73fb1",
   "metadata": {},
   "outputs": [],
   "source": [
    "#4th file path\n",
    "file4 = Path(\"../datasets/covid19_vaccinations.csv\")\n",
    "vaccine_df = pd.read_csv(file4)\n",
    "vaccine_df.head()"
   ]
  },
  {
   "cell_type": "code",
   "execution_count": null,
   "id": "e10b222d",
   "metadata": {},
   "outputs": [],
   "source": [
    "#renaming columns for vaccine_df\n",
    "renamed_vaccine = vaccine_df.rename(columns = {\"Jurisdiction (State/Territory) or Federal Entity\":\"State\"})\n",
    "renamed_vaccine.head()"
   ]
  },
  {
   "cell_type": "code",
   "execution_count": null,
   "id": "35164dc0",
   "metadata": {},
   "outputs": [],
   "source": [
    "#renaming state column to do a merge\n",
    "renamed_census = census_df.rename(columns = {\"STATE NAME\":\"State\",\n",
    "                                  \"2020 TOTAL POP\" : \"Total Population\"})\n",
    "renamed_census.head()"
   ]
  },
  {
   "cell_type": "code",
   "execution_count": null,
   "id": "ec81bc93",
   "metadata": {
    "scrolled": false
   },
   "outputs": [],
   "source": [
    "#merging the dataframes\n",
    "merged_df = pd.merge(provider_df, renamed_census, on = \"State\")\n",
    "merged_df.head()"
   ]
  },
  {
   "cell_type": "code",
   "execution_count": null,
   "id": "c44e8bea",
   "metadata": {},
   "outputs": [],
   "source": [
    "#selecting only the columns i want to work with\n",
    "pop_vs_provider = merged_df[[\"State\", \"Total Population\", \"Total Providers\"]]\n",
    "pop_vs_provider.head()"
   ]
  },
  {
   "cell_type": "code",
   "execution_count": null,
   "id": "efe6242a",
   "metadata": {},
   "outputs": [],
   "source": [
    "#looking at the datatypes of each column\n",
    "pop_vs_provider.dtypes"
   ]
  },
  {
   "cell_type": "code",
   "execution_count": null,
   "id": "f1f68eef",
   "metadata": {},
   "outputs": [],
   "source": [
    "#removing the formatting of total population values so it could be converted to an integer to perform calculations\n",
    "pop_vs_provider[\"Total Population\"] = pop_vs_provider[\"Total Population\"].str.replace(',',\"\")\n",
    "\n",
    "pop_vs_provider.head()"
   ]
  },
  {
   "cell_type": "code",
   "execution_count": null,
   "id": "a1680176",
   "metadata": {
    "scrolled": true
   },
   "outputs": [],
   "source": [
    "#changing the total population column to numeric\n",
    "pop_vs_provider[\"Total Population\"] = pd.to_numeric(pop_vs_provider[\"Total Population\"])\n",
    "pop_vs_provider.dtypes"
   ]
  },
  {
   "cell_type": "code",
   "execution_count": null,
   "id": "465d0d86",
   "metadata": {},
   "outputs": [],
   "source": [
    "#displaying the dataframe\n",
    "pop_vs_provider.head()"
   ]
  },
  {
   "cell_type": "code",
   "execution_count": null,
   "id": "6a167eba",
   "metadata": {},
   "outputs": [],
   "source": [
    "#finding the % of available providers relative to population and adding it to a new column on the df\n",
    "percent = pop_vs_provider[\"Total Providers\"] / pop_vs_provider[\"Total Population\"]*100\n",
    "pop_vs_provider[\"% of Providers Relative to Pop\"] = percent\n",
    "pop_vs_provider.head()"
   ]
  },
  {
   "cell_type": "code",
   "execution_count": null,
   "id": "58eaad5f",
   "metadata": {},
   "outputs": [],
   "source": [
    "#making total population in more managable numbers \n",
    "per_2M = pop_vs_provider[\"Total Population\"] / 2000000\n",
    "pop_vs_provider[\"Total Population per 2M\"] = per_2M\n",
    "pop_vs_provider.head()"
   ]
  },
  {
   "cell_type": "code",
   "execution_count": null,
   "id": "43bca2b0",
   "metadata": {},
   "outputs": [],
   "source": [
    "#creating a new df that holds columns i want\n",
    "filtered_providers = pop_vs_provider[[\"State\", \"% of Providers Relative to Pop\", \"Total Population per 2M\"]]\n",
    "filtered_providers.head()"
   ]
  },
  {
   "cell_type": "code",
   "execution_count": null,
   "id": "fc5f7153",
   "metadata": {},
   "outputs": [],
   "source": [
    "#narrowing down df more\n",
    "provider_percent = pop_vs_provider[[\"State\", \"% of Providers Relative to Pop\"]]\n",
    "provider_percent.head()"
   ]
  },
  {
   "cell_type": "code",
   "execution_count": null,
   "id": "4728b56a",
   "metadata": {},
   "outputs": [],
   "source": [
    "#setting index to state\n",
    "provider_percent2 = provider_percent.set_index(\"State\")\n",
    "provider_percent2.head()"
   ]
  },
  {
   "cell_type": "code",
   "execution_count": null,
   "id": "5cc2ee06",
   "metadata": {},
   "outputs": [],
   "source": [
    "#creating a bar graph displaying % of providers relative to pop by state\n",
    "percent_bar = provider_percent2.plot(kind=\"bar\", color=\"blue\", figsize=(30,14))\n",
    "plt.xlabel(\"State\")\n",
    "plt.ylabel(\"% of Providers Relative to Pop\")\n",
    "\n",
    "#set a title for the chart\n",
    "plt.title(\"% of Providers Per State Population\")\n",
    "\n",
    "#saving chart\n",
    "plt.savefig(\"providers_per_state_pop.png\")\n",
    "#showing the chart\n",
    "plt.show()"
   ]
  },
  {
   "cell_type": "code",
   "execution_count": null,
   "id": "d94c6a39",
   "metadata": {},
   "outputs": [],
   "source": [
    "deaths_provider_merged = pd.merge(provider_percent, death_rates_df, on = \"State\")\n",
    "deaths_provider_merged.head()"
   ]
  },
  {
   "cell_type": "code",
   "execution_count": null,
   "id": "fe8a9891",
   "metadata": {},
   "outputs": [],
   "source": [
    "filtered_merged = deaths_provider_merged[[\"State\", \"% of Providers Relative to Pop\", \"Rate\"]]\n",
    "filtered_merged.head()"
   ]
  },
  {
   "cell_type": "code",
   "execution_count": null,
   "id": "bd10fc5a",
   "metadata": {},
   "outputs": [],
   "source": [
    "filtered_merged2 = filtered_merged.set_index(\"State\")\n",
    "filtered_merged2.head()"
   ]
  },
  {
   "cell_type": "code",
   "execution_count": null,
   "id": "42741fe5",
   "metadata": {},
   "outputs": [],
   "source": [
    "fig1, ax1 = plt.subplots(figsize=(6, 5))\n",
    "plt.scatter(filtered_merged2[\"Rate\"], \n",
    "            filtered_merged2[\"% of Providers Relative to Pop\"], color=\"blue\")\n",
    "plt.xlabel(\"Rate\")\n",
    "plt.ylabel(\"% of Providers Relative to Pop\")\n",
    "\n",
    "plt.show()"
   ]
  },
  {
   "cell_type": "code",
   "execution_count": null,
   "id": "bf581865",
   "metadata": {},
   "outputs": [],
   "source": [
    "#building the line regression equation and held the x and y values in a variable so it was easier to plot\n",
    "#without having to retype\n",
    "x_values = filtered_merged2[\"Rate\"]\n",
    "y_values = filtered_merged2[\"% of Providers Relative to Pop\"]\n",
    "\n",
    "(slope, intercept, rvalue, pvalue, stderr) = linregress(x_values, y_values)\n",
    "regress_values = x_values * slope + intercept\n",
    "\n",
    "line_eq = \"y = \" + str(round(slope,2)) + \"x + \" + str(round(intercept,2))\n",
    "\n",
    "#print statement for pearsonr\n",
    "correlation = round(st.pearsonr(filtered_merged2[\"Rate\"], \n",
    "                                filtered_merged2[\"% of Providers Relative to Pop\"])[0],2)\n",
    "print(f\"The correlation between death rate and the percent of providers relative to state population is: {correlation}\")\n",
    "\n",
    "#plotting the same scatter with the regression line\n",
    "plt.scatter(filtered_merged2[\"Rate\"], filtered_merged2[\"% of Providers Relative to Pop\"], color=\"blue\")\n",
    "plt.plot(x_values, regress_values, \"r-\")\n",
    "plt.annotate(line_eq,(5.8,0.8), color = \"red\")\n",
    "plt.xlabel(\"Rate\")\n",
    "plt.ylabel(\"% of Providers Relative to Pop\")\n",
    "plt.show()"
   ]
  },
  {
   "cell_type": "code",
   "execution_count": null,
   "id": "e2fb5a59",
   "metadata": {},
   "outputs": [],
   "source": [
    "deaths_provider_merged2 = pd.merge(pop_vs_provider, death_rates_df, on = \"State\")\n",
    "deaths_provider_merged2.head()"
   ]
  },
  {
   "cell_type": "code",
   "execution_count": null,
   "id": "ad2d87d2",
   "metadata": {},
   "outputs": [],
   "source": [
    "cleaned_merged2 = deaths_provider_merged2[[\"State\", \"Total Providers\", \"Rate\"]]\n",
    "cleaned_merged2.head()"
   ]
  },
  {
   "cell_type": "code",
   "execution_count": null,
   "id": "ee9e7867",
   "metadata": {},
   "outputs": [],
   "source": [
    "cleaned_merged3 = cleaned_merged2.set_index(\"State\")\n",
    "cleaned_merged3.head()"
   ]
  },
  {
   "cell_type": "code",
   "execution_count": null,
   "id": "7623ed82",
   "metadata": {},
   "outputs": [],
   "source": [
    "fig1, ax1 = plt.subplots(figsize=(6, 5))\n",
    "plt.scatter(cleaned_merged3[\"Rate\"], \n",
    "            cleaned_merged3[\"Total Providers\"], color=\"blue\")\n",
    "plt.xlabel(\"Rate\")\n",
    "plt.ylabel(\"Total Providers\")\n",
    "\n",
    "plt.show()"
   ]
  },
  {
   "cell_type": "code",
   "execution_count": null,
   "id": "749c880c",
   "metadata": {},
   "outputs": [],
   "source": [
    "#building the line regression equation and held the x and y values in a variable so it was easier to plot\n",
    "#without having to retype\n",
    "x_values = cleaned_merged3[\"Rate\"]\n",
    "y_values = cleaned_merged3[\"Total Providers\"]\n",
    "\n",
    "(slope, intercept, rvalue, pvalue, stderr) = linregress(x_values, y_values)\n",
    "regress_values = x_values * slope + intercept\n",
    "\n",
    "line_eq = \"y = \" + str(round(slope,2)) + \"x + \" + str(round(intercept,2))\n",
    "\n",
    "#print statement for pearsonr\n",
    "correlation = round(st.pearsonr(cleaned_merged3[\"Rate\"], \n",
    "                                cleaned_merged3[\"Total Providers\"])[0],2)\n",
    "print(f\"The correlation between death rate and the percent of providers relative to state population is: {correlation}\")\n",
    "\n",
    "#plotting same scatter\n",
    "fig1, ax1 = plt.subplots(figsize=(7, 5))\n",
    "plt.scatter(cleaned_merged3[\"Rate\"], \n",
    "            cleaned_merged3[\"Total Providers\"], color=\"blue\")\n",
    "plt.plot(x_values, regress_values, \"r-\")\n",
    "plt.annotate(line_eq,(5.8,0.8), color = \"red\")\n",
    "plt.xlabel(\"Death Rate\")\n",
    "plt.ylabel(\"Total Providers\")\n",
    "plt.title(\"# of Total Providers Per State vs Death Rate\")\n",
    "#saving the graph\n",
    "plt.savefig(\"total_providers_vs_death.png\")\n",
    "#showing the graph\n",
    "plt.show()"
   ]
  },
  {
   "cell_type": "markdown",
   "id": "610ac0ab",
   "metadata": {},
   "source": [
    "In analyzing the correlation between the COVID-19 death rate per state and number of total providers, the r-value was calculated to be 0.18. This is considered a very weak correlation, which conflicts with our hypothesis that states with more available vaccine providers will have a lower death rate."
   ]
  },
  {
   "cell_type": "code",
   "execution_count": null,
   "id": "b408133b",
   "metadata": {},
   "outputs": [],
   "source": [
    "providers_and_vaccines = pd.merge(deaths_provider_merged2, renamed_vaccine, on = \"State\")\n",
    "providers_and_vaccines.head()"
   ]
  },
  {
   "cell_type": "code",
   "execution_count": null,
   "id": "120ede87",
   "metadata": {},
   "outputs": [],
   "source": [
    "filtered = providers_and_vaccines[[\"State\", \n",
    "                                   \"% of Providers Relative to Pop\", \n",
    "                                   \"Percent of total pop with a completed primary series\"]]\n",
    "filtered.head()"
   ]
  },
  {
   "cell_type": "code",
   "execution_count": null,
   "id": "350c2b65",
   "metadata": {},
   "outputs": [],
   "source": [
    "filtered = filtered.set_index(\"State\")\n",
    "filtered.head()"
   ]
  },
  {
   "cell_type": "code",
   "execution_count": null,
   "id": "02b18d75",
   "metadata": {},
   "outputs": [],
   "source": [
    "fig1, ax1 = plt.subplots(figsize=(6, 5))\n",
    "plt.scatter(filtered[\"% of Providers Relative to Pop\"], \n",
    "            filtered[\"Percent of total pop with a completed primary series\"], color=\"blue\")\n",
    "plt.xlabel(\"% of Providers Relative to Pop\")\n",
    "plt.ylabel(\"Percent of total pop with a completed primary series\")\n",
    "\n",
    "plt.show()"
   ]
  },
  {
   "cell_type": "code",
   "execution_count": null,
   "id": "faefa678",
   "metadata": {},
   "outputs": [],
   "source": [
    "x_values = filtered[\"% of Providers Relative to Pop\"]\n",
    "y_values = filtered[\"Percent of total pop with a completed primary series\"]\n",
    "\n",
    "(slope, intercept, rvalue, pvalue, stderr) = linregress(x_values, y_values)\n",
    "regress_values = x_values * slope + intercept\n",
    "\n",
    "line_eq = \"y = \" + str(round(slope,2)) + \"x + \" + str(round(intercept,2))\n",
    "\n",
    "#print statement for pearsonr\n",
    "correlation = round(st.pearsonr(filtered[\"% of Providers Relative to Pop\"], \n",
    "                                filtered[\"Percent of total pop with a completed primary series\"])[0],2)\n",
    "print(f\"The correlation between available providers and the percent of the total population with a completed primary series is: {correlation}\")\n",
    "\n",
    "#plotting same scatter with regression\n",
    "fig1, ax1 = plt.subplots(figsize=(6, 5))\n",
    "plt.scatter(filtered[\"% of Providers Relative to Pop\"], \n",
    "            filtered[\"Percent of total pop with a completed primary series\"], color=\"blue\")\n",
    "plt.plot(x_values, regress_values, \"r-\")\n",
    "plt.annotate(line_eq,(5.8,0.8), color = \"red\")\n",
    "plt.xlabel(\"% of Providers Relative to Population\")\n",
    "plt.ylabel(\"% of Total Population With a Completed Primary Series\")\n",
    "plt.title(\"% Fully Vaccinated vs % of Providers Relative to Population\")\n",
    "#saving graph\n",
    "plt.savefig(\"percent_vaccinated_vs_percent_providers\")\n",
    "#showing graph\n",
    "plt.show()"
   ]
  },
  {
   "cell_type": "code",
   "execution_count": null,
   "id": "34bd2447",
   "metadata": {},
   "outputs": [],
   "source": [
    "filtered2 = providers_and_vaccines[[\"State\", \n",
    "                                   \"Total Providers\", \n",
    "                                   \"Percent of total pop with a completed primary series\"]]\n",
    "filtered2.head()"
   ]
  },
  {
   "cell_type": "code",
   "execution_count": null,
   "id": "bcadc690",
   "metadata": {},
   "outputs": [],
   "source": [
    "filtered2 = filtered2.set_index(\"State\")\n",
    "filtered2.head()"
   ]
  },
  {
   "cell_type": "code",
   "execution_count": null,
   "id": "ac6933f7",
   "metadata": {},
   "outputs": [],
   "source": [
    "fig1, ax1 = plt.subplots(figsize=(6, 5))\n",
    "plt.scatter(filtered2[\"Total Providers\"], \n",
    "            filtered2[\"Percent of total pop with a completed primary series\"], color=\"blue\")\n",
    "plt.xlabel(\"Total Providers\")\n",
    "plt.ylabel(\"% of Total Population with a Completed Primary Series\")\n",
    "\n",
    "plt.show()"
   ]
  },
  {
   "cell_type": "code",
   "execution_count": null,
   "id": "2af7e70a",
   "metadata": {},
   "outputs": [],
   "source": [
    "x_values = filtered2[\"Total Providers\"]\n",
    "y_values = filtered2[\"Percent of total pop with a completed primary series\"]\n",
    "\n",
    "(slope, intercept, rvalue, pvalue, stderr) = linregress(x_values, y_values)\n",
    "regress_values = x_values * slope + intercept\n",
    "\n",
    "line_eq = \"y = \" + str(round(slope,2)) + \"x + \" + str(round(intercept,2))\n",
    "\n",
    "#print statement for pearsonr\n",
    "correlation = round(st.pearsonr(filtered2[\"Total Providers\"], \n",
    "                                filtered2[\"Percent of total pop with a completed primary series\"])[0],2)\n",
    "print(f\"The correlation between total providers and the percent of the total population with a completed primary series is: {correlation}\")\n"
   ]
  },
  {
   "cell_type": "code",
   "execution_count": null,
   "id": "519273d3",
   "metadata": {},
   "outputs": [],
   "source": []
  }
 ],
 "metadata": {
  "kernelspec": {
   "display_name": "Python 3 (ipykernel)",
   "language": "python",
   "name": "python3"
  },
  "language_info": {
   "codemirror_mode": {
    "name": "ipython",
    "version": 3
   },
   "file_extension": ".py",
   "mimetype": "text/x-python",
   "name": "python",
   "nbconvert_exporter": "python",
   "pygments_lexer": "ipython3",
   "version": "3.11.5"
  }
 },
 "nbformat": 4,
 "nbformat_minor": 5
}
